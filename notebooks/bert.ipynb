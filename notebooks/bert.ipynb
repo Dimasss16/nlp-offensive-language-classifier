{
  "nbformat": 4,
  "nbformat_minor": 0,
  "metadata": {
    "colab": {
      "provenance": [],
      "gpuType": "T4"
    },
    "kernelspec": {
      "name": "python3",
      "display_name": "Python 3"
    },
    "language_info": {
      "name": "python"
    },
    "widgets": {
      "application/vnd.jupyter.widget-state+json": {
        "dfe25e154c3d40b7b8102dee822d7ef5": {
          "model_module": "@jupyter-widgets/controls",
          "model_name": "HBoxModel",
          "model_module_version": "1.5.0",
          "state": {
            "_dom_classes": [],
            "_model_module": "@jupyter-widgets/controls",
            "_model_module_version": "1.5.0",
            "_model_name": "HBoxModel",
            "_view_count": null,
            "_view_module": "@jupyter-widgets/controls",
            "_view_module_version": "1.5.0",
            "_view_name": "HBoxView",
            "box_style": "",
            "children": [
              "IPY_MODEL_8c925801febf4f1b88e0f82ede68a0d2",
              "IPY_MODEL_9c5b89f1c2b14771ad9e05ca3e83bca5",
              "IPY_MODEL_f3b7eb14443c46a4b84bdf73212a9029"
            ],
            "layout": "IPY_MODEL_f447a70955b04ea2be448eb6892e833c"
          }
        },
        "8c925801febf4f1b88e0f82ede68a0d2": {
          "model_module": "@jupyter-widgets/controls",
          "model_name": "HTMLModel",
          "model_module_version": "1.5.0",
          "state": {
            "_dom_classes": [],
            "_model_module": "@jupyter-widgets/controls",
            "_model_module_version": "1.5.0",
            "_model_name": "HTMLModel",
            "_view_count": null,
            "_view_module": "@jupyter-widgets/controls",
            "_view_module_version": "1.5.0",
            "_view_name": "HTMLView",
            "description": "",
            "description_tooltip": null,
            "layout": "IPY_MODEL_8e4a60dc9846466596b4a0d34055945e",
            "placeholder": "​",
            "style": "IPY_MODEL_369f06793e7d490da747a6def97beec7",
            "value": "tokenizer_config.json: 100%"
          }
        },
        "9c5b89f1c2b14771ad9e05ca3e83bca5": {
          "model_module": "@jupyter-widgets/controls",
          "model_name": "FloatProgressModel",
          "model_module_version": "1.5.0",
          "state": {
            "_dom_classes": [],
            "_model_module": "@jupyter-widgets/controls",
            "_model_module_version": "1.5.0",
            "_model_name": "FloatProgressModel",
            "_view_count": null,
            "_view_module": "@jupyter-widgets/controls",
            "_view_module_version": "1.5.0",
            "_view_name": "ProgressView",
            "bar_style": "success",
            "description": "",
            "description_tooltip": null,
            "layout": "IPY_MODEL_d3468ac075494ea69961b6a1ff422b48",
            "max": 48,
            "min": 0,
            "orientation": "horizontal",
            "style": "IPY_MODEL_41b5b5faa8284d1d9aa4b0d7622b3c90",
            "value": 48
          }
        },
        "f3b7eb14443c46a4b84bdf73212a9029": {
          "model_module": "@jupyter-widgets/controls",
          "model_name": "HTMLModel",
          "model_module_version": "1.5.0",
          "state": {
            "_dom_classes": [],
            "_model_module": "@jupyter-widgets/controls",
            "_model_module_version": "1.5.0",
            "_model_name": "HTMLModel",
            "_view_count": null,
            "_view_module": "@jupyter-widgets/controls",
            "_view_module_version": "1.5.0",
            "_view_name": "HTMLView",
            "description": "",
            "description_tooltip": null,
            "layout": "IPY_MODEL_d5db6657940f401d9b177d9cbbeab22d",
            "placeholder": "​",
            "style": "IPY_MODEL_0705800b6d8247c5b6db78d6f40d90d9",
            "value": " 48.0/48.0 [00:00&lt;00:00, 3.62kB/s]"
          }
        },
        "f447a70955b04ea2be448eb6892e833c": {
          "model_module": "@jupyter-widgets/base",
          "model_name": "LayoutModel",
          "model_module_version": "1.2.0",
          "state": {
            "_model_module": "@jupyter-widgets/base",
            "_model_module_version": "1.2.0",
            "_model_name": "LayoutModel",
            "_view_count": null,
            "_view_module": "@jupyter-widgets/base",
            "_view_module_version": "1.2.0",
            "_view_name": "LayoutView",
            "align_content": null,
            "align_items": null,
            "align_self": null,
            "border": null,
            "bottom": null,
            "display": null,
            "flex": null,
            "flex_flow": null,
            "grid_area": null,
            "grid_auto_columns": null,
            "grid_auto_flow": null,
            "grid_auto_rows": null,
            "grid_column": null,
            "grid_gap": null,
            "grid_row": null,
            "grid_template_areas": null,
            "grid_template_columns": null,
            "grid_template_rows": null,
            "height": null,
            "justify_content": null,
            "justify_items": null,
            "left": null,
            "margin": null,
            "max_height": null,
            "max_width": null,
            "min_height": null,
            "min_width": null,
            "object_fit": null,
            "object_position": null,
            "order": null,
            "overflow": null,
            "overflow_x": null,
            "overflow_y": null,
            "padding": null,
            "right": null,
            "top": null,
            "visibility": null,
            "width": null
          }
        },
        "8e4a60dc9846466596b4a0d34055945e": {
          "model_module": "@jupyter-widgets/base",
          "model_name": "LayoutModel",
          "model_module_version": "1.2.0",
          "state": {
            "_model_module": "@jupyter-widgets/base",
            "_model_module_version": "1.2.0",
            "_model_name": "LayoutModel",
            "_view_count": null,
            "_view_module": "@jupyter-widgets/base",
            "_view_module_version": "1.2.0",
            "_view_name": "LayoutView",
            "align_content": null,
            "align_items": null,
            "align_self": null,
            "border": null,
            "bottom": null,
            "display": null,
            "flex": null,
            "flex_flow": null,
            "grid_area": null,
            "grid_auto_columns": null,
            "grid_auto_flow": null,
            "grid_auto_rows": null,
            "grid_column": null,
            "grid_gap": null,
            "grid_row": null,
            "grid_template_areas": null,
            "grid_template_columns": null,
            "grid_template_rows": null,
            "height": null,
            "justify_content": null,
            "justify_items": null,
            "left": null,
            "margin": null,
            "max_height": null,
            "max_width": null,
            "min_height": null,
            "min_width": null,
            "object_fit": null,
            "object_position": null,
            "order": null,
            "overflow": null,
            "overflow_x": null,
            "overflow_y": null,
            "padding": null,
            "right": null,
            "top": null,
            "visibility": null,
            "width": null
          }
        },
        "369f06793e7d490da747a6def97beec7": {
          "model_module": "@jupyter-widgets/controls",
          "model_name": "DescriptionStyleModel",
          "model_module_version": "1.5.0",
          "state": {
            "_model_module": "@jupyter-widgets/controls",
            "_model_module_version": "1.5.0",
            "_model_name": "DescriptionStyleModel",
            "_view_count": null,
            "_view_module": "@jupyter-widgets/base",
            "_view_module_version": "1.2.0",
            "_view_name": "StyleView",
            "description_width": ""
          }
        },
        "d3468ac075494ea69961b6a1ff422b48": {
          "model_module": "@jupyter-widgets/base",
          "model_name": "LayoutModel",
          "model_module_version": "1.2.0",
          "state": {
            "_model_module": "@jupyter-widgets/base",
            "_model_module_version": "1.2.0",
            "_model_name": "LayoutModel",
            "_view_count": null,
            "_view_module": "@jupyter-widgets/base",
            "_view_module_version": "1.2.0",
            "_view_name": "LayoutView",
            "align_content": null,
            "align_items": null,
            "align_self": null,
            "border": null,
            "bottom": null,
            "display": null,
            "flex": null,
            "flex_flow": null,
            "grid_area": null,
            "grid_auto_columns": null,
            "grid_auto_flow": null,
            "grid_auto_rows": null,
            "grid_column": null,
            "grid_gap": null,
            "grid_row": null,
            "grid_template_areas": null,
            "grid_template_columns": null,
            "grid_template_rows": null,
            "height": null,
            "justify_content": null,
            "justify_items": null,
            "left": null,
            "margin": null,
            "max_height": null,
            "max_width": null,
            "min_height": null,
            "min_width": null,
            "object_fit": null,
            "object_position": null,
            "order": null,
            "overflow": null,
            "overflow_x": null,
            "overflow_y": null,
            "padding": null,
            "right": null,
            "top": null,
            "visibility": null,
            "width": null
          }
        },
        "41b5b5faa8284d1d9aa4b0d7622b3c90": {
          "model_module": "@jupyter-widgets/controls",
          "model_name": "ProgressStyleModel",
          "model_module_version": "1.5.0",
          "state": {
            "_model_module": "@jupyter-widgets/controls",
            "_model_module_version": "1.5.0",
            "_model_name": "ProgressStyleModel",
            "_view_count": null,
            "_view_module": "@jupyter-widgets/base",
            "_view_module_version": "1.2.0",
            "_view_name": "StyleView",
            "bar_color": null,
            "description_width": ""
          }
        },
        "d5db6657940f401d9b177d9cbbeab22d": {
          "model_module": "@jupyter-widgets/base",
          "model_name": "LayoutModel",
          "model_module_version": "1.2.0",
          "state": {
            "_model_module": "@jupyter-widgets/base",
            "_model_module_version": "1.2.0",
            "_model_name": "LayoutModel",
            "_view_count": null,
            "_view_module": "@jupyter-widgets/base",
            "_view_module_version": "1.2.0",
            "_view_name": "LayoutView",
            "align_content": null,
            "align_items": null,
            "align_self": null,
            "border": null,
            "bottom": null,
            "display": null,
            "flex": null,
            "flex_flow": null,
            "grid_area": null,
            "grid_auto_columns": null,
            "grid_auto_flow": null,
            "grid_auto_rows": null,
            "grid_column": null,
            "grid_gap": null,
            "grid_row": null,
            "grid_template_areas": null,
            "grid_template_columns": null,
            "grid_template_rows": null,
            "height": null,
            "justify_content": null,
            "justify_items": null,
            "left": null,
            "margin": null,
            "max_height": null,
            "max_width": null,
            "min_height": null,
            "min_width": null,
            "object_fit": null,
            "object_position": null,
            "order": null,
            "overflow": null,
            "overflow_x": null,
            "overflow_y": null,
            "padding": null,
            "right": null,
            "top": null,
            "visibility": null,
            "width": null
          }
        },
        "0705800b6d8247c5b6db78d6f40d90d9": {
          "model_module": "@jupyter-widgets/controls",
          "model_name": "DescriptionStyleModel",
          "model_module_version": "1.5.0",
          "state": {
            "_model_module": "@jupyter-widgets/controls",
            "_model_module_version": "1.5.0",
            "_model_name": "DescriptionStyleModel",
            "_view_count": null,
            "_view_module": "@jupyter-widgets/base",
            "_view_module_version": "1.2.0",
            "_view_name": "StyleView",
            "description_width": ""
          }
        },
        "e09afd2a01704d1ea6c04e253bfe2501": {
          "model_module": "@jupyter-widgets/controls",
          "model_name": "HBoxModel",
          "model_module_version": "1.5.0",
          "state": {
            "_dom_classes": [],
            "_model_module": "@jupyter-widgets/controls",
            "_model_module_version": "1.5.0",
            "_model_name": "HBoxModel",
            "_view_count": null,
            "_view_module": "@jupyter-widgets/controls",
            "_view_module_version": "1.5.0",
            "_view_name": "HBoxView",
            "box_style": "",
            "children": [
              "IPY_MODEL_4fc5e132799a426ab9b8dd89a09a1cf2",
              "IPY_MODEL_3addc6fd59694debb7e4d9225e745042",
              "IPY_MODEL_3ce4ed87d88e46779dae5826f1736e19"
            ],
            "layout": "IPY_MODEL_c239b59566964152bb9d86e831f45be8"
          }
        },
        "4fc5e132799a426ab9b8dd89a09a1cf2": {
          "model_module": "@jupyter-widgets/controls",
          "model_name": "HTMLModel",
          "model_module_version": "1.5.0",
          "state": {
            "_dom_classes": [],
            "_model_module": "@jupyter-widgets/controls",
            "_model_module_version": "1.5.0",
            "_model_name": "HTMLModel",
            "_view_count": null,
            "_view_module": "@jupyter-widgets/controls",
            "_view_module_version": "1.5.0",
            "_view_name": "HTMLView",
            "description": "",
            "description_tooltip": null,
            "layout": "IPY_MODEL_032e67506dfd448383f0955288aa2f1e",
            "placeholder": "​",
            "style": "IPY_MODEL_7bff69eeff2f4cba8b65c106b7d5c044",
            "value": "vocab.txt: 100%"
          }
        },
        "3addc6fd59694debb7e4d9225e745042": {
          "model_module": "@jupyter-widgets/controls",
          "model_name": "FloatProgressModel",
          "model_module_version": "1.5.0",
          "state": {
            "_dom_classes": [],
            "_model_module": "@jupyter-widgets/controls",
            "_model_module_version": "1.5.0",
            "_model_name": "FloatProgressModel",
            "_view_count": null,
            "_view_module": "@jupyter-widgets/controls",
            "_view_module_version": "1.5.0",
            "_view_name": "ProgressView",
            "bar_style": "success",
            "description": "",
            "description_tooltip": null,
            "layout": "IPY_MODEL_39618f3bc649408d86178c594d3abb49",
            "max": 231508,
            "min": 0,
            "orientation": "horizontal",
            "style": "IPY_MODEL_538c1445234b4316b36ae8a7c2147b85",
            "value": 231508
          }
        },
        "3ce4ed87d88e46779dae5826f1736e19": {
          "model_module": "@jupyter-widgets/controls",
          "model_name": "HTMLModel",
          "model_module_version": "1.5.0",
          "state": {
            "_dom_classes": [],
            "_model_module": "@jupyter-widgets/controls",
            "_model_module_version": "1.5.0",
            "_model_name": "HTMLModel",
            "_view_count": null,
            "_view_module": "@jupyter-widgets/controls",
            "_view_module_version": "1.5.0",
            "_view_name": "HTMLView",
            "description": "",
            "description_tooltip": null,
            "layout": "IPY_MODEL_2f560bcef67e45afb86fceb634cafb1e",
            "placeholder": "​",
            "style": "IPY_MODEL_ec26fb8fc46e461396de54c0728c40cb",
            "value": " 232k/232k [00:00&lt;00:00, 4.32MB/s]"
          }
        },
        "c239b59566964152bb9d86e831f45be8": {
          "model_module": "@jupyter-widgets/base",
          "model_name": "LayoutModel",
          "model_module_version": "1.2.0",
          "state": {
            "_model_module": "@jupyter-widgets/base",
            "_model_module_version": "1.2.0",
            "_model_name": "LayoutModel",
            "_view_count": null,
            "_view_module": "@jupyter-widgets/base",
            "_view_module_version": "1.2.0",
            "_view_name": "LayoutView",
            "align_content": null,
            "align_items": null,
            "align_self": null,
            "border": null,
            "bottom": null,
            "display": null,
            "flex": null,
            "flex_flow": null,
            "grid_area": null,
            "grid_auto_columns": null,
            "grid_auto_flow": null,
            "grid_auto_rows": null,
            "grid_column": null,
            "grid_gap": null,
            "grid_row": null,
            "grid_template_areas": null,
            "grid_template_columns": null,
            "grid_template_rows": null,
            "height": null,
            "justify_content": null,
            "justify_items": null,
            "left": null,
            "margin": null,
            "max_height": null,
            "max_width": null,
            "min_height": null,
            "min_width": null,
            "object_fit": null,
            "object_position": null,
            "order": null,
            "overflow": null,
            "overflow_x": null,
            "overflow_y": null,
            "padding": null,
            "right": null,
            "top": null,
            "visibility": null,
            "width": null
          }
        },
        "032e67506dfd448383f0955288aa2f1e": {
          "model_module": "@jupyter-widgets/base",
          "model_name": "LayoutModel",
          "model_module_version": "1.2.0",
          "state": {
            "_model_module": "@jupyter-widgets/base",
            "_model_module_version": "1.2.0",
            "_model_name": "LayoutModel",
            "_view_count": null,
            "_view_module": "@jupyter-widgets/base",
            "_view_module_version": "1.2.0",
            "_view_name": "LayoutView",
            "align_content": null,
            "align_items": null,
            "align_self": null,
            "border": null,
            "bottom": null,
            "display": null,
            "flex": null,
            "flex_flow": null,
            "grid_area": null,
            "grid_auto_columns": null,
            "grid_auto_flow": null,
            "grid_auto_rows": null,
            "grid_column": null,
            "grid_gap": null,
            "grid_row": null,
            "grid_template_areas": null,
            "grid_template_columns": null,
            "grid_template_rows": null,
            "height": null,
            "justify_content": null,
            "justify_items": null,
            "left": null,
            "margin": null,
            "max_height": null,
            "max_width": null,
            "min_height": null,
            "min_width": null,
            "object_fit": null,
            "object_position": null,
            "order": null,
            "overflow": null,
            "overflow_x": null,
            "overflow_y": null,
            "padding": null,
            "right": null,
            "top": null,
            "visibility": null,
            "width": null
          }
        },
        "7bff69eeff2f4cba8b65c106b7d5c044": {
          "model_module": "@jupyter-widgets/controls",
          "model_name": "DescriptionStyleModel",
          "model_module_version": "1.5.0",
          "state": {
            "_model_module": "@jupyter-widgets/controls",
            "_model_module_version": "1.5.0",
            "_model_name": "DescriptionStyleModel",
            "_view_count": null,
            "_view_module": "@jupyter-widgets/base",
            "_view_module_version": "1.2.0",
            "_view_name": "StyleView",
            "description_width": ""
          }
        },
        "39618f3bc649408d86178c594d3abb49": {
          "model_module": "@jupyter-widgets/base",
          "model_name": "LayoutModel",
          "model_module_version": "1.2.0",
          "state": {
            "_model_module": "@jupyter-widgets/base",
            "_model_module_version": "1.2.0",
            "_model_name": "LayoutModel",
            "_view_count": null,
            "_view_module": "@jupyter-widgets/base",
            "_view_module_version": "1.2.0",
            "_view_name": "LayoutView",
            "align_content": null,
            "align_items": null,
            "align_self": null,
            "border": null,
            "bottom": null,
            "display": null,
            "flex": null,
            "flex_flow": null,
            "grid_area": null,
            "grid_auto_columns": null,
            "grid_auto_flow": null,
            "grid_auto_rows": null,
            "grid_column": null,
            "grid_gap": null,
            "grid_row": null,
            "grid_template_areas": null,
            "grid_template_columns": null,
            "grid_template_rows": null,
            "height": null,
            "justify_content": null,
            "justify_items": null,
            "left": null,
            "margin": null,
            "max_height": null,
            "max_width": null,
            "min_height": null,
            "min_width": null,
            "object_fit": null,
            "object_position": null,
            "order": null,
            "overflow": null,
            "overflow_x": null,
            "overflow_y": null,
            "padding": null,
            "right": null,
            "top": null,
            "visibility": null,
            "width": null
          }
        },
        "538c1445234b4316b36ae8a7c2147b85": {
          "model_module": "@jupyter-widgets/controls",
          "model_name": "ProgressStyleModel",
          "model_module_version": "1.5.0",
          "state": {
            "_model_module": "@jupyter-widgets/controls",
            "_model_module_version": "1.5.0",
            "_model_name": "ProgressStyleModel",
            "_view_count": null,
            "_view_module": "@jupyter-widgets/base",
            "_view_module_version": "1.2.0",
            "_view_name": "StyleView",
            "bar_color": null,
            "description_width": ""
          }
        },
        "2f560bcef67e45afb86fceb634cafb1e": {
          "model_module": "@jupyter-widgets/base",
          "model_name": "LayoutModel",
          "model_module_version": "1.2.0",
          "state": {
            "_model_module": "@jupyter-widgets/base",
            "_model_module_version": "1.2.0",
            "_model_name": "LayoutModel",
            "_view_count": null,
            "_view_module": "@jupyter-widgets/base",
            "_view_module_version": "1.2.0",
            "_view_name": "LayoutView",
            "align_content": null,
            "align_items": null,
            "align_self": null,
            "border": null,
            "bottom": null,
            "display": null,
            "flex": null,
            "flex_flow": null,
            "grid_area": null,
            "grid_auto_columns": null,
            "grid_auto_flow": null,
            "grid_auto_rows": null,
            "grid_column": null,
            "grid_gap": null,
            "grid_row": null,
            "grid_template_areas": null,
            "grid_template_columns": null,
            "grid_template_rows": null,
            "height": null,
            "justify_content": null,
            "justify_items": null,
            "left": null,
            "margin": null,
            "max_height": null,
            "max_width": null,
            "min_height": null,
            "min_width": null,
            "object_fit": null,
            "object_position": null,
            "order": null,
            "overflow": null,
            "overflow_x": null,
            "overflow_y": null,
            "padding": null,
            "right": null,
            "top": null,
            "visibility": null,
            "width": null
          }
        },
        "ec26fb8fc46e461396de54c0728c40cb": {
          "model_module": "@jupyter-widgets/controls",
          "model_name": "DescriptionStyleModel",
          "model_module_version": "1.5.0",
          "state": {
            "_model_module": "@jupyter-widgets/controls",
            "_model_module_version": "1.5.0",
            "_model_name": "DescriptionStyleModel",
            "_view_count": null,
            "_view_module": "@jupyter-widgets/base",
            "_view_module_version": "1.2.0",
            "_view_name": "StyleView",
            "description_width": ""
          }
        },
        "2c8f19dda2a943839ffb3f3b25263688": {
          "model_module": "@jupyter-widgets/controls",
          "model_name": "HBoxModel",
          "model_module_version": "1.5.0",
          "state": {
            "_dom_classes": [],
            "_model_module": "@jupyter-widgets/controls",
            "_model_module_version": "1.5.0",
            "_model_name": "HBoxModel",
            "_view_count": null,
            "_view_module": "@jupyter-widgets/controls",
            "_view_module_version": "1.5.0",
            "_view_name": "HBoxView",
            "box_style": "",
            "children": [
              "IPY_MODEL_5d5a0c1abe2941b3aa49c59ac9dd8ba5",
              "IPY_MODEL_8cd50d9d1b2d45da90208ba4c885b977",
              "IPY_MODEL_1dcb00036ea54e7683224da95808807d"
            ],
            "layout": "IPY_MODEL_a83df0b63908495eb74396f832a670bb"
          }
        },
        "5d5a0c1abe2941b3aa49c59ac9dd8ba5": {
          "model_module": "@jupyter-widgets/controls",
          "model_name": "HTMLModel",
          "model_module_version": "1.5.0",
          "state": {
            "_dom_classes": [],
            "_model_module": "@jupyter-widgets/controls",
            "_model_module_version": "1.5.0",
            "_model_name": "HTMLModel",
            "_view_count": null,
            "_view_module": "@jupyter-widgets/controls",
            "_view_module_version": "1.5.0",
            "_view_name": "HTMLView",
            "description": "",
            "description_tooltip": null,
            "layout": "IPY_MODEL_c6000ba2bdb6425d8092bd85039c8760",
            "placeholder": "​",
            "style": "IPY_MODEL_15a42812275d4dc4a8ae6d259875e46d",
            "value": "tokenizer.json: 100%"
          }
        },
        "8cd50d9d1b2d45da90208ba4c885b977": {
          "model_module": "@jupyter-widgets/controls",
          "model_name": "FloatProgressModel",
          "model_module_version": "1.5.0",
          "state": {
            "_dom_classes": [],
            "_model_module": "@jupyter-widgets/controls",
            "_model_module_version": "1.5.0",
            "_model_name": "FloatProgressModel",
            "_view_count": null,
            "_view_module": "@jupyter-widgets/controls",
            "_view_module_version": "1.5.0",
            "_view_name": "ProgressView",
            "bar_style": "success",
            "description": "",
            "description_tooltip": null,
            "layout": "IPY_MODEL_b45ee88866dd432a86d6c06fd1262e9a",
            "max": 466062,
            "min": 0,
            "orientation": "horizontal",
            "style": "IPY_MODEL_07df18cfbc7b4a139b6bd2e26a0a21f7",
            "value": 466062
          }
        },
        "1dcb00036ea54e7683224da95808807d": {
          "model_module": "@jupyter-widgets/controls",
          "model_name": "HTMLModel",
          "model_module_version": "1.5.0",
          "state": {
            "_dom_classes": [],
            "_model_module": "@jupyter-widgets/controls",
            "_model_module_version": "1.5.0",
            "_model_name": "HTMLModel",
            "_view_count": null,
            "_view_module": "@jupyter-widgets/controls",
            "_view_module_version": "1.5.0",
            "_view_name": "HTMLView",
            "description": "",
            "description_tooltip": null,
            "layout": "IPY_MODEL_e63d24ff1444408fa1d50a3791c3b126",
            "placeholder": "​",
            "style": "IPY_MODEL_431cb4cdaca7412fa2c246c4f20dfd2a",
            "value": " 466k/466k [00:00&lt;00:00, 8.94MB/s]"
          }
        },
        "a83df0b63908495eb74396f832a670bb": {
          "model_module": "@jupyter-widgets/base",
          "model_name": "LayoutModel",
          "model_module_version": "1.2.0",
          "state": {
            "_model_module": "@jupyter-widgets/base",
            "_model_module_version": "1.2.0",
            "_model_name": "LayoutModel",
            "_view_count": null,
            "_view_module": "@jupyter-widgets/base",
            "_view_module_version": "1.2.0",
            "_view_name": "LayoutView",
            "align_content": null,
            "align_items": null,
            "align_self": null,
            "border": null,
            "bottom": null,
            "display": null,
            "flex": null,
            "flex_flow": null,
            "grid_area": null,
            "grid_auto_columns": null,
            "grid_auto_flow": null,
            "grid_auto_rows": null,
            "grid_column": null,
            "grid_gap": null,
            "grid_row": null,
            "grid_template_areas": null,
            "grid_template_columns": null,
            "grid_template_rows": null,
            "height": null,
            "justify_content": null,
            "justify_items": null,
            "left": null,
            "margin": null,
            "max_height": null,
            "max_width": null,
            "min_height": null,
            "min_width": null,
            "object_fit": null,
            "object_position": null,
            "order": null,
            "overflow": null,
            "overflow_x": null,
            "overflow_y": null,
            "padding": null,
            "right": null,
            "top": null,
            "visibility": null,
            "width": null
          }
        },
        "c6000ba2bdb6425d8092bd85039c8760": {
          "model_module": "@jupyter-widgets/base",
          "model_name": "LayoutModel",
          "model_module_version": "1.2.0",
          "state": {
            "_model_module": "@jupyter-widgets/base",
            "_model_module_version": "1.2.0",
            "_model_name": "LayoutModel",
            "_view_count": null,
            "_view_module": "@jupyter-widgets/base",
            "_view_module_version": "1.2.0",
            "_view_name": "LayoutView",
            "align_content": null,
            "align_items": null,
            "align_self": null,
            "border": null,
            "bottom": null,
            "display": null,
            "flex": null,
            "flex_flow": null,
            "grid_area": null,
            "grid_auto_columns": null,
            "grid_auto_flow": null,
            "grid_auto_rows": null,
            "grid_column": null,
            "grid_gap": null,
            "grid_row": null,
            "grid_template_areas": null,
            "grid_template_columns": null,
            "grid_template_rows": null,
            "height": null,
            "justify_content": null,
            "justify_items": null,
            "left": null,
            "margin": null,
            "max_height": null,
            "max_width": null,
            "min_height": null,
            "min_width": null,
            "object_fit": null,
            "object_position": null,
            "order": null,
            "overflow": null,
            "overflow_x": null,
            "overflow_y": null,
            "padding": null,
            "right": null,
            "top": null,
            "visibility": null,
            "width": null
          }
        },
        "15a42812275d4dc4a8ae6d259875e46d": {
          "model_module": "@jupyter-widgets/controls",
          "model_name": "DescriptionStyleModel",
          "model_module_version": "1.5.0",
          "state": {
            "_model_module": "@jupyter-widgets/controls",
            "_model_module_version": "1.5.0",
            "_model_name": "DescriptionStyleModel",
            "_view_count": null,
            "_view_module": "@jupyter-widgets/base",
            "_view_module_version": "1.2.0",
            "_view_name": "StyleView",
            "description_width": ""
          }
        },
        "b45ee88866dd432a86d6c06fd1262e9a": {
          "model_module": "@jupyter-widgets/base",
          "model_name": "LayoutModel",
          "model_module_version": "1.2.0",
          "state": {
            "_model_module": "@jupyter-widgets/base",
            "_model_module_version": "1.2.0",
            "_model_name": "LayoutModel",
            "_view_count": null,
            "_view_module": "@jupyter-widgets/base",
            "_view_module_version": "1.2.0",
            "_view_name": "LayoutView",
            "align_content": null,
            "align_items": null,
            "align_self": null,
            "border": null,
            "bottom": null,
            "display": null,
            "flex": null,
            "flex_flow": null,
            "grid_area": null,
            "grid_auto_columns": null,
            "grid_auto_flow": null,
            "grid_auto_rows": null,
            "grid_column": null,
            "grid_gap": null,
            "grid_row": null,
            "grid_template_areas": null,
            "grid_template_columns": null,
            "grid_template_rows": null,
            "height": null,
            "justify_content": null,
            "justify_items": null,
            "left": null,
            "margin": null,
            "max_height": null,
            "max_width": null,
            "min_height": null,
            "min_width": null,
            "object_fit": null,
            "object_position": null,
            "order": null,
            "overflow": null,
            "overflow_x": null,
            "overflow_y": null,
            "padding": null,
            "right": null,
            "top": null,
            "visibility": null,
            "width": null
          }
        },
        "07df18cfbc7b4a139b6bd2e26a0a21f7": {
          "model_module": "@jupyter-widgets/controls",
          "model_name": "ProgressStyleModel",
          "model_module_version": "1.5.0",
          "state": {
            "_model_module": "@jupyter-widgets/controls",
            "_model_module_version": "1.5.0",
            "_model_name": "ProgressStyleModel",
            "_view_count": null,
            "_view_module": "@jupyter-widgets/base",
            "_view_module_version": "1.2.0",
            "_view_name": "StyleView",
            "bar_color": null,
            "description_width": ""
          }
        },
        "e63d24ff1444408fa1d50a3791c3b126": {
          "model_module": "@jupyter-widgets/base",
          "model_name": "LayoutModel",
          "model_module_version": "1.2.0",
          "state": {
            "_model_module": "@jupyter-widgets/base",
            "_model_module_version": "1.2.0",
            "_model_name": "LayoutModel",
            "_view_count": null,
            "_view_module": "@jupyter-widgets/base",
            "_view_module_version": "1.2.0",
            "_view_name": "LayoutView",
            "align_content": null,
            "align_items": null,
            "align_self": null,
            "border": null,
            "bottom": null,
            "display": null,
            "flex": null,
            "flex_flow": null,
            "grid_area": null,
            "grid_auto_columns": null,
            "grid_auto_flow": null,
            "grid_auto_rows": null,
            "grid_column": null,
            "grid_gap": null,
            "grid_row": null,
            "grid_template_areas": null,
            "grid_template_columns": null,
            "grid_template_rows": null,
            "height": null,
            "justify_content": null,
            "justify_items": null,
            "left": null,
            "margin": null,
            "max_height": null,
            "max_width": null,
            "min_height": null,
            "min_width": null,
            "object_fit": null,
            "object_position": null,
            "order": null,
            "overflow": null,
            "overflow_x": null,
            "overflow_y": null,
            "padding": null,
            "right": null,
            "top": null,
            "visibility": null,
            "width": null
          }
        },
        "431cb4cdaca7412fa2c246c4f20dfd2a": {
          "model_module": "@jupyter-widgets/controls",
          "model_name": "DescriptionStyleModel",
          "model_module_version": "1.5.0",
          "state": {
            "_model_module": "@jupyter-widgets/controls",
            "_model_module_version": "1.5.0",
            "_model_name": "DescriptionStyleModel",
            "_view_count": null,
            "_view_module": "@jupyter-widgets/base",
            "_view_module_version": "1.2.0",
            "_view_name": "StyleView",
            "description_width": ""
          }
        },
        "2c5fecfc98584ed6b22ecb892b6b89c0": {
          "model_module": "@jupyter-widgets/controls",
          "model_name": "HBoxModel",
          "model_module_version": "1.5.0",
          "state": {
            "_dom_classes": [],
            "_model_module": "@jupyter-widgets/controls",
            "_model_module_version": "1.5.0",
            "_model_name": "HBoxModel",
            "_view_count": null,
            "_view_module": "@jupyter-widgets/controls",
            "_view_module_version": "1.5.0",
            "_view_name": "HBoxView",
            "box_style": "",
            "children": [
              "IPY_MODEL_574ed206985b4935967a91c0f54ecb39",
              "IPY_MODEL_a9c5009d607d4280b8157c3bd64a822b",
              "IPY_MODEL_5305c9320ea3475c839a5c920dcd1873"
            ],
            "layout": "IPY_MODEL_1387beba6fae420f9de64916baea494e"
          }
        },
        "574ed206985b4935967a91c0f54ecb39": {
          "model_module": "@jupyter-widgets/controls",
          "model_name": "HTMLModel",
          "model_module_version": "1.5.0",
          "state": {
            "_dom_classes": [],
            "_model_module": "@jupyter-widgets/controls",
            "_model_module_version": "1.5.0",
            "_model_name": "HTMLModel",
            "_view_count": null,
            "_view_module": "@jupyter-widgets/controls",
            "_view_module_version": "1.5.0",
            "_view_name": "HTMLView",
            "description": "",
            "description_tooltip": null,
            "layout": "IPY_MODEL_1820b7b8e1ce4fe3987aaec7701a0d1d",
            "placeholder": "​",
            "style": "IPY_MODEL_feda65b15aca4bdf9662f4d0b75e2517",
            "value": "config.json: 100%"
          }
        },
        "a9c5009d607d4280b8157c3bd64a822b": {
          "model_module": "@jupyter-widgets/controls",
          "model_name": "FloatProgressModel",
          "model_module_version": "1.5.0",
          "state": {
            "_dom_classes": [],
            "_model_module": "@jupyter-widgets/controls",
            "_model_module_version": "1.5.0",
            "_model_name": "FloatProgressModel",
            "_view_count": null,
            "_view_module": "@jupyter-widgets/controls",
            "_view_module_version": "1.5.0",
            "_view_name": "ProgressView",
            "bar_style": "success",
            "description": "",
            "description_tooltip": null,
            "layout": "IPY_MODEL_170b57df16fa4c3aa302bc7faa9a46e1",
            "max": 570,
            "min": 0,
            "orientation": "horizontal",
            "style": "IPY_MODEL_450664a8c0c34ae08e07d08568eddc2b",
            "value": 570
          }
        },
        "5305c9320ea3475c839a5c920dcd1873": {
          "model_module": "@jupyter-widgets/controls",
          "model_name": "HTMLModel",
          "model_module_version": "1.5.0",
          "state": {
            "_dom_classes": [],
            "_model_module": "@jupyter-widgets/controls",
            "_model_module_version": "1.5.0",
            "_model_name": "HTMLModel",
            "_view_count": null,
            "_view_module": "@jupyter-widgets/controls",
            "_view_module_version": "1.5.0",
            "_view_name": "HTMLView",
            "description": "",
            "description_tooltip": null,
            "layout": "IPY_MODEL_95bddb3b62754d4a8289eeb2b5112714",
            "placeholder": "​",
            "style": "IPY_MODEL_004dcee96e8a4f6a926af36640ea400f",
            "value": " 570/570 [00:00&lt;00:00, 69.5kB/s]"
          }
        },
        "1387beba6fae420f9de64916baea494e": {
          "model_module": "@jupyter-widgets/base",
          "model_name": "LayoutModel",
          "model_module_version": "1.2.0",
          "state": {
            "_model_module": "@jupyter-widgets/base",
            "_model_module_version": "1.2.0",
            "_model_name": "LayoutModel",
            "_view_count": null,
            "_view_module": "@jupyter-widgets/base",
            "_view_module_version": "1.2.0",
            "_view_name": "LayoutView",
            "align_content": null,
            "align_items": null,
            "align_self": null,
            "border": null,
            "bottom": null,
            "display": null,
            "flex": null,
            "flex_flow": null,
            "grid_area": null,
            "grid_auto_columns": null,
            "grid_auto_flow": null,
            "grid_auto_rows": null,
            "grid_column": null,
            "grid_gap": null,
            "grid_row": null,
            "grid_template_areas": null,
            "grid_template_columns": null,
            "grid_template_rows": null,
            "height": null,
            "justify_content": null,
            "justify_items": null,
            "left": null,
            "margin": null,
            "max_height": null,
            "max_width": null,
            "min_height": null,
            "min_width": null,
            "object_fit": null,
            "object_position": null,
            "order": null,
            "overflow": null,
            "overflow_x": null,
            "overflow_y": null,
            "padding": null,
            "right": null,
            "top": null,
            "visibility": null,
            "width": null
          }
        },
        "1820b7b8e1ce4fe3987aaec7701a0d1d": {
          "model_module": "@jupyter-widgets/base",
          "model_name": "LayoutModel",
          "model_module_version": "1.2.0",
          "state": {
            "_model_module": "@jupyter-widgets/base",
            "_model_module_version": "1.2.0",
            "_model_name": "LayoutModel",
            "_view_count": null,
            "_view_module": "@jupyter-widgets/base",
            "_view_module_version": "1.2.0",
            "_view_name": "LayoutView",
            "align_content": null,
            "align_items": null,
            "align_self": null,
            "border": null,
            "bottom": null,
            "display": null,
            "flex": null,
            "flex_flow": null,
            "grid_area": null,
            "grid_auto_columns": null,
            "grid_auto_flow": null,
            "grid_auto_rows": null,
            "grid_column": null,
            "grid_gap": null,
            "grid_row": null,
            "grid_template_areas": null,
            "grid_template_columns": null,
            "grid_template_rows": null,
            "height": null,
            "justify_content": null,
            "justify_items": null,
            "left": null,
            "margin": null,
            "max_height": null,
            "max_width": null,
            "min_height": null,
            "min_width": null,
            "object_fit": null,
            "object_position": null,
            "order": null,
            "overflow": null,
            "overflow_x": null,
            "overflow_y": null,
            "padding": null,
            "right": null,
            "top": null,
            "visibility": null,
            "width": null
          }
        },
        "feda65b15aca4bdf9662f4d0b75e2517": {
          "model_module": "@jupyter-widgets/controls",
          "model_name": "DescriptionStyleModel",
          "model_module_version": "1.5.0",
          "state": {
            "_model_module": "@jupyter-widgets/controls",
            "_model_module_version": "1.5.0",
            "_model_name": "DescriptionStyleModel",
            "_view_count": null,
            "_view_module": "@jupyter-widgets/base",
            "_view_module_version": "1.2.0",
            "_view_name": "StyleView",
            "description_width": ""
          }
        },
        "170b57df16fa4c3aa302bc7faa9a46e1": {
          "model_module": "@jupyter-widgets/base",
          "model_name": "LayoutModel",
          "model_module_version": "1.2.0",
          "state": {
            "_model_module": "@jupyter-widgets/base",
            "_model_module_version": "1.2.0",
            "_model_name": "LayoutModel",
            "_view_count": null,
            "_view_module": "@jupyter-widgets/base",
            "_view_module_version": "1.2.0",
            "_view_name": "LayoutView",
            "align_content": null,
            "align_items": null,
            "align_self": null,
            "border": null,
            "bottom": null,
            "display": null,
            "flex": null,
            "flex_flow": null,
            "grid_area": null,
            "grid_auto_columns": null,
            "grid_auto_flow": null,
            "grid_auto_rows": null,
            "grid_column": null,
            "grid_gap": null,
            "grid_row": null,
            "grid_template_areas": null,
            "grid_template_columns": null,
            "grid_template_rows": null,
            "height": null,
            "justify_content": null,
            "justify_items": null,
            "left": null,
            "margin": null,
            "max_height": null,
            "max_width": null,
            "min_height": null,
            "min_width": null,
            "object_fit": null,
            "object_position": null,
            "order": null,
            "overflow": null,
            "overflow_x": null,
            "overflow_y": null,
            "padding": null,
            "right": null,
            "top": null,
            "visibility": null,
            "width": null
          }
        },
        "450664a8c0c34ae08e07d08568eddc2b": {
          "model_module": "@jupyter-widgets/controls",
          "model_name": "ProgressStyleModel",
          "model_module_version": "1.5.0",
          "state": {
            "_model_module": "@jupyter-widgets/controls",
            "_model_module_version": "1.5.0",
            "_model_name": "ProgressStyleModel",
            "_view_count": null,
            "_view_module": "@jupyter-widgets/base",
            "_view_module_version": "1.2.0",
            "_view_name": "StyleView",
            "bar_color": null,
            "description_width": ""
          }
        },
        "95bddb3b62754d4a8289eeb2b5112714": {
          "model_module": "@jupyter-widgets/base",
          "model_name": "LayoutModel",
          "model_module_version": "1.2.0",
          "state": {
            "_model_module": "@jupyter-widgets/base",
            "_model_module_version": "1.2.0",
            "_model_name": "LayoutModel",
            "_view_count": null,
            "_view_module": "@jupyter-widgets/base",
            "_view_module_version": "1.2.0",
            "_view_name": "LayoutView",
            "align_content": null,
            "align_items": null,
            "align_self": null,
            "border": null,
            "bottom": null,
            "display": null,
            "flex": null,
            "flex_flow": null,
            "grid_area": null,
            "grid_auto_columns": null,
            "grid_auto_flow": null,
            "grid_auto_rows": null,
            "grid_column": null,
            "grid_gap": null,
            "grid_row": null,
            "grid_template_areas": null,
            "grid_template_columns": null,
            "grid_template_rows": null,
            "height": null,
            "justify_content": null,
            "justify_items": null,
            "left": null,
            "margin": null,
            "max_height": null,
            "max_width": null,
            "min_height": null,
            "min_width": null,
            "object_fit": null,
            "object_position": null,
            "order": null,
            "overflow": null,
            "overflow_x": null,
            "overflow_y": null,
            "padding": null,
            "right": null,
            "top": null,
            "visibility": null,
            "width": null
          }
        },
        "004dcee96e8a4f6a926af36640ea400f": {
          "model_module": "@jupyter-widgets/controls",
          "model_name": "DescriptionStyleModel",
          "model_module_version": "1.5.0",
          "state": {
            "_model_module": "@jupyter-widgets/controls",
            "_model_module_version": "1.5.0",
            "_model_name": "DescriptionStyleModel",
            "_view_count": null,
            "_view_module": "@jupyter-widgets/base",
            "_view_module_version": "1.2.0",
            "_view_name": "StyleView",
            "description_width": ""
          }
        },
        "f5771a784ddc456da40fd3814d54aad6": {
          "model_module": "@jupyter-widgets/controls",
          "model_name": "HBoxModel",
          "model_module_version": "1.5.0",
          "state": {
            "_dom_classes": [],
            "_model_module": "@jupyter-widgets/controls",
            "_model_module_version": "1.5.0",
            "_model_name": "HBoxModel",
            "_view_count": null,
            "_view_module": "@jupyter-widgets/controls",
            "_view_module_version": "1.5.0",
            "_view_name": "HBoxView",
            "box_style": "",
            "children": [
              "IPY_MODEL_4787574aeed0463d913553eb531ecad5",
              "IPY_MODEL_9375ee3c013e4e0c9dd74b649569d0c1",
              "IPY_MODEL_5df9f89ddecf410d84745b71970fb3d1"
            ],
            "layout": "IPY_MODEL_a3621500d1b441bf8aa488ef14bd78f9"
          }
        },
        "4787574aeed0463d913553eb531ecad5": {
          "model_module": "@jupyter-widgets/controls",
          "model_name": "HTMLModel",
          "model_module_version": "1.5.0",
          "state": {
            "_dom_classes": [],
            "_model_module": "@jupyter-widgets/controls",
            "_model_module_version": "1.5.0",
            "_model_name": "HTMLModel",
            "_view_count": null,
            "_view_module": "@jupyter-widgets/controls",
            "_view_module_version": "1.5.0",
            "_view_name": "HTMLView",
            "description": "",
            "description_tooltip": null,
            "layout": "IPY_MODEL_6077d222c00d42e795de81fbbf7692a1",
            "placeholder": "​",
            "style": "IPY_MODEL_dd9f528eb5e746b3afb30b57e8e400ea",
            "value": "Tokenizing original: 100%"
          }
        },
        "9375ee3c013e4e0c9dd74b649569d0c1": {
          "model_module": "@jupyter-widgets/controls",
          "model_name": "FloatProgressModel",
          "model_module_version": "1.5.0",
          "state": {
            "_dom_classes": [],
            "_model_module": "@jupyter-widgets/controls",
            "_model_module_version": "1.5.0",
            "_model_name": "FloatProgressModel",
            "_view_count": null,
            "_view_module": "@jupyter-widgets/controls",
            "_view_module_version": "1.5.0",
            "_view_name": "ProgressView",
            "bar_style": "success",
            "description": "",
            "description_tooltip": null,
            "layout": "IPY_MODEL_9f314926288b4a829157d1756286ff36",
            "max": 17347,
            "min": 0,
            "orientation": "horizontal",
            "style": "IPY_MODEL_b8f8bc89fc184106b8e3336f56f6ffd9",
            "value": 17347
          }
        },
        "5df9f89ddecf410d84745b71970fb3d1": {
          "model_module": "@jupyter-widgets/controls",
          "model_name": "HTMLModel",
          "model_module_version": "1.5.0",
          "state": {
            "_dom_classes": [],
            "_model_module": "@jupyter-widgets/controls",
            "_model_module_version": "1.5.0",
            "_model_name": "HTMLModel",
            "_view_count": null,
            "_view_module": "@jupyter-widgets/controls",
            "_view_module_version": "1.5.0",
            "_view_name": "HTMLView",
            "description": "",
            "description_tooltip": null,
            "layout": "IPY_MODEL_f52d1a4e954b443d8c1e00251efe4c44",
            "placeholder": "​",
            "style": "IPY_MODEL_6d3fb35f51ca4b83bf109dfe61469ecd",
            "value": " 17347/17347 [00:07&lt;00:00, 2524.49 examples/s]"
          }
        },
        "a3621500d1b441bf8aa488ef14bd78f9": {
          "model_module": "@jupyter-widgets/base",
          "model_name": "LayoutModel",
          "model_module_version": "1.2.0",
          "state": {
            "_model_module": "@jupyter-widgets/base",
            "_model_module_version": "1.2.0",
            "_model_name": "LayoutModel",
            "_view_count": null,
            "_view_module": "@jupyter-widgets/base",
            "_view_module_version": "1.2.0",
            "_view_name": "LayoutView",
            "align_content": null,
            "align_items": null,
            "align_self": null,
            "border": null,
            "bottom": null,
            "display": null,
            "flex": null,
            "flex_flow": null,
            "grid_area": null,
            "grid_auto_columns": null,
            "grid_auto_flow": null,
            "grid_auto_rows": null,
            "grid_column": null,
            "grid_gap": null,
            "grid_row": null,
            "grid_template_areas": null,
            "grid_template_columns": null,
            "grid_template_rows": null,
            "height": null,
            "justify_content": null,
            "justify_items": null,
            "left": null,
            "margin": null,
            "max_height": null,
            "max_width": null,
            "min_height": null,
            "min_width": null,
            "object_fit": null,
            "object_position": null,
            "order": null,
            "overflow": null,
            "overflow_x": null,
            "overflow_y": null,
            "padding": null,
            "right": null,
            "top": null,
            "visibility": null,
            "width": null
          }
        },
        "6077d222c00d42e795de81fbbf7692a1": {
          "model_module": "@jupyter-widgets/base",
          "model_name": "LayoutModel",
          "model_module_version": "1.2.0",
          "state": {
            "_model_module": "@jupyter-widgets/base",
            "_model_module_version": "1.2.0",
            "_model_name": "LayoutModel",
            "_view_count": null,
            "_view_module": "@jupyter-widgets/base",
            "_view_module_version": "1.2.0",
            "_view_name": "LayoutView",
            "align_content": null,
            "align_items": null,
            "align_self": null,
            "border": null,
            "bottom": null,
            "display": null,
            "flex": null,
            "flex_flow": null,
            "grid_area": null,
            "grid_auto_columns": null,
            "grid_auto_flow": null,
            "grid_auto_rows": null,
            "grid_column": null,
            "grid_gap": null,
            "grid_row": null,
            "grid_template_areas": null,
            "grid_template_columns": null,
            "grid_template_rows": null,
            "height": null,
            "justify_content": null,
            "justify_items": null,
            "left": null,
            "margin": null,
            "max_height": null,
            "max_width": null,
            "min_height": null,
            "min_width": null,
            "object_fit": null,
            "object_position": null,
            "order": null,
            "overflow": null,
            "overflow_x": null,
            "overflow_y": null,
            "padding": null,
            "right": null,
            "top": null,
            "visibility": null,
            "width": null
          }
        },
        "dd9f528eb5e746b3afb30b57e8e400ea": {
          "model_module": "@jupyter-widgets/controls",
          "model_name": "DescriptionStyleModel",
          "model_module_version": "1.5.0",
          "state": {
            "_model_module": "@jupyter-widgets/controls",
            "_model_module_version": "1.5.0",
            "_model_name": "DescriptionStyleModel",
            "_view_count": null,
            "_view_module": "@jupyter-widgets/base",
            "_view_module_version": "1.2.0",
            "_view_name": "StyleView",
            "description_width": ""
          }
        },
        "9f314926288b4a829157d1756286ff36": {
          "model_module": "@jupyter-widgets/base",
          "model_name": "LayoutModel",
          "model_module_version": "1.2.0",
          "state": {
            "_model_module": "@jupyter-widgets/base",
            "_model_module_version": "1.2.0",
            "_model_name": "LayoutModel",
            "_view_count": null,
            "_view_module": "@jupyter-widgets/base",
            "_view_module_version": "1.2.0",
            "_view_name": "LayoutView",
            "align_content": null,
            "align_items": null,
            "align_self": null,
            "border": null,
            "bottom": null,
            "display": null,
            "flex": null,
            "flex_flow": null,
            "grid_area": null,
            "grid_auto_columns": null,
            "grid_auto_flow": null,
            "grid_auto_rows": null,
            "grid_column": null,
            "grid_gap": null,
            "grid_row": null,
            "grid_template_areas": null,
            "grid_template_columns": null,
            "grid_template_rows": null,
            "height": null,
            "justify_content": null,
            "justify_items": null,
            "left": null,
            "margin": null,
            "max_height": null,
            "max_width": null,
            "min_height": null,
            "min_width": null,
            "object_fit": null,
            "object_position": null,
            "order": null,
            "overflow": null,
            "overflow_x": null,
            "overflow_y": null,
            "padding": null,
            "right": null,
            "top": null,
            "visibility": null,
            "width": null
          }
        },
        "b8f8bc89fc184106b8e3336f56f6ffd9": {
          "model_module": "@jupyter-widgets/controls",
          "model_name": "ProgressStyleModel",
          "model_module_version": "1.5.0",
          "state": {
            "_model_module": "@jupyter-widgets/controls",
            "_model_module_version": "1.5.0",
            "_model_name": "ProgressStyleModel",
            "_view_count": null,
            "_view_module": "@jupyter-widgets/base",
            "_view_module_version": "1.2.0",
            "_view_name": "StyleView",
            "bar_color": null,
            "description_width": ""
          }
        },
        "f52d1a4e954b443d8c1e00251efe4c44": {
          "model_module": "@jupyter-widgets/base",
          "model_name": "LayoutModel",
          "model_module_version": "1.2.0",
          "state": {
            "_model_module": "@jupyter-widgets/base",
            "_model_module_version": "1.2.0",
            "_model_name": "LayoutModel",
            "_view_count": null,
            "_view_module": "@jupyter-widgets/base",
            "_view_module_version": "1.2.0",
            "_view_name": "LayoutView",
            "align_content": null,
            "align_items": null,
            "align_self": null,
            "border": null,
            "bottom": null,
            "display": null,
            "flex": null,
            "flex_flow": null,
            "grid_area": null,
            "grid_auto_columns": null,
            "grid_auto_flow": null,
            "grid_auto_rows": null,
            "grid_column": null,
            "grid_gap": null,
            "grid_row": null,
            "grid_template_areas": null,
            "grid_template_columns": null,
            "grid_template_rows": null,
            "height": null,
            "justify_content": null,
            "justify_items": null,
            "left": null,
            "margin": null,
            "max_height": null,
            "max_width": null,
            "min_height": null,
            "min_width": null,
            "object_fit": null,
            "object_position": null,
            "order": null,
            "overflow": null,
            "overflow_x": null,
            "overflow_y": null,
            "padding": null,
            "right": null,
            "top": null,
            "visibility": null,
            "width": null
          }
        },
        "6d3fb35f51ca4b83bf109dfe61469ecd": {
          "model_module": "@jupyter-widgets/controls",
          "model_name": "DescriptionStyleModel",
          "model_module_version": "1.5.0",
          "state": {
            "_model_module": "@jupyter-widgets/controls",
            "_model_module_version": "1.5.0",
            "_model_name": "DescriptionStyleModel",
            "_view_count": null,
            "_view_module": "@jupyter-widgets/base",
            "_view_module_version": "1.2.0",
            "_view_name": "StyleView",
            "description_width": ""
          }
        },
        "bd10c15da3984c44bd6f6401d3d11d55": {
          "model_module": "@jupyter-widgets/controls",
          "model_name": "HBoxModel",
          "model_module_version": "1.5.0",
          "state": {
            "_dom_classes": [],
            "_model_module": "@jupyter-widgets/controls",
            "_model_module_version": "1.5.0",
            "_model_name": "HBoxModel",
            "_view_count": null,
            "_view_module": "@jupyter-widgets/controls",
            "_view_module_version": "1.5.0",
            "_view_name": "HBoxView",
            "box_style": "",
            "children": [
              "IPY_MODEL_54cad1bedba147a48164c7c6f3f4341b",
              "IPY_MODEL_6f09ec5aa39f4716897ee4e6d2eabac5",
              "IPY_MODEL_9a980cdd6be14316a7731d373c61b769"
            ],
            "layout": "IPY_MODEL_897e51ef48794d05b6961082519ddd79"
          }
        },
        "54cad1bedba147a48164c7c6f3f4341b": {
          "model_module": "@jupyter-widgets/controls",
          "model_name": "HTMLModel",
          "model_module_version": "1.5.0",
          "state": {
            "_dom_classes": [],
            "_model_module": "@jupyter-widgets/controls",
            "_model_module_version": "1.5.0",
            "_model_name": "HTMLModel",
            "_view_count": null,
            "_view_module": "@jupyter-widgets/controls",
            "_view_module_version": "1.5.0",
            "_view_name": "HTMLView",
            "description": "",
            "description_tooltip": null,
            "layout": "IPY_MODEL_3ed5964be3a9479698ceb631f12344cd",
            "placeholder": "​",
            "style": "IPY_MODEL_abc8948c65aa4fa7bda21ee52b356857",
            "value": "Tokenizing augmented: 100%"
          }
        },
        "6f09ec5aa39f4716897ee4e6d2eabac5": {
          "model_module": "@jupyter-widgets/controls",
          "model_name": "FloatProgressModel",
          "model_module_version": "1.5.0",
          "state": {
            "_dom_classes": [],
            "_model_module": "@jupyter-widgets/controls",
            "_model_module_version": "1.5.0",
            "_model_name": "FloatProgressModel",
            "_view_count": null,
            "_view_module": "@jupyter-widgets/controls",
            "_view_module_version": "1.5.0",
            "_view_name": "ProgressView",
            "bar_style": "success",
            "description": "",
            "description_tooltip": null,
            "layout": "IPY_MODEL_cdb741fd227a42609dc70c64ca6f4002",
            "max": 22263,
            "min": 0,
            "orientation": "horizontal",
            "style": "IPY_MODEL_f901628bd4fa4edfbdda3bcfa8362e23",
            "value": 22263
          }
        },
        "9a980cdd6be14316a7731d373c61b769": {
          "model_module": "@jupyter-widgets/controls",
          "model_name": "HTMLModel",
          "model_module_version": "1.5.0",
          "state": {
            "_dom_classes": [],
            "_model_module": "@jupyter-widgets/controls",
            "_model_module_version": "1.5.0",
            "_model_name": "HTMLModel",
            "_view_count": null,
            "_view_module": "@jupyter-widgets/controls",
            "_view_module_version": "1.5.0",
            "_view_name": "HTMLView",
            "description": "",
            "description_tooltip": null,
            "layout": "IPY_MODEL_b268a290261e43a9acba6c1b5174f1ab",
            "placeholder": "​",
            "style": "IPY_MODEL_9c291791dbf24c7bb9abd404405959ae",
            "value": " 22263/22263 [00:09&lt;00:00, 2377.86 examples/s]"
          }
        },
        "897e51ef48794d05b6961082519ddd79": {
          "model_module": "@jupyter-widgets/base",
          "model_name": "LayoutModel",
          "model_module_version": "1.2.0",
          "state": {
            "_model_module": "@jupyter-widgets/base",
            "_model_module_version": "1.2.0",
            "_model_name": "LayoutModel",
            "_view_count": null,
            "_view_module": "@jupyter-widgets/base",
            "_view_module_version": "1.2.0",
            "_view_name": "LayoutView",
            "align_content": null,
            "align_items": null,
            "align_self": null,
            "border": null,
            "bottom": null,
            "display": null,
            "flex": null,
            "flex_flow": null,
            "grid_area": null,
            "grid_auto_columns": null,
            "grid_auto_flow": null,
            "grid_auto_rows": null,
            "grid_column": null,
            "grid_gap": null,
            "grid_row": null,
            "grid_template_areas": null,
            "grid_template_columns": null,
            "grid_template_rows": null,
            "height": null,
            "justify_content": null,
            "justify_items": null,
            "left": null,
            "margin": null,
            "max_height": null,
            "max_width": null,
            "min_height": null,
            "min_width": null,
            "object_fit": null,
            "object_position": null,
            "order": null,
            "overflow": null,
            "overflow_x": null,
            "overflow_y": null,
            "padding": null,
            "right": null,
            "top": null,
            "visibility": null,
            "width": null
          }
        },
        "3ed5964be3a9479698ceb631f12344cd": {
          "model_module": "@jupyter-widgets/base",
          "model_name": "LayoutModel",
          "model_module_version": "1.2.0",
          "state": {
            "_model_module": "@jupyter-widgets/base",
            "_model_module_version": "1.2.0",
            "_model_name": "LayoutModel",
            "_view_count": null,
            "_view_module": "@jupyter-widgets/base",
            "_view_module_version": "1.2.0",
            "_view_name": "LayoutView",
            "align_content": null,
            "align_items": null,
            "align_self": null,
            "border": null,
            "bottom": null,
            "display": null,
            "flex": null,
            "flex_flow": null,
            "grid_area": null,
            "grid_auto_columns": null,
            "grid_auto_flow": null,
            "grid_auto_rows": null,
            "grid_column": null,
            "grid_gap": null,
            "grid_row": null,
            "grid_template_areas": null,
            "grid_template_columns": null,
            "grid_template_rows": null,
            "height": null,
            "justify_content": null,
            "justify_items": null,
            "left": null,
            "margin": null,
            "max_height": null,
            "max_width": null,
            "min_height": null,
            "min_width": null,
            "object_fit": null,
            "object_position": null,
            "order": null,
            "overflow": null,
            "overflow_x": null,
            "overflow_y": null,
            "padding": null,
            "right": null,
            "top": null,
            "visibility": null,
            "width": null
          }
        },
        "abc8948c65aa4fa7bda21ee52b356857": {
          "model_module": "@jupyter-widgets/controls",
          "model_name": "DescriptionStyleModel",
          "model_module_version": "1.5.0",
          "state": {
            "_model_module": "@jupyter-widgets/controls",
            "_model_module_version": "1.5.0",
            "_model_name": "DescriptionStyleModel",
            "_view_count": null,
            "_view_module": "@jupyter-widgets/base",
            "_view_module_version": "1.2.0",
            "_view_name": "StyleView",
            "description_width": ""
          }
        },
        "cdb741fd227a42609dc70c64ca6f4002": {
          "model_module": "@jupyter-widgets/base",
          "model_name": "LayoutModel",
          "model_module_version": "1.2.0",
          "state": {
            "_model_module": "@jupyter-widgets/base",
            "_model_module_version": "1.2.0",
            "_model_name": "LayoutModel",
            "_view_count": null,
            "_view_module": "@jupyter-widgets/base",
            "_view_module_version": "1.2.0",
            "_view_name": "LayoutView",
            "align_content": null,
            "align_items": null,
            "align_self": null,
            "border": null,
            "bottom": null,
            "display": null,
            "flex": null,
            "flex_flow": null,
            "grid_area": null,
            "grid_auto_columns": null,
            "grid_auto_flow": null,
            "grid_auto_rows": null,
            "grid_column": null,
            "grid_gap": null,
            "grid_row": null,
            "grid_template_areas": null,
            "grid_template_columns": null,
            "grid_template_rows": null,
            "height": null,
            "justify_content": null,
            "justify_items": null,
            "left": null,
            "margin": null,
            "max_height": null,
            "max_width": null,
            "min_height": null,
            "min_width": null,
            "object_fit": null,
            "object_position": null,
            "order": null,
            "overflow": null,
            "overflow_x": null,
            "overflow_y": null,
            "padding": null,
            "right": null,
            "top": null,
            "visibility": null,
            "width": null
          }
        },
        "f901628bd4fa4edfbdda3bcfa8362e23": {
          "model_module": "@jupyter-widgets/controls",
          "model_name": "ProgressStyleModel",
          "model_module_version": "1.5.0",
          "state": {
            "_model_module": "@jupyter-widgets/controls",
            "_model_module_version": "1.5.0",
            "_model_name": "ProgressStyleModel",
            "_view_count": null,
            "_view_module": "@jupyter-widgets/base",
            "_view_module_version": "1.2.0",
            "_view_name": "StyleView",
            "bar_color": null,
            "description_width": ""
          }
        },
        "b268a290261e43a9acba6c1b5174f1ab": {
          "model_module": "@jupyter-widgets/base",
          "model_name": "LayoutModel",
          "model_module_version": "1.2.0",
          "state": {
            "_model_module": "@jupyter-widgets/base",
            "_model_module_version": "1.2.0",
            "_model_name": "LayoutModel",
            "_view_count": null,
            "_view_module": "@jupyter-widgets/base",
            "_view_module_version": "1.2.0",
            "_view_name": "LayoutView",
            "align_content": null,
            "align_items": null,
            "align_self": null,
            "border": null,
            "bottom": null,
            "display": null,
            "flex": null,
            "flex_flow": null,
            "grid_area": null,
            "grid_auto_columns": null,
            "grid_auto_flow": null,
            "grid_auto_rows": null,
            "grid_column": null,
            "grid_gap": null,
            "grid_row": null,
            "grid_template_areas": null,
            "grid_template_columns": null,
            "grid_template_rows": null,
            "height": null,
            "justify_content": null,
            "justify_items": null,
            "left": null,
            "margin": null,
            "max_height": null,
            "max_width": null,
            "min_height": null,
            "min_width": null,
            "object_fit": null,
            "object_position": null,
            "order": null,
            "overflow": null,
            "overflow_x": null,
            "overflow_y": null,
            "padding": null,
            "right": null,
            "top": null,
            "visibility": null,
            "width": null
          }
        },
        "9c291791dbf24c7bb9abd404405959ae": {
          "model_module": "@jupyter-widgets/controls",
          "model_name": "DescriptionStyleModel",
          "model_module_version": "1.5.0",
          "state": {
            "_model_module": "@jupyter-widgets/controls",
            "_model_module_version": "1.5.0",
            "_model_name": "DescriptionStyleModel",
            "_view_count": null,
            "_view_module": "@jupyter-widgets/base",
            "_view_module_version": "1.2.0",
            "_view_name": "StyleView",
            "description_width": ""
          }
        },
        "3fd2ea3ef66442c0a8636220ab4207d6": {
          "model_module": "@jupyter-widgets/controls",
          "model_name": "HBoxModel",
          "model_module_version": "1.5.0",
          "state": {
            "_dom_classes": [],
            "_model_module": "@jupyter-widgets/controls",
            "_model_module_version": "1.5.0",
            "_model_name": "HBoxModel",
            "_view_count": null,
            "_view_module": "@jupyter-widgets/controls",
            "_view_module_version": "1.5.0",
            "_view_name": "HBoxView",
            "box_style": "",
            "children": [
              "IPY_MODEL_1eecaf545676446ea01fde72a94465ee",
              "IPY_MODEL_0e606177431d425b9b85590040350784",
              "IPY_MODEL_9ea4bf3a400944349875b720887fbce6"
            ],
            "layout": "IPY_MODEL_68fe5250925344bdaea5a5ff0fc1bfdf"
          }
        },
        "1eecaf545676446ea01fde72a94465ee": {
          "model_module": "@jupyter-widgets/controls",
          "model_name": "HTMLModel",
          "model_module_version": "1.5.0",
          "state": {
            "_dom_classes": [],
            "_model_module": "@jupyter-widgets/controls",
            "_model_module_version": "1.5.0",
            "_model_name": "HTMLModel",
            "_view_count": null,
            "_view_module": "@jupyter-widgets/controls",
            "_view_module_version": "1.5.0",
            "_view_name": "HTMLView",
            "description": "",
            "description_tooltip": null,
            "layout": "IPY_MODEL_89476ee5671847689f044129759532dc",
            "placeholder": "​",
            "style": "IPY_MODEL_7df01adac04b4872978438c8d0a7ce0f",
            "value": "Tokenizing validation: 100%"
          }
        },
        "0e606177431d425b9b85590040350784": {
          "model_module": "@jupyter-widgets/controls",
          "model_name": "FloatProgressModel",
          "model_module_version": "1.5.0",
          "state": {
            "_dom_classes": [],
            "_model_module": "@jupyter-widgets/controls",
            "_model_module_version": "1.5.0",
            "_model_name": "FloatProgressModel",
            "_view_count": null,
            "_view_module": "@jupyter-widgets/controls",
            "_view_module_version": "1.5.0",
            "_view_name": "ProgressView",
            "bar_style": "success",
            "description": "",
            "description_tooltip": null,
            "layout": "IPY_MODEL_60de3d216f014e748a0ce93437c3aa59",
            "max": 3718,
            "min": 0,
            "orientation": "horizontal",
            "style": "IPY_MODEL_64ba4b6444814abeb852e5e4ab8b7bdc",
            "value": 3718
          }
        },
        "9ea4bf3a400944349875b720887fbce6": {
          "model_module": "@jupyter-widgets/controls",
          "model_name": "HTMLModel",
          "model_module_version": "1.5.0",
          "state": {
            "_dom_classes": [],
            "_model_module": "@jupyter-widgets/controls",
            "_model_module_version": "1.5.0",
            "_model_name": "HTMLModel",
            "_view_count": null,
            "_view_module": "@jupyter-widgets/controls",
            "_view_module_version": "1.5.0",
            "_view_name": "HTMLView",
            "description": "",
            "description_tooltip": null,
            "layout": "IPY_MODEL_4f8f0b7b944f41078a673769ce6cae71",
            "placeholder": "​",
            "style": "IPY_MODEL_00f435f162ef49fcb7952d378371c9cd",
            "value": " 3718/3718 [00:01&lt;00:00, 2869.89 examples/s]"
          }
        },
        "68fe5250925344bdaea5a5ff0fc1bfdf": {
          "model_module": "@jupyter-widgets/base",
          "model_name": "LayoutModel",
          "model_module_version": "1.2.0",
          "state": {
            "_model_module": "@jupyter-widgets/base",
            "_model_module_version": "1.2.0",
            "_model_name": "LayoutModel",
            "_view_count": null,
            "_view_module": "@jupyter-widgets/base",
            "_view_module_version": "1.2.0",
            "_view_name": "LayoutView",
            "align_content": null,
            "align_items": null,
            "align_self": null,
            "border": null,
            "bottom": null,
            "display": null,
            "flex": null,
            "flex_flow": null,
            "grid_area": null,
            "grid_auto_columns": null,
            "grid_auto_flow": null,
            "grid_auto_rows": null,
            "grid_column": null,
            "grid_gap": null,
            "grid_row": null,
            "grid_template_areas": null,
            "grid_template_columns": null,
            "grid_template_rows": null,
            "height": null,
            "justify_content": null,
            "justify_items": null,
            "left": null,
            "margin": null,
            "max_height": null,
            "max_width": null,
            "min_height": null,
            "min_width": null,
            "object_fit": null,
            "object_position": null,
            "order": null,
            "overflow": null,
            "overflow_x": null,
            "overflow_y": null,
            "padding": null,
            "right": null,
            "top": null,
            "visibility": null,
            "width": null
          }
        },
        "89476ee5671847689f044129759532dc": {
          "model_module": "@jupyter-widgets/base",
          "model_name": "LayoutModel",
          "model_module_version": "1.2.0",
          "state": {
            "_model_module": "@jupyter-widgets/base",
            "_model_module_version": "1.2.0",
            "_model_name": "LayoutModel",
            "_view_count": null,
            "_view_module": "@jupyter-widgets/base",
            "_view_module_version": "1.2.0",
            "_view_name": "LayoutView",
            "align_content": null,
            "align_items": null,
            "align_self": null,
            "border": null,
            "bottom": null,
            "display": null,
            "flex": null,
            "flex_flow": null,
            "grid_area": null,
            "grid_auto_columns": null,
            "grid_auto_flow": null,
            "grid_auto_rows": null,
            "grid_column": null,
            "grid_gap": null,
            "grid_row": null,
            "grid_template_areas": null,
            "grid_template_columns": null,
            "grid_template_rows": null,
            "height": null,
            "justify_content": null,
            "justify_items": null,
            "left": null,
            "margin": null,
            "max_height": null,
            "max_width": null,
            "min_height": null,
            "min_width": null,
            "object_fit": null,
            "object_position": null,
            "order": null,
            "overflow": null,
            "overflow_x": null,
            "overflow_y": null,
            "padding": null,
            "right": null,
            "top": null,
            "visibility": null,
            "width": null
          }
        },
        "7df01adac04b4872978438c8d0a7ce0f": {
          "model_module": "@jupyter-widgets/controls",
          "model_name": "DescriptionStyleModel",
          "model_module_version": "1.5.0",
          "state": {
            "_model_module": "@jupyter-widgets/controls",
            "_model_module_version": "1.5.0",
            "_model_name": "DescriptionStyleModel",
            "_view_count": null,
            "_view_module": "@jupyter-widgets/base",
            "_view_module_version": "1.2.0",
            "_view_name": "StyleView",
            "description_width": ""
          }
        },
        "60de3d216f014e748a0ce93437c3aa59": {
          "model_module": "@jupyter-widgets/base",
          "model_name": "LayoutModel",
          "model_module_version": "1.2.0",
          "state": {
            "_model_module": "@jupyter-widgets/base",
            "_model_module_version": "1.2.0",
            "_model_name": "LayoutModel",
            "_view_count": null,
            "_view_module": "@jupyter-widgets/base",
            "_view_module_version": "1.2.0",
            "_view_name": "LayoutView",
            "align_content": null,
            "align_items": null,
            "align_self": null,
            "border": null,
            "bottom": null,
            "display": null,
            "flex": null,
            "flex_flow": null,
            "grid_area": null,
            "grid_auto_columns": null,
            "grid_auto_flow": null,
            "grid_auto_rows": null,
            "grid_column": null,
            "grid_gap": null,
            "grid_row": null,
            "grid_template_areas": null,
            "grid_template_columns": null,
            "grid_template_rows": null,
            "height": null,
            "justify_content": null,
            "justify_items": null,
            "left": null,
            "margin": null,
            "max_height": null,
            "max_width": null,
            "min_height": null,
            "min_width": null,
            "object_fit": null,
            "object_position": null,
            "order": null,
            "overflow": null,
            "overflow_x": null,
            "overflow_y": null,
            "padding": null,
            "right": null,
            "top": null,
            "visibility": null,
            "width": null
          }
        },
        "64ba4b6444814abeb852e5e4ab8b7bdc": {
          "model_module": "@jupyter-widgets/controls",
          "model_name": "ProgressStyleModel",
          "model_module_version": "1.5.0",
          "state": {
            "_model_module": "@jupyter-widgets/controls",
            "_model_module_version": "1.5.0",
            "_model_name": "ProgressStyleModel",
            "_view_count": null,
            "_view_module": "@jupyter-widgets/base",
            "_view_module_version": "1.2.0",
            "_view_name": "StyleView",
            "bar_color": null,
            "description_width": ""
          }
        },
        "4f8f0b7b944f41078a673769ce6cae71": {
          "model_module": "@jupyter-widgets/base",
          "model_name": "LayoutModel",
          "model_module_version": "1.2.0",
          "state": {
            "_model_module": "@jupyter-widgets/base",
            "_model_module_version": "1.2.0",
            "_model_name": "LayoutModel",
            "_view_count": null,
            "_view_module": "@jupyter-widgets/base",
            "_view_module_version": "1.2.0",
            "_view_name": "LayoutView",
            "align_content": null,
            "align_items": null,
            "align_self": null,
            "border": null,
            "bottom": null,
            "display": null,
            "flex": null,
            "flex_flow": null,
            "grid_area": null,
            "grid_auto_columns": null,
            "grid_auto_flow": null,
            "grid_auto_rows": null,
            "grid_column": null,
            "grid_gap": null,
            "grid_row": null,
            "grid_template_areas": null,
            "grid_template_columns": null,
            "grid_template_rows": null,
            "height": null,
            "justify_content": null,
            "justify_items": null,
            "left": null,
            "margin": null,
            "max_height": null,
            "max_width": null,
            "min_height": null,
            "min_width": null,
            "object_fit": null,
            "object_position": null,
            "order": null,
            "overflow": null,
            "overflow_x": null,
            "overflow_y": null,
            "padding": null,
            "right": null,
            "top": null,
            "visibility": null,
            "width": null
          }
        },
        "00f435f162ef49fcb7952d378371c9cd": {
          "model_module": "@jupyter-widgets/controls",
          "model_name": "DescriptionStyleModel",
          "model_module_version": "1.5.0",
          "state": {
            "_model_module": "@jupyter-widgets/controls",
            "_model_module_version": "1.5.0",
            "_model_name": "DescriptionStyleModel",
            "_view_count": null,
            "_view_module": "@jupyter-widgets/base",
            "_view_module_version": "1.2.0",
            "_view_name": "StyleView",
            "description_width": ""
          }
        }
      }
    },
    "accelerator": "GPU"
  },
  "cells": [
    {
      "cell_type": "code",
      "execution_count": null,
      "metadata": {
        "colab": {
          "base_uri": "https://localhost:8080/"
        },
        "id": "S0b1AH-N4Gc6",
        "outputId": "2665adbe-8343-43ba-c8a5-99fafbe06b56"
      },
      "outputs": [
        {
          "output_type": "stream",
          "name": "stdout",
          "text": [
            "\u001b[?25l   \u001b[90m━━━━━━━━━━━━━━━━━━━━━━━━━━━━━━━━━━━━━━━━\u001b[0m \u001b[32m0.0/84.1 kB\u001b[0m \u001b[31m?\u001b[0m eta \u001b[36m-:--:--\u001b[0m\r\u001b[2K   \u001b[90m━━━━━━━━━━━━━━━━━━━━━━━━━━━━━━━━━━━━━━━━\u001b[0m \u001b[32m84.1/84.1 kB\u001b[0m \u001b[31m3.4 MB/s\u001b[0m eta \u001b[36m0:00:00\u001b[0m\n",
            "\u001b[?25h"
          ]
        }
      ],
      "source": [
        "!pip -q install \"transformers>=4.42\" \"datasets>=2.20\" \"evaluate>=0.4.2\" \"scikit-learn>=1.5\" \"accelerate>=0.30\" \"tqdm>=4.66\"\n"
      ]
    },
    {
      "cell_type": "markdown",
      "source": [],
      "metadata": {
        "id": "qVH03goR5cir"
      }
    },
    {
      "cell_type": "code",
      "source": [
        "import sys, numpy, torch, transformers, datasets, sklearn\n",
        "print(sys.version)\n",
        "print(\"numpy\", numpy.__version__)\n",
        "print(\"torch\", torch.__version__)\n",
        "print(\"transformers\", transformers.__version__)\n",
        "print(\"datasets\", datasets.__version__)\n"
      ],
      "metadata": {
        "id": "GcaEpU6h5b_z",
        "colab": {
          "base_uri": "https://localhost:8080/"
        },
        "outputId": "947557cd-37f1-4a23-bd54-0b9c0c002852"
      },
      "execution_count": 6,
      "outputs": [
        {
          "output_type": "stream",
          "name": "stdout",
          "text": [
            "3.12.11 (main, Jun  4 2025, 08:56:18) [GCC 11.4.0]\n",
            "numpy 2.0.2\n",
            "torch 2.8.0+cu126\n",
            "transformers 4.56.0\n",
            "datasets 4.0.0\n"
          ]
        }
      ]
    },
    {
      "cell_type": "markdown",
      "source": [
        "# Clone the dataset"
      ],
      "metadata": {
        "id": "FPYVUyg4IOD8"
      }
    },
    {
      "cell_type": "code",
      "source": [
        "REPO_URL = \"\" # some url...\n",
        "BRANCH   = \"main\"\n",
        "VERIFY_DATA = True\n",
        "\n",
        "import os, subprocess, shutil, csv\n",
        "from pathlib import Path\n",
        "\n",
        "%cd /content\n",
        "repo_dir = REPO_URL.rsplit(\"/\", 1)[-1].replace(\".git\", \"\")\n",
        "if Path(repo_dir).exists():\n",
        "    print(f\"Repo '{repo_dir}' exists — pulling latest…\")\n",
        "    %cd /content/{repo_dir}\n",
        "    if BRANCH:\n",
        "        subprocess.run([\"git\", \"fetch\", \"origin\", BRANCH], check=True)\n",
        "        subprocess.run([\"git\", \"checkout\", BRANCH], check=True)\n",
        "        subprocess.run([\"git\", \"reset\", \"--hard\", f\"origin/{BRANCH}\"], check=True)\n",
        "    else:\n",
        "        subprocess.run([\"git\", \"pull\"], check=True)\n",
        "else:\n",
        "    print(\"Cloning the repo\")\n",
        "    subprocess.run([\"git\", \"clone\", REPO_URL], check=True)\n",
        "    %cd /content/{repo_dir}\n",
        "    if BRANCH:\n",
        "        subprocess.run([\"git\", \"checkout\", BRANCH], check=True)\n",
        "\n",
        "print(\"Repo root:\", Path.cwd())\n",
        "\n",
        "def short_tree(root=\".\", max_depth=2):\n",
        "    root = Path(root)\n",
        "    for p in sorted(root.rglob(\"*\")):\n",
        "        depth = len(p.relative_to(root).parts)\n",
        "        if depth <= max_depth:\n",
        "            print(\"  \" * (depth-1) + (\"├─ \" if depth>0 else \"\") + p.name)\n",
        "\n",
        "short_tree(\".\", max_depth=2)\n",
        "\n",
        "\n",
        "if VERIFY_DATA:\n",
        "    expected = [\n",
        "        \"src/data/processed_bert/train.csv\",\n",
        "        \"src/data/processed_bert/train_augmented.csv\",\n",
        "        \"src/data/processed_bert/val.csv\",\n",
        "        \"src/data/processed_bert/test.csv\",\n",
        "    ]\n",
        "    missing = []\n",
        "    for rel in expected:\n",
        "        p = Path(rel)\n",
        "        if p.exists():\n",
        "            print(f\"{rel} ({p.stat().st_size/1e6:.2f} MB) exists\")\n",
        "\n",
        "    def peek_csv(path, n=2):\n",
        "        path = Path(path)\n",
        "        try:\n",
        "            with path.open(newline=\"\", encoding=\"utf-8\") as f:\n",
        "                reader = csv.DictReader(f)\n",
        "                headers = reader.fieldnames or []\n",
        "                print(f\"\\n{path} headers:\", headers)\n",
        "                required = {\"text\", \"clean_text\", \"label\"}\n",
        "                lowered = {h.lower() for h in headers}\n",
        "                print(\"Columns OK.\" if required.issubset(lowered)\n",
        "                      else f\"Missing columns: {sorted(required - lowered)}\")\n",
        "                for _, row in zip(range(n), reader):\n",
        "                    row_show = {k: (v[:80]+\"…\") if isinstance(v, str) and len(v) > 80 else v\n",
        "                                for k, v in row.items()}\n",
        "                    print(row_show)\n",
        "        except Exception as e:\n",
        "            print(f\"Peek failed for {path}: {e}\")\n",
        "\n",
        "    for rel in expected:\n",
        "        if Path(rel).exists():\n",
        "            peek_csv(rel)\n"
      ],
      "metadata": {
        "id": "YAH9cj-U5cGQ",
        "colab": {
          "base_uri": "https://localhost:8080/"
        },
        "outputId": "94084491-f602-4c93-8c0d-c9a6439dff21"
      },
      "execution_count": 7,
      "outputs": [
        {
          "output_type": "stream",
          "name": "stdout",
          "text": [
            "/content\n",
            "Cloning the repo\n",
            "/content/nlp-offensive-language-classifier\n",
            "Repo root: /content/nlp-offensive-language-classifier\n",
            "├─ .DS_Store\n",
            "├─ .git\n",
            "  ├─ HEAD\n",
            "  ├─ branches\n",
            "  ├─ config\n",
            "  ├─ description\n",
            "  ├─ hooks\n",
            "  ├─ index\n",
            "  ├─ info\n",
            "  ├─ logs\n",
            "  ├─ objects\n",
            "  ├─ packed-refs\n",
            "  ├─ refs\n",
            "├─ .gitignore\n",
            "├─ .idea\n",
            "  ├─ inspectionProfiles\n",
            "  ├─ libraries\n",
            "  ├─ misc.xml\n",
            "  ├─ modules.xml\n",
            "  ├─ nlp-offensive-language-classifier.iml\n",
            "  ├─ prettier.xml\n",
            "  ├─ vcs.xml\n",
            "  ├─ workspace.xml\n",
            "├─ .python-version\n",
            "├─ LICENSE\n",
            "├─ README.md\n",
            "├─ models\n",
            "  ├─ .DS_Store\n",
            "  ├─ .gitkeep\n",
            "  ├─ logreg\n",
            "  ├─ majority\n",
            "├─ notebooks\n",
            "  ├─ stage1_evaluation.ipynb\n",
            "  ├─ {01_eda.ipynb}\n",
            "├─ predictions\n",
            "  ├─ .DS_Store\n",
            "  ├─ logreg\n",
            "  ├─ majority\n",
            "├─ requirements.txt\n",
            "├─ results\n",
            "  ├─ stage1_confusion_matrices.png\n",
            "  ├─ stage1_overall_metrics.csv\n",
            "  ├─ stage1_per_class_comparison.png\n",
            "├─ run_phase1.py\n",
            "├─ src\n",
            "  ├─ .DS_Store\n",
            "  ├─ __init__.py\n",
            "  ├─ config.py\n",
            "  ├─ data\n",
            "  ├─ data_augmentation.py\n",
            "  ├─ data_loader.py\n",
            "  ├─ majority_baseline.py\n",
            "  ├─ preprocessing.py\n",
            "  ├─ tf_idf_baseline.py\n",
            "src/data/processed_bert/train.csv (2.82 MB) exists\n",
            "src/data/processed_bert/train_augmented.csv (3.66 MB) exists\n",
            "src/data/processed_bert/val.csv (0.61 MB) exists\n",
            "src/data/processed_bert/test.csv (0.60 MB) exists\n",
            "\n",
            "src/data/processed_bert/train.csv headers: ['text', 'label', 'clean_text']\n",
            "Columns OK.\n",
            "{'text': 'LMFAOOOOOO GAY AS FUCK RT @PubesOnFleeK: &#128557;&#128557;&#128557;&#128557;&#1…', 'label': '1', 'clean_text': 'LMFAOOOOOO GAY AS FUCK RT @user get these two faggots off my TL [URL]'}\n",
            "{'text': 'RT @OGTREEZ: Steve found out you can\\'t call Taiquaniesha a \"stupid fuckin cunt\" …', 'label': '1', 'clean_text': 'RT @user Steve found out you can\\'t call Taiquaniesha a \"stupid fuckin cunt\" like…'}\n",
            "\n",
            "src/data/processed_bert/train_augmented.csv headers: ['text', 'label', 'clean_text']\n",
            "Columns OK.\n",
            "{'text': 'LMFAOOOOOO GAY AS FUCK RT @PubesOnFleeK: &#128557;&#128557;&#128557;&#128557;&#1…', 'label': '1', 'clean_text': 'LMFAOOOOOO GAY AS FUCK RT @user get these two faggots off my TL [URL]'}\n",
            "{'text': 'RT @OGTREEZ: Steve found out you can\\'t call Taiquaniesha a \"stupid fuckin cunt\" …', 'label': '1', 'clean_text': 'RT @user Steve found out you can\\'t call Taiquaniesha a \"stupid fuckin cunt\" like…'}\n",
            "\n",
            "src/data/processed_bert/val.csv headers: ['text', 'label', 'clean_text']\n",
            "Columns OK.\n",
            "{'text': 'You fucking fag &#8220;@baethingape: this is exactly what i am talking about \\n\\nw…', 'label': '0', 'clean_text': 'You fucking fag @user this is exactly what i am talking about women are pigs [UR…'}\n",
            "{'text': \"RT @CoCoMilan18: &#8220;@Me1st_u_last: This bitch @GOTDAMNCHAT ain't got a bit o…\", 'label': '1', 'clean_text': \"RT @user @user This bitch @user ain't got a bit of sense lmaoo!! [URL]#8221;\"}\n",
            "\n",
            "src/data/processed_bert/test.csv headers: ['text', 'label', 'clean_text']\n",
            "Columns OK.\n",
            "{'text': 'RT @funkQdelic_ACE: Waka Flaka a lucky retard lol', 'label': '1', 'clean_text': 'RT @user Waka Flaka a lucky retard lol'}\n",
            "{'text': 'Yea I see ya hoe', 'label': '1', 'clean_text': 'Yea I see ya hoe'}\n"
          ]
        }
      ]
    },
    {
      "cell_type": "code",
      "source": [
        "import torch\n",
        "import pandas as pd\n",
        "import numpy as np\n",
        "from pathlib import Path\n",
        "import json\n",
        "\n",
        "device = torch.device('cuda' if torch.cuda.is_available() else 'cpu')\n",
        "print(f\"[setup] Device: {device}\")\n",
        "if device.type == 'cuda':\n",
        "    print(f\"[setup] GPU: {torch.cuda.get_device_name(0)}\")"
      ],
      "metadata": {
        "id": "2FfsdUae5cK2",
        "colab": {
          "base_uri": "https://localhost:8080/"
        },
        "outputId": "ab0cc91f-6515-48e4-9823-6bf18ebae4f4"
      },
      "execution_count": 8,
      "outputs": [
        {
          "output_type": "stream",
          "name": "stdout",
          "text": [
            "[setup] Device: cuda\n",
            "[setup] GPU: Tesla T4\n"
          ]
        }
      ]
    },
    {
      "cell_type": "markdown",
      "source": [
        "# Config"
      ],
      "metadata": {
        "id": "VfehDXjoNQj8"
      }
    },
    {
      "cell_type": "code",
      "source": [
        "BASE_DIR = Path('src/data')\n",
        "MODELS_DIR = Path('models')\n",
        "RESULTS_DIR = Path('results')\n",
        "\n",
        "VAL_PATH = BASE_DIR / 'processed_bert/val.csv'\n",
        "TEST_PATH = BASE_DIR / 'processed_bert/test.csv'\n",
        "\n",
        "CONFIG = {\n",
        "    'model_name': 'bert-base-uncased',\n",
        "    'max_length': 128,\n",
        "    'num_labels': 3,\n",
        "    'seed': 42,\n",
        "}\n",
        "\n",
        "CLASS_NAMES = {0: 'hate_speech', 1: 'offensive', 2: 'neither'}\n",
        "\n",
        "np.random.seed(CONFIG['seed'])\n",
        "torch.manual_seed(CONFIG['seed'])"
      ],
      "metadata": {
        "colab": {
          "base_uri": "https://localhost:8080/"
        },
        "id": "2JGZhhuoLga1",
        "outputId": "b6ca88ae-0e79-4468-c791-ae1bcb1a919f"
      },
      "execution_count": 9,
      "outputs": [
        {
          "output_type": "execute_result",
          "data": {
            "text/plain": [
              "<torch._C.Generator at 0x7f6824108470>"
            ]
          },
          "metadata": {},
          "execution_count": 9
        }
      ]
    },
    {
      "cell_type": "markdown",
      "source": [
        "# Data loading"
      ],
      "metadata": {
        "id": "tQGBgWkwNqSC"
      }
    },
    {
      "cell_type": "code",
      "source": [
        "def load_train_data(use_augmented=False):\n",
        "    if use_augmented:\n",
        "        path = BASE_DIR / 'processed_bert/train_augmented.csv'\n",
        "        print(f\"Loading AUGMENTED training data\")\n",
        "    else:\n",
        "        path = BASE_DIR / 'processed_bert/train.csv'\n",
        "        print(f\"Loading ORIGINAL training data\")\n",
        "\n",
        "    df = pd.read_csv(path)\n",
        "    print(f\"Loaded {len(df):,} samples from {path.name}\")\n",
        "    return df"
      ],
      "metadata": {
        "id": "KKnKJyXlNlqM"
      },
      "execution_count": 10,
      "outputs": []
    },
    {
      "cell_type": "code",
      "source": [
        "train_orig = load_train_data(use_augmented=False)\n",
        "train_aug = load_train_data(use_augmented=True)\n",
        "val_df = pd.read_csv(VAL_PATH)\n",
        "test_df = pd.read_csv(TEST_PATH)"
      ],
      "metadata": {
        "colab": {
          "base_uri": "https://localhost:8080/"
        },
        "id": "APnGiISrNlk8",
        "outputId": "f95b76d9-e959-4091-9754-a4ed16968a50"
      },
      "execution_count": 11,
      "outputs": [
        {
          "output_type": "stream",
          "name": "stdout",
          "text": [
            "Loading ORIGINAL training data\n",
            "Loaded 17,347 samples from train.csv\n",
            "Loading AUGMENTED training data\n",
            "Loaded 22,263 samples from train_augmented.csv\n"
          ]
        }
      ]
    },
    {
      "cell_type": "code",
      "source": [
        "print(f\"Val: {len(val_df):,} samples\")"
      ],
      "metadata": {
        "colab": {
          "base_uri": "https://localhost:8080/"
        },
        "id": "_Jvju9cqNlfe",
        "outputId": "6aa672e0-16e3-4b0d-afc2-886252509be2"
      },
      "execution_count": 12,
      "outputs": [
        {
          "output_type": "stream",
          "name": "stdout",
          "text": [
            "Val: 3,718 samples\n"
          ]
        }
      ]
    },
    {
      "cell_type": "code",
      "source": [
        "print(f\"Test: {len(test_df):,} samples\")"
      ],
      "metadata": {
        "colab": {
          "base_uri": "https://localhost:8080/"
        },
        "id": "BiUaBLdVNlTq",
        "outputId": "6f07eb5c-615f-47eb-f473-3a392e0ec1ff"
      },
      "execution_count": 13,
      "outputs": [
        {
          "output_type": "stream",
          "name": "stdout",
          "text": [
            "Test: 3,718 samples\n"
          ]
        }
      ]
    },
    {
      "cell_type": "code",
      "source": [
        "def peek_data(df, name=\"Dataset\"):\n",
        "    print(f\"\\n[peek] {name}\")\n",
        "    print(f\"  Shape: {df.shape}\")\n",
        "    print(f\"  Columns: {list(df.columns)}\")\n",
        "\n",
        "    dist = df['label'].value_counts().sort_index()\n",
        "    print(f\"  Classes:\")\n",
        "    for label, count in dist.items():\n",
        "        pct = (count / len(df)) * 100\n",
        "        print(f\"    {CLASS_NAMES[label]:12s}: {count:5d} ({pct:5.1f}%)\")\n",
        "\n",
        "\n",
        "peek_data(train_orig, \"Original Training\")\n",
        "peek_data(train_aug, \"Augmented Training\")\n",
        "peek_data(val_df, \"Validation\")"
      ],
      "metadata": {
        "colab": {
          "base_uri": "https://localhost:8080/"
        },
        "id": "SlXyLclBOQur",
        "outputId": "705ed361-115c-44a4-dc9b-6f4a325486fd"
      },
      "execution_count": 14,
      "outputs": [
        {
          "output_type": "stream",
          "name": "stdout",
          "text": [
            "\n",
            "[peek] Original Training\n",
            "  Shape: (17347, 3)\n",
            "  Columns: ['text', 'label', 'clean_text']\n",
            "  Classes:\n",
            "    hate_speech :  1001 (  5.8%)\n",
            "    offensive   : 13432 ( 77.4%)\n",
            "    neither     :  2914 ( 16.8%)\n",
            "\n",
            "[peek] Augmented Training\n",
            "  Shape: (22263, 3)\n",
            "  Columns: ['text', 'label', 'clean_text']\n",
            "  Classes:\n",
            "    hate_speech :  3003 ( 13.5%)\n",
            "    offensive   : 13432 ( 60.3%)\n",
            "    neither     :  5828 ( 26.2%)\n",
            "\n",
            "[peek] Validation\n",
            "  Shape: (3718, 3)\n",
            "  Columns: ['text', 'label', 'clean_text']\n",
            "  Classes:\n",
            "    hate_speech :   215 (  5.8%)\n",
            "    offensive   :  2879 ( 77.4%)\n",
            "    neither     :   624 ( 16.8%)\n"
          ]
        }
      ]
    },
    {
      "cell_type": "markdown",
      "source": [
        "# Class Weights Calculation"
      ],
      "metadata": {
        "id": "8q4T9OFYOxTU"
      }
    },
    {
      "cell_type": "code",
      "source": [
        "def calculate_class_weights(df):\n",
        "    from sklearn.utils.class_weight import compute_class_weight\n",
        "\n",
        "    labels = df['label'].values\n",
        "    unique_labels = np.array([0, 1, 2])\n",
        "\n",
        "    weights = compute_class_weight(\n",
        "        class_weight='balanced',\n",
        "        classes=unique_labels,\n",
        "        y=labels\n",
        "    )\n",
        "\n",
        "    print(f\"[weights] Computed for {len(df):,} samples:\")\n",
        "    for label, weight in zip(unique_labels, weights):\n",
        "        print(f\"  {CLASS_NAMES[label]:12s}: {weight:.4f}\")\n",
        "\n",
        "    return torch.tensor(weights, dtype=torch.float32)"
      ],
      "metadata": {
        "id": "CINB0-GDOQr0"
      },
      "execution_count": 15,
      "outputs": []
    },
    {
      "cell_type": "code",
      "source": [
        "weights_orig = calculate_class_weights(train_orig)\n",
        "weights_aug = calculate_class_weights(train_aug)"
      ],
      "metadata": {
        "colab": {
          "base_uri": "https://localhost:8080/"
        },
        "id": "Zkego1cZOQoy",
        "outputId": "3d959b21-b95a-4fdc-e171-6c313b4ee501"
      },
      "execution_count": 16,
      "outputs": [
        {
          "output_type": "stream",
          "name": "stdout",
          "text": [
            "[weights] Computed for 17,347 samples:\n",
            "  hate_speech : 5.7766\n",
            "  offensive   : 0.4305\n",
            "  neither     : 1.9843\n",
            "[weights] Computed for 22,263 samples:\n",
            "  hate_speech : 2.4712\n",
            "  offensive   : 0.5525\n",
            "  neither     : 1.2733\n"
          ]
        }
      ]
    },
    {
      "cell_type": "markdown",
      "source": [
        "# Tokenization"
      ],
      "metadata": {
        "id": "XFFUjLIkPLMg"
      }
    },
    {
      "cell_type": "code",
      "source": [
        "from transformers import BertTokenizer\n",
        "\n",
        "tokenizer = BertTokenizer.from_pretrained('bert-base-uncased')"
      ],
      "metadata": {
        "colab": {
          "base_uri": "https://localhost:8080/",
          "height": 267,
          "referenced_widgets": [
            "dfe25e154c3d40b7b8102dee822d7ef5",
            "8c925801febf4f1b88e0f82ede68a0d2",
            "9c5b89f1c2b14771ad9e05ca3e83bca5",
            "f3b7eb14443c46a4b84bdf73212a9029",
            "f447a70955b04ea2be448eb6892e833c",
            "8e4a60dc9846466596b4a0d34055945e",
            "369f06793e7d490da747a6def97beec7",
            "d3468ac075494ea69961b6a1ff422b48",
            "41b5b5faa8284d1d9aa4b0d7622b3c90",
            "d5db6657940f401d9b177d9cbbeab22d",
            "0705800b6d8247c5b6db78d6f40d90d9",
            "e09afd2a01704d1ea6c04e253bfe2501",
            "4fc5e132799a426ab9b8dd89a09a1cf2",
            "3addc6fd59694debb7e4d9225e745042",
            "3ce4ed87d88e46779dae5826f1736e19",
            "c239b59566964152bb9d86e831f45be8",
            "032e67506dfd448383f0955288aa2f1e",
            "7bff69eeff2f4cba8b65c106b7d5c044",
            "39618f3bc649408d86178c594d3abb49",
            "538c1445234b4316b36ae8a7c2147b85",
            "2f560bcef67e45afb86fceb634cafb1e",
            "ec26fb8fc46e461396de54c0728c40cb",
            "2c8f19dda2a943839ffb3f3b25263688",
            "5d5a0c1abe2941b3aa49c59ac9dd8ba5",
            "8cd50d9d1b2d45da90208ba4c885b977",
            "1dcb00036ea54e7683224da95808807d",
            "a83df0b63908495eb74396f832a670bb",
            "c6000ba2bdb6425d8092bd85039c8760",
            "15a42812275d4dc4a8ae6d259875e46d",
            "b45ee88866dd432a86d6c06fd1262e9a",
            "07df18cfbc7b4a139b6bd2e26a0a21f7",
            "e63d24ff1444408fa1d50a3791c3b126",
            "431cb4cdaca7412fa2c246c4f20dfd2a",
            "2c5fecfc98584ed6b22ecb892b6b89c0",
            "574ed206985b4935967a91c0f54ecb39",
            "a9c5009d607d4280b8157c3bd64a822b",
            "5305c9320ea3475c839a5c920dcd1873",
            "1387beba6fae420f9de64916baea494e",
            "1820b7b8e1ce4fe3987aaec7701a0d1d",
            "feda65b15aca4bdf9662f4d0b75e2517",
            "170b57df16fa4c3aa302bc7faa9a46e1",
            "450664a8c0c34ae08e07d08568eddc2b",
            "95bddb3b62754d4a8289eeb2b5112714",
            "004dcee96e8a4f6a926af36640ea400f"
          ]
        },
        "id": "XZWYmCBUOQit",
        "outputId": "def8a4a5-1ebd-4141-9057-813ddefff3d8"
      },
      "execution_count": 17,
      "outputs": [
        {
          "output_type": "stream",
          "name": "stderr",
          "text": [
            "/usr/local/lib/python3.12/dist-packages/huggingface_hub/utils/_auth.py:94: UserWarning: \n",
            "The secret `HF_TOKEN` does not exist in your Colab secrets.\n",
            "To authenticate with the Hugging Face Hub, create a token in your settings tab (https://huggingface.co/settings/tokens), set it as secret in your Google Colab and restart your session.\n",
            "You will be able to reuse this secret in all of your notebooks.\n",
            "Please note that authentication is recommended but still optional to access public models or datasets.\n",
            "  warnings.warn(\n"
          ]
        },
        {
          "output_type": "display_data",
          "data": {
            "text/plain": [
              "tokenizer_config.json:   0%|          | 0.00/48.0 [00:00<?, ?B/s]"
            ],
            "application/vnd.jupyter.widget-view+json": {
              "version_major": 2,
              "version_minor": 0,
              "model_id": "dfe25e154c3d40b7b8102dee822d7ef5"
            }
          },
          "metadata": {}
        },
        {
          "output_type": "display_data",
          "data": {
            "text/plain": [
              "vocab.txt:   0%|          | 0.00/232k [00:00<?, ?B/s]"
            ],
            "application/vnd.jupyter.widget-view+json": {
              "version_major": 2,
              "version_minor": 0,
              "model_id": "e09afd2a01704d1ea6c04e253bfe2501"
            }
          },
          "metadata": {}
        },
        {
          "output_type": "display_data",
          "data": {
            "text/plain": [
              "tokenizer.json:   0%|          | 0.00/466k [00:00<?, ?B/s]"
            ],
            "application/vnd.jupyter.widget-view+json": {
              "version_major": 2,
              "version_minor": 0,
              "model_id": "2c8f19dda2a943839ffb3f3b25263688"
            }
          },
          "metadata": {}
        },
        {
          "output_type": "display_data",
          "data": {
            "text/plain": [
              "config.json:   0%|          | 0.00/570 [00:00<?, ?B/s]"
            ],
            "application/vnd.jupyter.widget-view+json": {
              "version_major": 2,
              "version_minor": 0,
              "model_id": "2c5fecfc98584ed6b22ecb892b6b89c0"
            }
          },
          "metadata": {}
        }
      ]
    },
    {
      "cell_type": "code",
      "source": [
        "from datasets import Dataset\n",
        "\n",
        "train_orig_dataset = Dataset.from_pandas(train_orig[['clean_text', 'label']])\n",
        "print(f\"Original train: {len(train_orig_dataset):,} samples\")\n",
        "\n",
        "train_aug_dataset = Dataset.from_pandas(train_aug[['clean_text', 'label']])\n",
        "print(f\"Augmented train: {len(train_aug_dataset):,} samples\")\n",
        "\n",
        "val_dataset = Dataset.from_pandas(val_df[['clean_text', 'label']])\n",
        "print(f\"Validation: {len(val_dataset):,} samples\")"
      ],
      "metadata": {
        "colab": {
          "base_uri": "https://localhost:8080/"
        },
        "id": "Q5O8p2fKOQfe",
        "outputId": "92bdd25d-187e-4229-e463-b6583c83413c"
      },
      "execution_count": 18,
      "outputs": [
        {
          "output_type": "stream",
          "name": "stdout",
          "text": [
            "Original train: 17,347 samples\n",
            "Augmented train: 22,263 samples\n",
            "Validation: 3,718 samples\n"
          ]
        }
      ]
    },
    {
      "cell_type": "code",
      "source": [
        "def tokenize_texts(examples):\n",
        "    return tokenizer(\n",
        "        examples['clean_text'],\n",
        "        padding='max_length',\n",
        "        truncation=True,\n",
        "        max_length=128\n",
        "    )"
      ],
      "metadata": {
        "id": "Bs3l-Al9PToL"
      },
      "execution_count": 19,
      "outputs": []
    },
    {
      "cell_type": "code",
      "source": [
        "train_orig_tok = train_orig_dataset.map(\n",
        "    tokenize_texts,\n",
        "    batched=True,\n",
        "    desc=\"Tokenizing original\"\n",
        ")"
      ],
      "metadata": {
        "colab": {
          "base_uri": "https://localhost:8080/",
          "height": 49,
          "referenced_widgets": [
            "f5771a784ddc456da40fd3814d54aad6",
            "4787574aeed0463d913553eb531ecad5",
            "9375ee3c013e4e0c9dd74b649569d0c1",
            "5df9f89ddecf410d84745b71970fb3d1",
            "a3621500d1b441bf8aa488ef14bd78f9",
            "6077d222c00d42e795de81fbbf7692a1",
            "dd9f528eb5e746b3afb30b57e8e400ea",
            "9f314926288b4a829157d1756286ff36",
            "b8f8bc89fc184106b8e3336f56f6ffd9",
            "f52d1a4e954b443d8c1e00251efe4c44",
            "6d3fb35f51ca4b83bf109dfe61469ecd"
          ]
        },
        "id": "8D_uHiHUPTlb",
        "outputId": "6be86520-cd7e-405d-b72d-0d1a8e68e97e"
      },
      "execution_count": 20,
      "outputs": [
        {
          "output_type": "display_data",
          "data": {
            "text/plain": [
              "Tokenizing original:   0%|          | 0/17347 [00:00<?, ? examples/s]"
            ],
            "application/vnd.jupyter.widget-view+json": {
              "version_major": 2,
              "version_minor": 0,
              "model_id": "f5771a784ddc456da40fd3814d54aad6"
            }
          },
          "metadata": {}
        }
      ]
    },
    {
      "cell_type": "code",
      "source": [
        "train_aug_tok = train_aug_dataset.map(\n",
        "    tokenize_texts,\n",
        "    batched=True,\n",
        "    desc=\"Tokenizing augmented\"\n",
        ")"
      ],
      "metadata": {
        "colab": {
          "base_uri": "https://localhost:8080/",
          "height": 49,
          "referenced_widgets": [
            "bd10c15da3984c44bd6f6401d3d11d55",
            "54cad1bedba147a48164c7c6f3f4341b",
            "6f09ec5aa39f4716897ee4e6d2eabac5",
            "9a980cdd6be14316a7731d373c61b769",
            "897e51ef48794d05b6961082519ddd79",
            "3ed5964be3a9479698ceb631f12344cd",
            "abc8948c65aa4fa7bda21ee52b356857",
            "cdb741fd227a42609dc70c64ca6f4002",
            "f901628bd4fa4edfbdda3bcfa8362e23",
            "b268a290261e43a9acba6c1b5174f1ab",
            "9c291791dbf24c7bb9abd404405959ae"
          ]
        },
        "id": "BgR7Rz0UPTiE",
        "outputId": "fc7f65bf-9be9-41af-99f6-1a43b78f2112"
      },
      "execution_count": 21,
      "outputs": [
        {
          "output_type": "display_data",
          "data": {
            "text/plain": [
              "Tokenizing augmented:   0%|          | 0/22263 [00:00<?, ? examples/s]"
            ],
            "application/vnd.jupyter.widget-view+json": {
              "version_major": 2,
              "version_minor": 0,
              "model_id": "bd10c15da3984c44bd6f6401d3d11d55"
            }
          },
          "metadata": {}
        }
      ]
    },
    {
      "cell_type": "code",
      "source": [
        "val_tok = val_dataset.map(\n",
        "    tokenize_texts,\n",
        "    batched=True,\n",
        "    desc=\"Tokenizing validation\"\n",
        ")"
      ],
      "metadata": {
        "colab": {
          "base_uri": "https://localhost:8080/",
          "height": 49,
          "referenced_widgets": [
            "3fd2ea3ef66442c0a8636220ab4207d6",
            "1eecaf545676446ea01fde72a94465ee",
            "0e606177431d425b9b85590040350784",
            "9ea4bf3a400944349875b720887fbce6",
            "68fe5250925344bdaea5a5ff0fc1bfdf",
            "89476ee5671847689f044129759532dc",
            "7df01adac04b4872978438c8d0a7ce0f",
            "60de3d216f014e748a0ce93437c3aa59",
            "64ba4b6444814abeb852e5e4ab8b7bdc",
            "4f8f0b7b944f41078a673769ce6cae71",
            "00f435f162ef49fcb7952d378371c9cd"
          ]
        },
        "id": "THj9o40GPTew",
        "outputId": "3443fd3e-e06d-4447-e509-6afe5e56d721"
      },
      "execution_count": 22,
      "outputs": [
        {
          "output_type": "display_data",
          "data": {
            "text/plain": [
              "Tokenizing validation:   0%|          | 0/3718 [00:00<?, ? examples/s]"
            ],
            "application/vnd.jupyter.widget-view+json": {
              "version_major": 2,
              "version_minor": 0,
              "model_id": "3fd2ea3ef66442c0a8636220ab4207d6"
            }
          },
          "metadata": {}
        }
      ]
    },
    {
      "cell_type": "code",
      "source": [
        "train_orig_tok = train_orig_tok.rename_column('label', 'labels')\n",
        "train_aug_tok = train_aug_tok.rename_column('label', 'labels')\n",
        "val_tok = val_tok.rename_column('label', 'labels')\n",
        "\n",
        "train_orig_tok.set_format('torch')\n",
        "train_aug_tok.set_format('torch')\n",
        "val_tok.set_format('torch')"
      ],
      "metadata": {
        "id": "waspB1w8PTbp"
      },
      "execution_count": 23,
      "outputs": []
    },
    {
      "cell_type": "code",
      "source": [
        "sample = train_orig_tok[0]\n",
        "\n",
        "print(f\"Label: {sample['labels']} ({CLASS_NAMES[int(sample['labels'])]})\")\n",
        "print(f\"Input IDs shape: {sample['input_ids'].shape}\")\n",
        "print(f\"Attention mask shape: {sample['attention_mask'].shape}\")\n",
        "\n",
        "decoded = tokenizer.decode(sample['input_ids'], skip_special_tokens=True)\n",
        "print(f\"Decoded text (first 100 chars): '{decoded[:100]}...'\")\n",
        "\n",
        "num_real_tokens = sample['attention_mask'].sum().item()\n",
        "print(f\"Real tokens: {num_real_tokens} / 128\")"
      ],
      "metadata": {
        "colab": {
          "base_uri": "https://localhost:8080/"
        },
        "id": "ecxtHnLKRoyX",
        "outputId": "f4aab341-f34c-4bd4-d752-3e37a75aaaa1"
      },
      "execution_count": 24,
      "outputs": [
        {
          "output_type": "stream",
          "name": "stdout",
          "text": [
            "  Label: 1 (offensive)\n",
            "  Input IDs shape: torch.Size([128])\n",
            "  Attention mask shape: torch.Size([128])\n",
            "  Decoded text (first 100 chars): 'lmfaoooooo gay as fuck rt @ user get these two faggots off my tl [ url ]...'\n",
            "  Real tokens: 28 / 128\n"
          ]
        }
      ]
    },
    {
      "cell_type": "code",
      "source": [],
      "metadata": {
        "id": "xdgv5WqMRoul"
      },
      "execution_count": null,
      "outputs": []
    },
    {
      "cell_type": "markdown",
      "source": [
        "# Setting up the training"
      ],
      "metadata": {
        "id": "vDSD01WYTxee"
      }
    },
    {
      "cell_type": "code",
      "source": [
        "def get_training_config(use_augmented=False):\n",
        "    train_config = {\n",
        "        'num_train_epochs': 4,\n",
        "        'learning_rate': 3e-5,\n",
        "        'per_device_train_batch_size': 16,\n",
        "        'per_device_eval_batch_size': 32,\n",
        "        'gradient_accumulation_steps': 2,\n",
        "        'weight_decay': 0.01,\n",
        "        'warmup_ratio': 0.1,\n",
        "        'fp16': True,\n",
        "        'seed': CONFIG['seed'],\n",
        "        'eval_strategy': 'epoch',\n",
        "        'save_strategy': 'epoch',\n",
        "        'save_total_limit': 2,\n",
        "        'load_best_model_at_end': True,\n",
        "        'metric_for_best_model': 'f1_macro',\n",
        "        'greater_is_better': True,\n",
        "        'logging_steps': 100,\n",
        "    }\n",
        "\n",
        "    if use_augmented:\n",
        "        train_config['output_dir'] = str(MODELS_DIR / 'bert_augmented')\n",
        "        train_config['run_name'] = 'bert_augmented'\n",
        "    else:\n",
        "        train_config['output_dir'] = str(MODELS_DIR / 'bert_original')\n",
        "        train_config['run_name'] = 'bert_original'\n",
        "\n",
        "    print(f\"[config] Training config for {train_config['run_name']}\")\n",
        "    print(f\"  Output: {train_config['output_dir']}\")\n",
        "    print(f\"  Epochs: {train_config['num_train_epochs']}\")\n",
        "    print(f\"  Effective batch: {train_config['per_device_train_batch_size'] * train_config['gradient_accumulation_steps']}\")\n",
        "\n",
        "    return train_config\n"
      ],
      "metadata": {
        "id": "GMvZFGKFRorj"
      },
      "execution_count": 37,
      "outputs": []
    },
    {
      "cell_type": "code",
      "source": [
        "config_orig = get_training_config(use_augmented=False)\n",
        "config_aug = get_training_config(use_augmented=True)"
      ],
      "metadata": {
        "colab": {
          "base_uri": "https://localhost:8080/"
        },
        "id": "aN4zgHAcRoos",
        "outputId": "110e3e3d-380b-4ce5-c51e-5524aa6906d8"
      },
      "execution_count": 38,
      "outputs": [
        {
          "output_type": "stream",
          "name": "stdout",
          "text": [
            "[config] Training config for bert_original\n",
            "  Output: models/bert_original\n",
            "  Epochs: 4\n",
            "  Effective batch: 32\n",
            "[config] Training config for bert_augmented\n",
            "  Output: models/bert_augmented\n",
            "  Epochs: 4\n",
            "  Effective batch: 32\n"
          ]
        }
      ]
    },
    {
      "cell_type": "code",
      "source": [
        "config_orig"
      ],
      "metadata": {
        "colab": {
          "base_uri": "https://localhost:8080/"
        },
        "id": "-fPzo13SRole",
        "outputId": "39570f12-4656-467e-fafa-339e87f4705e"
      },
      "execution_count": 39,
      "outputs": [
        {
          "output_type": "execute_result",
          "data": {
            "text/plain": [
              "{'num_train_epochs': 4,\n",
              " 'learning_rate': 3e-05,\n",
              " 'per_device_train_batch_size': 16,\n",
              " 'per_device_eval_batch_size': 32,\n",
              " 'gradient_accumulation_steps': 2,\n",
              " 'weight_decay': 0.01,\n",
              " 'warmup_ratio': 0.1,\n",
              " 'fp16': True,\n",
              " 'seed': 42,\n",
              " 'eval_strategy': 'epoch',\n",
              " 'save_strategy': 'epoch',\n",
              " 'save_total_limit': 2,\n",
              " 'load_best_model_at_end': True,\n",
              " 'metric_for_best_model': 'f1_macro',\n",
              " 'greater_is_better': True,\n",
              " 'logging_steps': 100,\n",
              " 'output_dir': 'models/bert_original',\n",
              " 'run_name': 'bert_original'}"
            ]
          },
          "metadata": {},
          "execution_count": 39
        }
      ]
    },
    {
      "cell_type": "code",
      "source": [
        "config_aug"
      ],
      "metadata": {
        "id": "AFZXgnHVRoiW",
        "colab": {
          "base_uri": "https://localhost:8080/"
        },
        "outputId": "4dbde121-6bbe-467b-ff7d-b443406c0742"
      },
      "execution_count": 40,
      "outputs": [
        {
          "output_type": "execute_result",
          "data": {
            "text/plain": [
              "{'num_train_epochs': 4,\n",
              " 'learning_rate': 3e-05,\n",
              " 'per_device_train_batch_size': 16,\n",
              " 'per_device_eval_batch_size': 32,\n",
              " 'gradient_accumulation_steps': 2,\n",
              " 'weight_decay': 0.01,\n",
              " 'warmup_ratio': 0.1,\n",
              " 'fp16': True,\n",
              " 'seed': 42,\n",
              " 'eval_strategy': 'epoch',\n",
              " 'save_strategy': 'epoch',\n",
              " 'save_total_limit': 2,\n",
              " 'load_best_model_at_end': True,\n",
              " 'metric_for_best_model': 'f1_macro',\n",
              " 'greater_is_better': True,\n",
              " 'logging_steps': 100,\n",
              " 'output_dir': 'models/bert_augmented',\n",
              " 'run_name': 'bert_augmented'}"
            ]
          },
          "metadata": {},
          "execution_count": 40
        }
      ]
    },
    {
      "cell_type": "markdown",
      "source": [
        "# Define Metrics Function"
      ],
      "metadata": {
        "id": "4jhypMqvCsYa"
      }
    },
    {
      "cell_type": "code",
      "source": [
        "from sklearn.metrics import accuracy_score, f1_score, precision_recall_fscore_support\n",
        "import numpy as np\n",
        "\n",
        "def compute_metrics(eval_pred):\n",
        "    predictions, labels = eval_pred\n",
        "    predictions = np.argmax(predictions, axis=1)\n",
        "\n",
        "    accuracy = accuracy_score(labels, predictions)\n",
        "    macro_f1 = f1_score(labels, predictions, average='macro')\n",
        "    weighted_f1 = f1_score(labels, predictions, average='weighted')\n",
        "\n",
        "    precision, recall, f1, _ = precision_recall_fscore_support(\n",
        "        labels, predictions,\n",
        "        average=None,\n",
        "        labels=[0, 1, 2]\n",
        "    )\n",
        "\n",
        "    return {\n",
        "        'accuracy': accuracy,\n",
        "        'f1_macro': macro_f1,\n",
        "        'f1_weighted': weighted_f1,\n",
        "        'hate_speech_precision': precision[0],\n",
        "        'hate_speech_recall': recall[0],\n",
        "        'hate_speech_f1': f1[0],\n",
        "        'offensive_precision': precision[1],\n",
        "        'offensive_recall': recall[1],\n",
        "        'offensive_f1': f1[1],\n",
        "        'neither_precision': precision[2],\n",
        "        'neither_recall': recall[2],\n",
        "        'neither_f1': f1[2],\n",
        "    }"
      ],
      "metadata": {
        "id": "j1n8Yq5GRofG"
      },
      "execution_count": 41,
      "outputs": []
    },
    {
      "cell_type": "markdown",
      "source": [
        "# Custom Trainer with Weighted Loss"
      ],
      "metadata": {
        "id": "ZrHw10NOC4T6"
      }
    },
    {
      "cell_type": "code",
      "source": [
        "from transformers import Trainer\n",
        "from torch import nn\n",
        "\n",
        "class WeightedTrainer(Trainer):\n",
        "    def __init__(self, class_weights, **kwargs):\n",
        "        if 'tokenizer' in kwargs:\n",
        "            kwargs['processing_class'] = kwargs.pop('tokenizer')\n",
        "        super().__init__(**kwargs)\n",
        "        self.loss_fn = nn.CrossEntropyLoss(weight=class_weights.to(self.args.device))\n",
        "\n",
        "    def compute_loss(self, model, inputs, return_outputs=False, num_items_in_batch=None):\n",
        "        labels = inputs.pop(\"labels\")\n",
        "        outputs = model(**inputs)\n",
        "        loss = self.loss_fn(outputs.logits.view(-1, 3), labels.view(-1))\n",
        "        return (loss, outputs) if return_outputs else loss"
      ],
      "metadata": {
        "id": "BLMQk8ycC00B"
      },
      "execution_count": 51,
      "outputs": []
    },
    {
      "cell_type": "markdown",
      "source": [
        "# Train Function"
      ],
      "metadata": {
        "id": "3-knSIvQDFdJ"
      }
    },
    {
      "cell_type": "markdown",
      "source": [
        "# Training original model"
      ],
      "metadata": {
        "id": "r1yIGOdsFYOh"
      }
    },
    {
      "cell_type": "code",
      "source": [
        "print(f\"{train_orig_tok.column_names}\")"
      ],
      "metadata": {
        "colab": {
          "base_uri": "https://localhost:8080/"
        },
        "id": "vP4DhUOlHZhp",
        "outputId": "6eb4e7f4-2838-4e42-9ee6-b09a8fa23196"
      },
      "execution_count": 45,
      "outputs": [
        {
          "output_type": "stream",
          "name": "stdout",
          "text": [
            "['clean_text', 'labels', 'input_ids', 'token_type_ids', 'attention_mask']\n"
          ]
        }
      ]
    },
    {
      "cell_type": "markdown",
      "source": [
        "The tokenized datasets still contain the original clean_text column, which is a string and can't be converted to tensors for training. That's why we are going to go ahead and remove them and then double check that our columns are in proper format"
      ],
      "metadata": {
        "id": "HVHdo-i9Hjc2"
      }
    },
    {
      "cell_type": "code",
      "source": [
        "train_orig_tok = train_orig_tok.remove_columns(['clean_text'])\n",
        "train_aug_tok = train_aug_tok.remove_columns(['clean_text'])\n",
        "val_tok = val_tok.remove_columns(['clean_text'])"
      ],
      "metadata": {
        "id": "lJ_LU7MiHZfF"
      },
      "execution_count": 46,
      "outputs": []
    },
    {
      "cell_type": "code",
      "source": [
        "train_orig_tok.set_format('torch')\n",
        "train_aug_tok.set_format('torch')\n",
        "val_tok.set_format('torch')"
      ],
      "metadata": {
        "id": "zjZ-2-97HZZw"
      },
      "execution_count": 48,
      "outputs": []
    },
    {
      "cell_type": "code",
      "source": [
        "from transformers import BertForSequenceClassification, TrainingArguments, EarlyStoppingCallback\n",
        "import json\n",
        "from pathlib import Path\n",
        "import warnings\n",
        "\n",
        "# We know that this is gonna happen so we'll just suppress it\n",
        "warnings.filterwarnings('ignore', message='Some weights of BertForSequenceClassification were not initialized')\n",
        "\n",
        "def train_bert(use_augmented=False):\n",
        "    if use_augmented:\n",
        "        print(\"\\n\" + \"=\"*60)\n",
        "        print(\"TRAINING ON AUGMENTED DATA\")\n",
        "        print(\"=\"*60)\n",
        "        train_dataset = train_aug_tok\n",
        "        class_weights = weights_aug\n",
        "        config = config_aug\n",
        "    else:\n",
        "        print(\"\\n\" + \"=\"*60)\n",
        "        print(\"TRAINING ON ORIGINAL DATA\")\n",
        "        print(\"=\"*60)\n",
        "        train_dataset = train_orig_tok\n",
        "        class_weights = weights_orig\n",
        "        config = config_orig\n",
        "\n",
        "    print(f\"[setup] Training samples: {len(train_dataset):,}\")\n",
        "    print(f\"[setup] Validation samples: {len(val_tok):,}\")\n",
        "    print(f\"[setup] Output directory: {config['output_dir']}\")\n",
        "\n",
        "    output_dir = Path(config['output_dir'])\n",
        "    output_dir.mkdir(parents=True, exist_ok=True)\n",
        "\n",
        "    print(\"\\n[model] Loading BERT-base-uncased...\")\n",
        "    model = BertForSequenceClassification.from_pretrained(\n",
        "        'bert-base-uncased',\n",
        "        num_labels=3,\n",
        "        ignore_mismatched_sizes=True\n",
        "    )\n",
        "    print(f\"[model] Parameters: {sum(p.numel() for p in model.parameters()):,}\")\n",
        "    print(f\"[model] Classifier layer initialized randomly (expected)\")\n",
        "\n",
        "    training_config = {k: v for k, v in config.items() if k != 'run_name'}\n",
        "\n",
        "    training_args = TrainingArguments(\n",
        "        **training_config,\n",
        "        report_to='none',\n",
        "        push_to_hub=False,\n",
        "        remove_unused_columns=True,\n",
        "        dataloader_drop_last=False,\n",
        "        dataloader_num_workers=2,\n",
        "    )\n",
        "\n",
        "    steps_per_epoch = len(train_dataset) // (config['per_device_train_batch_size'] * config['gradient_accumulation_steps'])\n",
        "    total_steps = steps_per_epoch * config['num_train_epochs']\n",
        "\n",
        "    print(f\"\\n[train] Training configuration:\")\n",
        "    print(f\"  Epochs: {config['num_train_epochs']}\")\n",
        "    print(f\"  Steps per epoch: {steps_per_epoch}\")\n",
        "    print(f\"  Total steps: {total_steps}\")\n",
        "    print(f\"  Effective batch size: {config['per_device_train_batch_size'] * config['gradient_accumulation_steps']}\")\n",
        "    print(f\"  Learning rate: {config['learning_rate']}\")\n",
        "\n",
        "    print(f\"\\n[train] Using class weights: {class_weights.numpy()}\")\n",
        "\n",
        "    trainer = WeightedTrainer(\n",
        "        class_weights=class_weights,\n",
        "        model=model,\n",
        "        args=training_args,\n",
        "        train_dataset=train_dataset,\n",
        "        eval_dataset=val_tok,\n",
        "        processing_class=tokenizer,\n",
        "        compute_metrics=compute_metrics,\n",
        "        callbacks=[EarlyStoppingCallback(early_stopping_patience=2)]\n",
        "    )\n",
        "\n",
        "    # Training\n",
        "    print(\"\\n[train] Starting training\")\n",
        "    print(\"-\" * 60)\n",
        "\n",
        "    try:\n",
        "        train_result = trainer.train()\n",
        "    except Exception as e:\n",
        "        print(f\"[ERROR] Training failed: {e}\")\n",
        "        return None\n",
        "\n",
        "    print(\"-\" * 60)\n",
        "    print(f\"\\n[train] Training complete!\")\n",
        "    print(f\"[train] Final loss: {train_result.training_loss:.4f}\")\n",
        "\n",
        "    # Saving everything\n",
        "    best_model_dir = output_dir / 'best_model'\n",
        "    print(f\"\\n[save] Saving model to {best_model_dir}\")\n",
        "\n",
        "    # Save model and tokenizer\n",
        "    trainer.save_model(best_model_dir)\n",
        "    tokenizer.save_pretrained(best_model_dir)\n",
        "\n",
        "    # Save training history\n",
        "    history_file = output_dir / 'training_history.json'\n",
        "\n",
        "    log_history = []\n",
        "    for entry in trainer.state.log_history:\n",
        "        clean_entry = {}\n",
        "        for k, v in entry.items():\n",
        "            if hasattr(v, 'item'):  # numpy scalar\n",
        "                clean_entry[k] = v.item()\n",
        "            elif isinstance(v, (list, dict, str, int, float, bool, type(None))):\n",
        "                clean_entry[k] = v\n",
        "            else:\n",
        "                clean_entry[k] = str(v)\n",
        "        log_history.append(clean_entry)\n",
        "\n",
        "    history = {\n",
        "        'loss_history': log_history,\n",
        "        'best_metric': float(trainer.state.best_metric) if trainer.state.best_metric else None,\n",
        "        'best_model_checkpoint': trainer.state.best_model_checkpoint,\n",
        "        'total_steps': int(trainer.state.global_step),\n",
        "        'epochs_trained': float(trainer.state.epoch),\n",
        "    }\n",
        "\n",
        "    with open(history_file, 'w') as f:\n",
        "        json.dump(history, f, indent=2)\n",
        "    print(f\"[save] Training history saved\")\n",
        "\n",
        "    # Save class weights\n",
        "    weights_file = output_dir / 'class_weights.json'\n",
        "    weights_dict = {str(i): float(w) for i, w in enumerate(class_weights.numpy())}\n",
        "    with open(weights_file, 'w') as f:\n",
        "        json.dump(weights_dict, f, indent=2)\n",
        "    print(f\"[save] Class weights saved\")\n",
        "\n",
        "    # Save config\n",
        "    config_file = output_dir / 'training_config.json'\n",
        "    with open(config_file, 'w') as f:\n",
        "        json.dump(config, f, indent=2)\n",
        "    print(f\"[save] Training config saved\")\n",
        "\n",
        "    # Save dataset info\n",
        "    dataset_info = {\n",
        "        'train_samples': len(train_dataset),\n",
        "        'val_samples': len(val_tok),\n",
        "        'augmented': use_augmented,\n",
        "        'dataset_name': 'augmented' if use_augmented else 'original'\n",
        "    }\n",
        "    info_file = output_dir / 'dataset_info.json'\n",
        "    with open(info_file, 'w') as f:\n",
        "        json.dump(dataset_info, f, indent=2)\n",
        "    print(f\"[save] Dataset info saved\")\n",
        "\n",
        "    print(\"\\n\" + \"=\"*60)\n",
        "    print(\"TRAINING COMPLETE\")\n",
        "    print(\"=\"*60)\n",
        "    print(f\"Model saved to: {output_dir}\")\n",
        "\n",
        "    if trainer.state.best_metric:\n",
        "        print(f\"\\nBest validation F1: {trainer.state.best_metric:.4f}\")\n",
        "        print(f\"Training stopped at epoch: {trainer.state.epoch:.1f}\")\n",
        "\n",
        "    return str(output_dir)"
      ],
      "metadata": {
        "id": "69t8R-LiC0xS"
      },
      "execution_count": 54,
      "outputs": []
    },
    {
      "cell_type": "code",
      "source": [],
      "metadata": {
        "id": "UcW1QNf7HZW4"
      },
      "execution_count": null,
      "outputs": []
    },
    {
      "cell_type": "code",
      "source": [],
      "metadata": {
        "id": "PYQiOg-BHZUQ"
      },
      "execution_count": null,
      "outputs": []
    },
    {
      "cell_type": "code",
      "source": [
        "model_dir_original = train_bert(use_augmented=False)\n",
        "print(f\"\\nOriginal model saved to: {model_dir_original}\")"
      ],
      "metadata": {
        "colab": {
          "base_uri": "https://localhost:8080/",
          "height": 1000
        },
        "id": "sFZ4QegQC0vY",
        "outputId": "d7356b2d-d86d-4a19-d740-1073d40ba1c8"
      },
      "execution_count": 53,
      "outputs": [
        {
          "output_type": "stream",
          "name": "stdout",
          "text": [
            "\n",
            "============================================================\n",
            "TRAINING ON ORIGINAL DATA\n",
            "============================================================\n",
            "[check] Dataset columns: ['labels', 'input_ids', 'token_type_ids', 'attention_mask']\n",
            "[setup] Training samples: 17,347\n",
            "[setup] Validation samples: 3,718\n",
            "[setup] Output directory: models/bert_original\n",
            "\n",
            "[model] Loading BERT-base-uncased...\n"
          ]
        },
        {
          "output_type": "stream",
          "name": "stderr",
          "text": [
            "Some weights of BertForSequenceClassification were not initialized from the model checkpoint at bert-base-uncased and are newly initialized: ['classifier.bias', 'classifier.weight']\n",
            "You should probably TRAIN this model on a down-stream task to be able to use it for predictions and inference.\n"
          ]
        },
        {
          "output_type": "stream",
          "name": "stdout",
          "text": [
            "[model] Parameters: 109,484,547\n",
            "[model] Classifier layer initialized randomly (expected)\n",
            "\n",
            "[train] Training configuration:\n",
            "  Epochs: 4\n",
            "  Steps per epoch: 542\n",
            "  Total steps: 2168\n",
            "  Effective batch size: 32\n",
            "  Learning rate: 3e-05\n",
            "\n",
            "[train] Using class weights: [5.776557  0.4304894 1.9843285]\n",
            "\n",
            "[train] Starting training...\n",
            "[train] Validation runs after each epoch\n",
            "[train] Estimated time: 15-25 minutes on Colab GPU\n",
            "\n",
            "------------------------------------------------------------\n"
          ]
        },
        {
          "output_type": "display_data",
          "data": {
            "text/plain": [
              "<IPython.core.display.HTML object>"
            ],
            "text/html": [
              "\n",
              "    <div>\n",
              "      \n",
              "      <progress value='2172' max='2172' style='width:300px; height:20px; vertical-align: middle;'></progress>\n",
              "      [2172/2172 08:47, Epoch 4/4]\n",
              "    </div>\n",
              "    <table border=\"1\" class=\"dataframe\">\n",
              "  <thead>\n",
              " <tr style=\"text-align: left;\">\n",
              "      <th>Epoch</th>\n",
              "      <th>Training Loss</th>\n",
              "      <th>Validation Loss</th>\n",
              "      <th>Accuracy</th>\n",
              "      <th>F1 Macro</th>\n",
              "      <th>F1 Weighted</th>\n",
              "      <th>Hate Speech Precision</th>\n",
              "      <th>Hate Speech Recall</th>\n",
              "      <th>Hate Speech F1</th>\n",
              "      <th>Offensive Precision</th>\n",
              "      <th>Offensive Recall</th>\n",
              "      <th>Offensive F1</th>\n",
              "      <th>Neither Precision</th>\n",
              "      <th>Neither Recall</th>\n",
              "      <th>Neither F1</th>\n",
              "    </tr>\n",
              "  </thead>\n",
              "  <tbody>\n",
              "    <tr>\n",
              "      <td>1</td>\n",
              "      <td>0.534600</td>\n",
              "      <td>0.476008</td>\n",
              "      <td>0.854761</td>\n",
              "      <td>0.732568</td>\n",
              "      <td>0.878337</td>\n",
              "      <td>0.275676</td>\n",
              "      <td>0.711628</td>\n",
              "      <td>0.397403</td>\n",
              "      <td>0.975851</td>\n",
              "      <td>0.856200</td>\n",
              "      <td>0.912118</td>\n",
              "      <td>0.879121</td>\n",
              "      <td>0.897436</td>\n",
              "      <td>0.888184</td>\n",
              "    </tr>\n",
              "    <tr>\n",
              "      <td>2</td>\n",
              "      <td>0.385600</td>\n",
              "      <td>0.520018</td>\n",
              "      <td>0.896450</td>\n",
              "      <td>0.763734</td>\n",
              "      <td>0.903830</td>\n",
              "      <td>0.378462</td>\n",
              "      <td>0.572093</td>\n",
              "      <td>0.455556</td>\n",
              "      <td>0.964809</td>\n",
              "      <td>0.914206</td>\n",
              "      <td>0.938826</td>\n",
              "      <td>0.869173</td>\n",
              "      <td>0.926282</td>\n",
              "      <td>0.896819</td>\n",
              "    </tr>\n",
              "    <tr>\n",
              "      <td>3</td>\n",
              "      <td>0.339500</td>\n",
              "      <td>0.528357</td>\n",
              "      <td>0.879505</td>\n",
              "      <td>0.749186</td>\n",
              "      <td>0.892879</td>\n",
              "      <td>0.325243</td>\n",
              "      <td>0.623256</td>\n",
              "      <td>0.427432</td>\n",
              "      <td>0.966504</td>\n",
              "      <td>0.891976</td>\n",
              "      <td>0.927746</td>\n",
              "      <td>0.875193</td>\n",
              "      <td>0.910256</td>\n",
              "      <td>0.892380</td>\n",
              "    </tr>\n",
              "    <tr>\n",
              "      <td>4</td>\n",
              "      <td>0.202900</td>\n",
              "      <td>0.670096</td>\n",
              "      <td>0.894836</td>\n",
              "      <td>0.760344</td>\n",
              "      <td>0.901153</td>\n",
              "      <td>0.387821</td>\n",
              "      <td>0.562791</td>\n",
              "      <td>0.459203</td>\n",
              "      <td>0.955988</td>\n",
              "      <td>0.920458</td>\n",
              "      <td>0.937887</td>\n",
              "      <td>0.876972</td>\n",
              "      <td>0.891026</td>\n",
              "      <td>0.883943</td>\n",
              "    </tr>\n",
              "  </tbody>\n",
              "</table><p>"
            ]
          },
          "metadata": {}
        },
        {
          "output_type": "stream",
          "name": "stdout",
          "text": [
            "------------------------------------------------------------\n",
            "\n",
            "[train] Training complete!\n",
            "[train] Final loss: 0.4074\n",
            "\n",
            "[save] Saving model to models/bert_original/best_model\n",
            "[save] Training history saved\n",
            "[save] Class weights saved\n",
            "[save] Training config saved\n",
            "[save] Dataset info saved\n",
            "\n",
            "============================================================\n",
            "TRAINING COMPLETE\n",
            "============================================================\n",
            "Model saved to: models/bert_original\n",
            "\n",
            "Best validation F1: 0.7637\n",
            "Training stopped at epoch: 4.0\n",
            "\n",
            "Original model saved to: models/bert_original\n"
          ]
        }
      ]
    },
    {
      "cell_type": "code",
      "source": [],
      "metadata": {
        "id": "M5p7ZlqaC0sF"
      },
      "execution_count": null,
      "outputs": []
    },
    {
      "cell_type": "markdown",
      "source": [
        "# Training augmented model"
      ],
      "metadata": {
        "id": "dOfS4t-KFg_o"
      }
    },
    {
      "cell_type": "code",
      "source": [
        "model_dir_augmented = train_bert(use_augmented=True)\n",
        "print(f\"\\n[complete] Augmented model saved to: {model_dir_augmented}\")"
      ],
      "metadata": {
        "colab": {
          "base_uri": "https://localhost:8080/",
          "height": 1000
        },
        "id": "i3qzDakZC0pY",
        "outputId": "766e1e02-a3d9-461a-90ac-cff928ccbe22"
      },
      "execution_count": 55,
      "outputs": [
        {
          "output_type": "stream",
          "name": "stdout",
          "text": [
            "\n",
            "============================================================\n",
            "TRAINING ON AUGMENTED DATA\n",
            "============================================================\n",
            "[check] Dataset columns: ['labels', 'input_ids', 'token_type_ids', 'attention_mask']\n",
            "[setup] Training samples: 22,263\n",
            "[setup] Validation samples: 3,718\n",
            "[setup] Output directory: models/bert_augmented\n",
            "\n",
            "[model] Loading BERT-base-uncased...\n"
          ]
        },
        {
          "output_type": "stream",
          "name": "stderr",
          "text": [
            "Some weights of BertForSequenceClassification were not initialized from the model checkpoint at bert-base-uncased and are newly initialized: ['classifier.bias', 'classifier.weight']\n",
            "You should probably TRAIN this model on a down-stream task to be able to use it for predictions and inference.\n"
          ]
        },
        {
          "output_type": "stream",
          "name": "stdout",
          "text": [
            "[model] Parameters: 109,484,547\n",
            "[model] Classifier layer initialized randomly (expected)\n",
            "\n",
            "[train] Training configuration:\n",
            "  Epochs: 4\n",
            "  Steps per epoch: 695\n",
            "  Total steps: 2780\n",
            "  Effective batch size: 32\n",
            "  Learning rate: 3e-05\n",
            "\n",
            "[train] Using class weights: [2.4711955 0.5524866 1.2733356]\n",
            "\n",
            "[train] Starting training\n",
            "------------------------------------------------------------\n"
          ]
        },
        {
          "output_type": "display_data",
          "data": {
            "text/plain": [
              "<IPython.core.display.HTML object>"
            ],
            "text/html": [
              "\n",
              "    <div>\n",
              "      \n",
              "      <progress value='2784' max='2784' style='width:300px; height:20px; vertical-align: middle;'></progress>\n",
              "      [2784/2784 12:10, Epoch 4/4]\n",
              "    </div>\n",
              "    <table border=\"1\" class=\"dataframe\">\n",
              "  <thead>\n",
              " <tr style=\"text-align: left;\">\n",
              "      <th>Epoch</th>\n",
              "      <th>Training Loss</th>\n",
              "      <th>Validation Loss</th>\n",
              "      <th>Accuracy</th>\n",
              "      <th>F1 Macro</th>\n",
              "      <th>F1 Weighted</th>\n",
              "      <th>Hate Speech Precision</th>\n",
              "      <th>Hate Speech Recall</th>\n",
              "      <th>Hate Speech F1</th>\n",
              "      <th>Offensive Precision</th>\n",
              "      <th>Offensive Recall</th>\n",
              "      <th>Offensive F1</th>\n",
              "      <th>Neither Precision</th>\n",
              "      <th>Neither Recall</th>\n",
              "      <th>Neither F1</th>\n",
              "    </tr>\n",
              "  </thead>\n",
              "  <tbody>\n",
              "    <tr>\n",
              "      <td>1</td>\n",
              "      <td>0.405600</td>\n",
              "      <td>0.382379</td>\n",
              "      <td>0.893760</td>\n",
              "      <td>0.758213</td>\n",
              "      <td>0.900388</td>\n",
              "      <td>0.387622</td>\n",
              "      <td>0.553488</td>\n",
              "      <td>0.455939</td>\n",
              "      <td>0.968889</td>\n",
              "      <td>0.908649</td>\n",
              "      <td>0.937802</td>\n",
              "      <td>0.827004</td>\n",
              "      <td>0.942308</td>\n",
              "      <td>0.880899</td>\n",
              "    </tr>\n",
              "    <tr>\n",
              "      <td>2</td>\n",
              "      <td>0.245900</td>\n",
              "      <td>0.529157</td>\n",
              "      <td>0.901022</td>\n",
              "      <td>0.760615</td>\n",
              "      <td>0.904155</td>\n",
              "      <td>0.409091</td>\n",
              "      <td>0.502326</td>\n",
              "      <td>0.450939</td>\n",
              "      <td>0.946906</td>\n",
              "      <td>0.935394</td>\n",
              "      <td>0.941115</td>\n",
              "      <td>0.900000</td>\n",
              "      <td>0.879808</td>\n",
              "      <td>0.889789</td>\n",
              "    </tr>\n",
              "    <tr>\n",
              "      <td>3</td>\n",
              "      <td>0.135500</td>\n",
              "      <td>0.675929</td>\n",
              "      <td>0.906939</td>\n",
              "      <td>0.753195</td>\n",
              "      <td>0.905829</td>\n",
              "      <td>0.440000</td>\n",
              "      <td>0.409302</td>\n",
              "      <td>0.424096</td>\n",
              "      <td>0.941420</td>\n",
              "      <td>0.948941</td>\n",
              "      <td>0.945165</td>\n",
              "      <td>0.896104</td>\n",
              "      <td>0.884615</td>\n",
              "      <td>0.890323</td>\n",
              "    </tr>\n",
              "    <tr>\n",
              "      <td>4</td>\n",
              "      <td>0.050600</td>\n",
              "      <td>0.846072</td>\n",
              "      <td>0.903712</td>\n",
              "      <td>0.750012</td>\n",
              "      <td>0.903380</td>\n",
              "      <td>0.422535</td>\n",
              "      <td>0.418605</td>\n",
              "      <td>0.420561</td>\n",
              "      <td>0.938747</td>\n",
              "      <td>0.947551</td>\n",
              "      <td>0.943129</td>\n",
              "      <td>0.904841</td>\n",
              "      <td>0.868590</td>\n",
              "      <td>0.886345</td>\n",
              "    </tr>\n",
              "  </tbody>\n",
              "</table><p>"
            ]
          },
          "metadata": {}
        },
        {
          "output_type": "stream",
          "name": "stdout",
          "text": [
            "------------------------------------------------------------\n",
            "\n",
            "[train] Training complete!\n",
            "[train] Final loss: 0.2646\n",
            "\n",
            "[save] Saving model to models/bert_augmented/best_model\n",
            "[save] Training history saved\n",
            "[save] Class weights saved\n",
            "[save] Training config saved\n",
            "[save] Dataset info saved\n",
            "\n",
            "============================================================\n",
            "TRAINING COMPLETE\n",
            "============================================================\n",
            "Model saved to: models/bert_augmented\n",
            "\n",
            "Best validation F1: 0.7606\n",
            "Training stopped at epoch: 4.0\n",
            "\n",
            "[complete] Augmented model saved to: models/bert_augmented\n"
          ]
        }
      ]
    },
    {
      "cell_type": "code",
      "source": [],
      "metadata": {
        "id": "AQjz5xunC0my"
      },
      "execution_count": null,
      "outputs": []
    },
    {
      "cell_type": "code",
      "source": [],
      "metadata": {
        "id": "sIJGbGcfC0kA"
      },
      "execution_count": null,
      "outputs": []
    },
    {
      "cell_type": "code",
      "source": [],
      "metadata": {
        "id": "IHqzn2wBC0eM"
      },
      "execution_count": null,
      "outputs": []
    },
    {
      "cell_type": "code",
      "source": [],
      "metadata": {
        "id": "KvaAHcBxC0bc"
      },
      "execution_count": null,
      "outputs": []
    }
  ]
}