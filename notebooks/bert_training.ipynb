{
 "cells": [
  {
   "cell_type": "code",
   "execution_count": 1,
   "metadata": {
    "colab": {
     "base_uri": "https://localhost:8080/"
    },
    "id": "RcL275JGCpE3",
    "outputId": "d99f5f24-ea74-4b29-9953-dbc7992ac1f3"
   },
   "outputs": [
    {
     "name": "stdout",
     "output_type": "stream",
     "text": [
      "\u001b[?25l   \u001b[90m━━━━━━━━━━━━━━━━━━━━━━━━━━━━━━━━━━━━━━━━\u001b[0m \u001b[32m0.0/84.1 kB\u001b[0m \u001b[31m?\u001b[0m eta \u001b[36m-:--:--\u001b[0m\r",
      "\u001b[2K   \u001b[91m━━━━━━━━━━━━━━━━━━━━━━━━━━━━━━━━━━━━━━\u001b[0m\u001b[91m╸\u001b[0m\u001b[90m━\u001b[0m \u001b[32m81.9/84.1 kB\u001b[0m \u001b[31m3.2 MB/s\u001b[0m eta \u001b[36m0:00:01\u001b[0m\r",
      "\u001b[2K   \u001b[90m━━━━━━━━━━━━━━━━━━━━━━━━━━━━━━━━━━━━━━━━\u001b[0m \u001b[32m84.1/84.1 kB\u001b[0m \u001b[31m2.0 MB/s\u001b[0m eta \u001b[36m0:00:00\u001b[0m\n",
      "\u001b[?25h"
     ]
    }
   ],
   "source": [
    "!pip -q install \"transformers>=4.42\" \"datasets>=2.20\" \"evaluate>=0.4.2\" \"scikit-learn>=1.5\" \"accelerate>=0.30\" \"tqdm>=4.66\"\n"
   ]
  },
  {
   "cell_type": "code",
   "execution_count": 2,
   "metadata": {
    "colab": {
     "base_uri": "https://localhost:8080/"
    },
    "id": "6qPfbkaHC08f",
    "outputId": "f0bb0e37-6ad6-46bc-b904-1c193928c0f4"
   },
   "outputs": [
    {
     "name": "stdout",
     "output_type": "stream",
     "text": [
      "3.12.11 (main, Jun  4 2025, 08:56:18) [GCC 11.4.0]\n",
      "numpy 2.0.2\n",
      "torch 2.8.0+cu126\n",
      "transformers 4.56.0\n",
      "datasets 4.0.0\n"
     ]
    }
   ],
   "source": [
    "import sys, numpy, torch, transformers, datasets, sklearn\n",
    "print(sys.version)\n",
    "print(\"numpy\", numpy.__version__)\n",
    "print(\"torch\", torch.__version__)\n",
    "print(\"transformers\", transformers.__version__)\n",
    "print(\"datasets\", datasets.__version__)\n"
   ]
  },
  {
   "cell_type": "markdown",
   "metadata": {
    "id": "j9C-SD_PWBOE"
   },
   "source": [
    "# Setup and imports"
   ]
  },
  {
   "cell_type": "code",
   "execution_count": 3,
   "metadata": {
    "id": "tmh9db1iC05q"
   },
   "outputs": [],
   "source": [
    "import pandas as pd\n",
    "import numpy as np\n",
    "from pathlib import Path\n",
    "import json\n",
    "import warnings\n",
    "from sklearn.metrics import accuracy_score, f1_score, precision_recall_fscore_support\n",
    "from sklearn.utils.class_weight import compute_class_weight\n",
    "from transformers import (\n",
    "    BertTokenizer,\n",
    "    BertForSequenceClassification,\n",
    "    Trainer,\n",
    "    TrainingArguments,\n",
    "    EarlyStoppingCallback\n",
    ")\n",
    "from datasets import Dataset\n",
    "from torch import nn\n",
    "import warnings\n",
    "\n",
    "warnings.filterwarnings('ignore', message='Some weights of BertForSequenceClassification were not initialized')\n"
   ]
  },
  {
   "cell_type": "markdown",
   "metadata": {
    "id": "gzcWVkssWGPV"
   },
   "source": [
    "## Cloning the dataset to colab"
   ]
  },
  {
   "cell_type": "code",
   "execution_count": 4,
   "metadata": {
    "colab": {
     "base_uri": "https://localhost:8080/"
    },
    "id": "_aCm7Ar_C03R",
    "outputId": "36ae7c7a-6642-4509-b7c9-f151135e0a0b"
   },
   "outputs": [
    {
     "name": "stdout",
     "output_type": "stream",
     "text": [
      "/content\n",
      "Cloning the repo\n",
      "/content/nlp-offensive-language-classifier\n",
      "Repo root: /content/nlp-offensive-language-classifier\n",
      "├─ .DS_Store\n",
      "├─ .git\n",
      "  ├─ HEAD\n",
      "  ├─ branches\n",
      "  ├─ config\n",
      "  ├─ description\n",
      "  ├─ hooks\n",
      "  ├─ index\n",
      "  ├─ info\n",
      "  ├─ logs\n",
      "  ├─ objects\n",
      "  ├─ packed-refs\n",
      "  ├─ refs\n",
      "├─ .gitignore\n",
      "├─ .idea\n",
      "  ├─ inspectionProfiles\n",
      "  ├─ libraries\n",
      "  ├─ misc.xml\n",
      "  ├─ modules.xml\n",
      "  ├─ nlp-offensive-language-classifier.iml\n",
      "  ├─ prettier.xml\n",
      "  ├─ vcs.xml\n",
      "  ├─ workspace.xml\n",
      "├─ .python-version\n",
      "├─ LICENSE\n",
      "├─ README.md\n",
      "├─ models\n",
      "  ├─ .DS_Store\n",
      "  ├─ .gitkeep\n",
      "  ├─ bert_augmented\n",
      "  ├─ bert_original\n",
      "  ├─ logreg\n",
      "  ├─ majority\n",
      "├─ notebooks\n",
      "  ├─ bert.ipynb\n",
      "  ├─ stage1_evaluation.ipynb\n",
      "  ├─ {01_eda.ipynb}\n",
      "├─ predictions\n",
      "  ├─ .DS_Store\n",
      "  ├─ logreg\n",
      "  ├─ majority\n",
      "├─ requirements.txt\n",
      "├─ results\n",
      "  ├─ stage1_confusion_matrices.png\n",
      "  ├─ stage1_overall_metrics.csv\n",
      "  ├─ stage1_per_class_comparison.png\n",
      "├─ run_phase1.py\n",
      "├─ src\n",
      "  ├─ .DS_Store\n",
      "  ├─ __init__.py\n",
      "  ├─ config.py\n",
      "  ├─ data\n",
      "  ├─ data_augmentation.py\n",
      "  ├─ data_loader.py\n",
      "  ├─ majority_baseline.py\n",
      "  ├─ preprocessing.py\n",
      "  ├─ tf_idf_baseline.py\n",
      "src/data/processed_bert/train.csv (2.82 MB) exists\n",
      "src/data/processed_bert/train_augmented.csv (3.66 MB) exists\n",
      "src/data/processed_bert/val.csv (0.61 MB) exists\n",
      "src/data/processed_bert/test.csv (0.60 MB) exists\n",
      "\n",
      "src/data/processed_bert/train.csv headers: ['text', 'label', 'clean_text']\n",
      "Columns OK.\n",
      "{'text': 'LMFAOOOOOO GAY AS FUCK RT @PubesOnFleeK: &#128557;&#128557;&#128557;&#128557;&#1…', 'label': '1', 'clean_text': 'LMFAOOOOOO GAY AS FUCK RT @user get these two faggots off my TL [URL]'}\n",
      "{'text': 'RT @OGTREEZ: Steve found out you can\\'t call Taiquaniesha a \"stupid fuckin cunt\" …', 'label': '1', 'clean_text': 'RT @user Steve found out you can\\'t call Taiquaniesha a \"stupid fuckin cunt\" like…'}\n",
      "\n",
      "src/data/processed_bert/train_augmented.csv headers: ['text', 'label', 'clean_text']\n",
      "Columns OK.\n",
      "{'text': 'LMFAOOOOOO GAY AS FUCK RT @PubesOnFleeK: &#128557;&#128557;&#128557;&#128557;&#1…', 'label': '1', 'clean_text': 'LMFAOOOOOO GAY AS FUCK RT @user get these two faggots off my TL [URL]'}\n",
      "{'text': 'RT @OGTREEZ: Steve found out you can\\'t call Taiquaniesha a \"stupid fuckin cunt\" …', 'label': '1', 'clean_text': 'RT @user Steve found out you can\\'t call Taiquaniesha a \"stupid fuckin cunt\" like…'}\n",
      "\n",
      "src/data/processed_bert/val.csv headers: ['text', 'label', 'clean_text']\n",
      "Columns OK.\n",
      "{'text': 'You fucking fag &#8220;@baethingape: this is exactly what i am talking about \\n\\nw…', 'label': '0', 'clean_text': 'You fucking fag @user this is exactly what i am talking about women are pigs [UR…'}\n",
      "{'text': \"RT @CoCoMilan18: &#8220;@Me1st_u_last: This bitch @GOTDAMNCHAT ain't got a bit o…\", 'label': '1', 'clean_text': \"RT @user @user This bitch @user ain't got a bit of sense lmaoo!! [URL]#8221;\"}\n",
      "\n",
      "src/data/processed_bert/test.csv headers: ['text', 'label', 'clean_text']\n",
      "Columns OK.\n",
      "{'text': 'RT @funkQdelic_ACE: Waka Flaka a lucky retard lol', 'label': '1', 'clean_text': 'RT @user Waka Flaka a lucky retard lol'}\n",
      "{'text': 'Yea I see ya hoe', 'label': '1', 'clean_text': 'Yea I see ya hoe'}\n"
     ]
    }
   ],
   "source": [
    "REPO_URL = \"https://github.com/Dimasss16/nlp-offensive-language-classifier.git\" # some url...\n",
    "BRANCH   = \"main\"\n",
    "VERIFY_DATA = True\n",
    "\n",
    "import os, subprocess, shutil, csv\n",
    "from pathlib import Path\n",
    "\n",
    "%cd /content\n",
    "repo_dir = REPO_URL.rsplit(\"/\", 1)[-1].replace(\".git\", \"\")\n",
    "if Path(repo_dir).exists():\n",
    "    print(f\"Repo '{repo_dir}' exists — pulling latest…\")\n",
    "    %cd /content/{repo_dir}\n",
    "    if BRANCH:\n",
    "        subprocess.run([\"git\", \"fetch\", \"origin\", BRANCH], check=True)\n",
    "        subprocess.run([\"git\", \"checkout\", BRANCH], check=True)\n",
    "        subprocess.run([\"git\", \"reset\", \"--hard\", f\"origin/{BRANCH}\"], check=True)\n",
    "    else:\n",
    "        subprocess.run([\"git\", \"pull\"], check=True)\n",
    "else:\n",
    "    print(\"Cloning the repo\")\n",
    "    subprocess.run([\"git\", \"clone\", REPO_URL], check=True)\n",
    "    %cd /content/{repo_dir}\n",
    "    if BRANCH:\n",
    "        subprocess.run([\"git\", \"checkout\", BRANCH], check=True)\n",
    "\n",
    "print(\"Repo root:\", Path.cwd())\n",
    "\n",
    "def short_tree(root=\".\", max_depth=2):\n",
    "    root = Path(root)\n",
    "    for p in sorted(root.rglob(\"*\")):\n",
    "        depth = len(p.relative_to(root).parts)\n",
    "        if depth <= max_depth:\n",
    "            print(\"  \" * (depth-1) + (\"├─ \" if depth>0 else \"\") + p.name)\n",
    "\n",
    "short_tree(\".\", max_depth=2)\n",
    "\n",
    "\n",
    "if VERIFY_DATA:\n",
    "    expected = [\n",
    "        \"src/data/processed_bert/train.csv\",\n",
    "        \"src/data/processed_bert/train_augmented.csv\",\n",
    "        \"src/data/processed_bert/val.csv\",\n",
    "        \"src/data/processed_bert/test.csv\",\n",
    "    ]\n",
    "    missing = []\n",
    "    for rel in expected:\n",
    "        p = Path(rel)\n",
    "        if p.exists():\n",
    "            print(f\"{rel} ({p.stat().st_size/1e6:.2f} MB) exists\")\n",
    "\n",
    "    def peek_csv(path, n=2):\n",
    "        path = Path(path)\n",
    "        try:\n",
    "            with path.open(newline=\"\", encoding=\"utf-8\") as f:\n",
    "                reader = csv.DictReader(f)\n",
    "                headers = reader.fieldnames or []\n",
    "                print(f\"\\n{path} headers:\", headers)\n",
    "                required = {\"text\", \"clean_text\", \"label\"}\n",
    "                lowered = {h.lower() for h in headers}\n",
    "                print(\"Columns OK.\" if required.issubset(lowered)\n",
    "                      else f\"Missing columns: {sorted(required - lowered)}\")\n",
    "                for _, row in zip(range(n), reader):\n",
    "                    row_show = {k: (v[:80]+\"…\") if isinstance(v, str) and len(v) > 80 else v\n",
    "                                for k, v in row.items()}\n",
    "                    print(row_show)\n",
    "        except Exception as e:\n",
    "            print(f\"Peek failed for {path}: {e}\")\n",
    "\n",
    "    for rel in expected:\n",
    "        if Path(rel).exists():\n",
    "            peek_csv(rel)\n"
   ]
  },
  {
   "cell_type": "code",
   "execution_count": null,
   "metadata": {
    "id": "f7GiZEXFC00s"
   },
   "outputs": [],
   "source": []
  },
  {
   "cell_type": "markdown",
   "metadata": {
    "id": "qFEtfHK8Wee1"
   },
   "source": [
    "# Configurations"
   ]
  },
  {
   "cell_type": "code",
   "execution_count": 5,
   "metadata": {
    "colab": {
     "base_uri": "https://localhost:8080/"
    },
    "id": "_0I6qu2rC0px",
    "outputId": "f3f31ce8-fdb0-448d-b9f3-27cbb13f678a"
   },
   "outputs": [
    {
     "data": {
      "text/plain": [
       "<torch._C.Generator at 0x7d0083f244f0>"
      ]
     },
     "execution_count": 5,
     "metadata": {},
     "output_type": "execute_result"
    }
   ],
   "source": [
    "BASE_DIR = Path('src/data')\n",
    "MODELS_DIR = Path('models')\n",
    "RESULTS_DIR = Path('results')\n",
    "\n",
    "VAL_PATH = BASE_DIR / 'processed_bert/val.csv'\n",
    "TEST_PATH = BASE_DIR / 'processed_bert/test.csv'\n",
    "\n",
    "PREDICTIONS_DIR = Path('predictions/bert')\n",
    "PREDICTIONS_DIR.mkdir(parents=True, exist_ok=True)\n",
    "\n",
    "CONFIG = {\n",
    "    'model_name': 'bert-base-uncased',\n",
    "    'max_length': 128,\n",
    "    'num_labels': 3,\n",
    "    'seed': 42,\n",
    "}\n",
    "\n",
    "CLASS_NAMES = {0: 'hate_speech', 1: 'offensive', 2: 'neither'}\n",
    "\n",
    "np.random.seed(CONFIG['seed'])\n",
    "torch.manual_seed(CONFIG['seed'])"
   ]
  },
  {
   "cell_type": "code",
   "execution_count": 6,
   "metadata": {
    "colab": {
     "base_uri": "https://localhost:8080/"
    },
    "id": "ymVsmtEGIm13",
    "outputId": "8b4b32e3-a94a-4b32-a7d2-94d2816bf471"
   },
   "outputs": [
    {
     "name": "stdout",
     "output_type": "stream",
     "text": [
      "Device: cuda\n"
     ]
    }
   ],
   "source": [
    "device = torch.device('cuda' if torch.cuda.is_available() else 'cpu')\n",
    "print(f\"Device: {device}\")"
   ]
  },
  {
   "cell_type": "markdown",
   "metadata": {
    "id": "GknlgIUAWkuH"
   },
   "source": [
    "## Metrics function"
   ]
  },
  {
   "cell_type": "code",
   "execution_count": 7,
   "metadata": {
    "id": "5XCRa-gyC0nA"
   },
   "outputs": [],
   "source": [
    "def compute_metrics(eval_pred):\n",
    "    predictions, labels = eval_pred\n",
    "    predictions = np.argmax(predictions, axis=1)\n",
    "\n",
    "    accuracy = accuracy_score(labels, predictions)\n",
    "    macro_f1 = f1_score(labels, predictions, average='macro')\n",
    "    weighted_f1 = f1_score(labels, predictions, average='weighted')\n",
    "\n",
    "    precision, recall, f1, _ = precision_recall_fscore_support(\n",
    "        labels, predictions,\n",
    "        average=None,\n",
    "        labels=[0, 1, 2]\n",
    "    )\n",
    "\n",
    "    return {\n",
    "        'accuracy': accuracy,\n",
    "        'f1_macro': macro_f1,\n",
    "        'f1_weighted': weighted_f1,\n",
    "        'hate_speech_precision': precision[0],\n",
    "        'hate_speech_recall': recall[0],\n",
    "        'hate_speech_f1': f1[0],\n",
    "        'offensive_precision': precision[1],\n",
    "        'offensive_recall': recall[1],\n",
    "        'offensive_f1': f1[1],\n",
    "        'neither_precision': precision[2],\n",
    "        'neither_recall': recall[2],\n",
    "        'neither_f1': f1[2],\n",
    "    }"
   ]
  },
  {
   "cell_type": "markdown",
   "metadata": {
    "id": "ddsE0aJGWtmd"
   },
   "source": [
    "## Loading the data"
   ]
  },
  {
   "cell_type": "code",
   "execution_count": 8,
   "metadata": {
    "id": "aMFmiEXyC0eM"
   },
   "outputs": [],
   "source": [
    "train_orig = pd.read_csv(BASE_DIR / 'processed_bert/train.csv')\n",
    "train_aug = pd.read_csv(BASE_DIR / 'processed_bert/train_augmented.csv')\n",
    "val_df = pd.read_csv(BASE_DIR / 'processed_bert/val.csv')\n",
    "test_df = pd.read_csv(BASE_DIR / 'processed_bert/test.csv')"
   ]
  },
  {
   "cell_type": "code",
   "execution_count": 9,
   "metadata": {
    "colab": {
     "base_uri": "https://localhost:8080/"
    },
    "id": "kgqO7sxkC0bK",
    "outputId": "50fa654e-f986-4937-fd54-4b7244600c34"
   },
   "outputs": [
    {
     "name": "stdout",
     "output_type": "stream",
     "text": [
      "Val: 3,718 samples\n"
     ]
    }
   ],
   "source": [
    "print(f\"Val: {len(val_df):,} samples\")"
   ]
  },
  {
   "cell_type": "code",
   "execution_count": 10,
   "metadata": {
    "colab": {
     "base_uri": "https://localhost:8080/"
    },
    "id": "jGiImJDkC0Yb",
    "outputId": "ed23c85c-9d9b-4631-84f9-bab3654c3382"
   },
   "outputs": [
    {
     "name": "stdout",
     "output_type": "stream",
     "text": [
      "Test: 3,718 samples\n"
     ]
    }
   ],
   "source": [
    "print(f\"Test: {len(test_df):,} samples\")"
   ]
  },
  {
   "cell_type": "code",
   "execution_count": 37,
   "metadata": {
    "colab": {
     "base_uri": "https://localhost:8080/"
    },
    "id": "562aKo_7C0TE",
    "outputId": "ceb93562-1d30-4464-cd1f-296ab392c114"
   },
   "outputs": [
    {
     "name": "stdout",
     "output_type": "stream",
     "text": [
      "Original Training\n",
      "Shape: (17347, 3)\n",
      "Columns: ['text', 'label', 'clean_text']\n",
      "  Classes:\n",
      "    hate_speech :  1001 (  5.8%)\n",
      "    offensive   : 13432 ( 77.4%)\n",
      "    neither     :  2914 ( 16.8%)\n",
      "\n",
      "Augmented Training\n",
      "Shape: (22263, 3)\n",
      "Columns: ['text', 'label', 'clean_text']\n",
      "  Classes:\n",
      "    hate_speech :  3003 ( 13.5%)\n",
      "    offensive   : 13432 ( 60.3%)\n",
      "    neither     :  5828 ( 26.2%)\n",
      "\n",
      "Validation\n",
      "Shape: (3718, 3)\n",
      "Columns: ['text', 'label', 'clean_text']\n",
      "  Classes:\n",
      "    hate_speech :   215 (  5.8%)\n",
      "    offensive   :  2879 ( 77.4%)\n",
      "    neither     :   624 ( 16.8%)\n"
     ]
    }
   ],
   "source": [
    "def peek_data(df, name=\"Original Training\"):\n",
    "    print(f\"{name}\")\n",
    "    print(f\"Shape: {df.shape}\")\n",
    "    print(f\"Columns: {list(df.columns)}\")\n",
    "\n",
    "    dist = df['label'].value_counts().sort_index()\n",
    "    print(f\"  Classes:\")\n",
    "    for label, count in dist.items():\n",
    "        pct = (count / len(df)) * 100\n",
    "        print(f\"    {CLASS_NAMES[label]:12s}: {count:5d} ({pct:5.1f}%)\")\n",
    "\n",
    "\n",
    "peek_data(train_orig, \"Original Training\")\n",
    "print()\n",
    "peek_data(train_aug, \"Augmented Training\")\n",
    "print()\n",
    "peek_data(val_df, \"Validation\")"
   ]
  },
  {
   "cell_type": "code",
   "execution_count": null,
   "metadata": {
    "id": "gYqoQPbKC0Qp"
   },
   "outputs": [],
   "source": []
  },
  {
   "cell_type": "code",
   "execution_count": null,
   "metadata": {
    "id": "FgJZ7SxWC0OT"
   },
   "outputs": [],
   "source": []
  },
  {
   "cell_type": "markdown",
   "metadata": {
    "id": "Ac87BU0hW0_U"
   },
   "source": [
    "# Class weights"
   ]
  },
  {
   "cell_type": "code",
   "execution_count": 12,
   "metadata": {
    "id": "56D_VeEaC0Li"
   },
   "outputs": [],
   "source": [
    "def calculate_class_weights(df):\n",
    "    weights = compute_class_weight(\n",
    "        class_weight='balanced',\n",
    "        classes=np.array([0, 1, 2]),\n",
    "        y=df['label'].values\n",
    "    )\n",
    "    return torch.tensor(weights, dtype=torch.float32)"
   ]
  },
  {
   "cell_type": "code",
   "execution_count": 13,
   "metadata": {
    "id": "9xGLM0KcC0JF"
   },
   "outputs": [],
   "source": [
    "weights_orig = calculate_class_weights(train_orig)\n",
    "weights_aug = calculate_class_weights(train_aug)"
   ]
  },
  {
   "cell_type": "code",
   "execution_count": 33,
   "metadata": {
    "colab": {
     "base_uri": "https://localhost:8080/"
    },
    "id": "z87Y8YgPC0GX",
    "outputId": "a9a6f91f-476b-4af6-feb5-d123f8ee5b37"
   },
   "outputs": [
    {
     "data": {
      "text/plain": [
       "tensor([5.7766, 0.4305, 1.9843])"
      ]
     },
     "execution_count": 33,
     "metadata": {},
     "output_type": "execute_result"
    }
   ],
   "source": [
    "weights_orig"
   ]
  },
  {
   "cell_type": "code",
   "execution_count": 34,
   "metadata": {
    "colab": {
     "base_uri": "https://localhost:8080/"
    },
    "id": "HGEXpepdW4a2",
    "outputId": "74da5c62-5157-4cb3-fc75-377b7fbf607f"
   },
   "outputs": [
    {
     "data": {
      "text/plain": [
       "tensor([2.4712, 0.5525, 1.2733])"
      ]
     },
     "execution_count": 34,
     "metadata": {},
     "output_type": "execute_result"
    }
   ],
   "source": [
    "weights_aug"
   ]
  },
  {
   "cell_type": "markdown",
   "metadata": {
    "id": "rOKKZBlZXA8e"
   },
   "source": [
    "# Tokenization"
   ]
  },
  {
   "cell_type": "code",
   "execution_count": 14,
   "metadata": {
    "colab": {
     "base_uri": "https://localhost:8080/",
     "height": 267,
     "referenced_widgets": [
      "695db9f71bc5432d93a1e980a1935b71",
      "87333971f90c437f8083105c72ae4cc1",
      "f880567785a64e25ba2bc41ab4262406",
      "6d8ad137e5e044d5b63eadecceba6ff5",
      "5c468f2e9ff948edb69a4ef08b368b47",
      "7ddf37c0f823420c98638ded040d33c3",
      "e52458213c97486f9e4ecb57663a6720",
      "724e81ba1fd94916a45e7ed90b40d524",
      "e56664e53f5a4a7daf0f7e1327f7a89f",
      "155762e5ce0a47d886294839dacb7797",
      "d7729cebe25b4c7ba4e70096364e0db6",
      "f19dd3beb29d4155b865e65c83c31ed8",
      "f1ed9826ce634d8cab16d2e9e2d44840",
      "fef5d07985f44b438327ea93389e602d",
      "66ac5b590adc4c699e113a6433d5763b",
      "c8e59a9c1fa94de39dcc446d76766962",
      "8f24a1260b4744da99527ad9a8a45e8d",
      "9e30146a5bfc4e4098d00104ed9609ae",
      "5d3dc9c9f5de4207813329d43df62727",
      "98f08c0fd1ae45bba99eb31c83398433",
      "f3c4b4e02fc9400fbe94d73d102bec6d",
      "fb114f454a644158bf0bf73aebb6c928",
      "f07a6ae988fe4fb1a04f6a0c48d4a36a",
      "61f798f0b2144d82850d775d579ae132",
      "bf72b38f0e1d42c38f427e131afac908",
      "353b38b41dbc41edb2fd84a7c0c8d8f6",
      "01f108f9e049429faac90eaba926b5d0",
      "e349990026554b5788f97ddc75127d67",
      "63c493231f904152ad4d38fce9cbe503",
      "fef04bbf8b7d49ccbc4af8f07c8955f1",
      "b0ead5a9e75542d98464d52953d2f247",
      "f58465a569a24501be09d7731ee28632",
      "0745a6c363ae4e40bc141c00d22b5c60",
      "69b756a0390a4e2b98d419367bdf2111",
      "78e5d7cdb9274bc7b95846705c76a40b",
      "32e3be065aaa4d0193be9874fc344560",
      "38f4b52da4d540ae8692839147a54d07",
      "d62996c18ffd4177aef4e0e7b1333e9e",
      "3f7d53e52d79401db484e6489be1ee2f",
      "8168768e68884afbaf4ca6dd0adecc28",
      "a5ea94ab27d5419f9765657688498392",
      "6c161213d15b455783e271f565b97c35",
      "1f1410f047a847e387a9d17be3364a24",
      "ed7198e6d44b422abdb05b0047866b6e"
     ]
    },
    "id": "GHNG30d4C0Dd",
    "outputId": "599f1ac2-4e74-4208-e11e-097db4c84a60"
   },
   "outputs": [
    {
     "name": "stderr",
     "output_type": "stream",
     "text": [
      "/usr/local/lib/python3.12/dist-packages/huggingface_hub/utils/_auth.py:94: UserWarning: \n",
      "The secret `HF_TOKEN` does not exist in your Colab secrets.\n",
      "To authenticate with the Hugging Face Hub, create a token in your settings tab (https://huggingface.co/settings/tokens), set it as secret in your Google Colab and restart your session.\n",
      "You will be able to reuse this secret in all of your notebooks.\n",
      "Please note that authentication is recommended but still optional to access public models or datasets.\n",
      "  warnings.warn(\n"
     ]
    },
    {
     "data": {
      "application/vnd.jupyter.widget-view+json": {
       "model_id": "695db9f71bc5432d93a1e980a1935b71",
       "version_major": 2,
       "version_minor": 0
      },
      "text/plain": [
       "tokenizer_config.json:   0%|          | 0.00/48.0 [00:00<?, ?B/s]"
      ]
     },
     "metadata": {},
     "output_type": "display_data"
    },
    {
     "data": {
      "application/vnd.jupyter.widget-view+json": {
       "model_id": "f19dd3beb29d4155b865e65c83c31ed8",
       "version_major": 2,
       "version_minor": 0
      },
      "text/plain": [
       "vocab.txt:   0%|          | 0.00/232k [00:00<?, ?B/s]"
      ]
     },
     "metadata": {},
     "output_type": "display_data"
    },
    {
     "data": {
      "application/vnd.jupyter.widget-view+json": {
       "model_id": "f07a6ae988fe4fb1a04f6a0c48d4a36a",
       "version_major": 2,
       "version_minor": 0
      },
      "text/plain": [
       "tokenizer.json:   0%|          | 0.00/466k [00:00<?, ?B/s]"
      ]
     },
     "metadata": {},
     "output_type": "display_data"
    },
    {
     "data": {
      "application/vnd.jupyter.widget-view+json": {
       "model_id": "69b756a0390a4e2b98d419367bdf2111",
       "version_major": 2,
       "version_minor": 0
      },
      "text/plain": [
       "config.json:   0%|          | 0.00/570 [00:00<?, ?B/s]"
      ]
     },
     "metadata": {},
     "output_type": "display_data"
    }
   ],
   "source": [
    "tokenizer = BertTokenizer.from_pretrained('bert-base-uncased')"
   ]
  },
  {
   "cell_type": "code",
   "execution_count": null,
   "metadata": {
    "id": "jcdq0XAcC0Ao"
   },
   "outputs": [],
   "source": []
  },
  {
   "cell_type": "code",
   "execution_count": 15,
   "metadata": {
    "id": "xd3HMgdBCz9z"
   },
   "outputs": [],
   "source": [
    "def tokenize_dataset(df, desc=\"original train\"):\n",
    "    dataset = Dataset.from_pandas(df[['clean_text', 'label']])\n",
    "\n",
    "    def tokenize_batch(examples):\n",
    "        return tokenizer(\n",
    "            examples['clean_text'],\n",
    "            padding='max_length',\n",
    "            truncation=True,\n",
    "            max_length=CONFIG['max_length']\n",
    "        )\n",
    "\n",
    "    tokenized = dataset.map(tokenize_batch, batched=True, desc=f\"Tokenizing {desc}\")\n",
    "    tokenized = tokenized.rename_column('label', 'labels')\n",
    "    tokenized = tokenized.remove_columns(['clean_text'])\n",
    "    tokenized.set_format('torch')\n",
    "\n",
    "    return tokenized"
   ]
  },
  {
   "cell_type": "code",
   "execution_count": 16,
   "metadata": {
    "colab": {
     "base_uri": "https://localhost:8080/",
     "height": 145,
     "referenced_widgets": [
      "07c2a35cd3f84bd6a26d940074619d14",
      "f96bfe9a15194f55a080acd2213c84c5",
      "c08f27386cf94df7a33b85d341ed93e3",
      "6878f888ee094bf883c7bdf883a1ae54",
      "76693596ba234f349656c92b20b8f2a1",
      "13cc7dedb49a46c7a8816302d15a41de",
      "a9afe381dc4f43dd8c6a07437c055544",
      "a986e74f3eed461fbe235925402f5a4f",
      "cc65ccb2ff4348128897cc6dec93eca4",
      "4252043899794baf8b5dbc7b6a401dc5",
      "ac4fb1fb0a6d477bbb2fd9f3097afa04",
      "918d74127db146648041be4931c3b2b3",
      "e10782444d4548c9b79233f4bd896947",
      "22cccf8a8b6b4557a01edc2fcc32503f",
      "2bb59ce88df14f6e98faa69d0e7a199c",
      "c8f0f0ee30064236b78538d3395ea48e",
      "e4859837d6c44ddfa77ed65a72e7d7be",
      "aaff78294c494b51959569d8460c159e",
      "7f6d2b9a85fc4fc18693bf521de8089f",
      "dd6ff3d8d59f41f1910e76f7e1cc4bb6",
      "a7e20c3f556e4178a3a20ca0b1e785ab",
      "a8d0183deb0449e18910520d5622d46c",
      "3589984cd8e14d8ba0f19c924407ab95",
      "389801a4bdcc44eda133f66c70728af8",
      "0b42bddaa782460ba0f1a0489c3cddb0",
      "19061f36056c4fc395d0b0ff5801193f",
      "10de4a10757f415c8dff591e467dc441",
      "bec4ecc6a157476f8a7dc028d9ef5716",
      "7026c80e917f4f19b365710d679eb3c9",
      "9ddf88c26ecd4ec098d650909b131a96",
      "6cde0dd0c48c43a9a0c8358f640c079f",
      "fa569dd0d06d4157bee7b244256f8a93",
      "0afb27ebf2f7489eafa83fc6aa4b2a1a",
      "59402b4125b5452c9952e0c7cb0ec35e",
      "962797688447411891ac67d15ade8524",
      "8b57f8226e3143e483a4dea3117cd6a2",
      "a3297799a0574661b069626bbd51a655",
      "a91ca653a1f94999a7ed126fb6ba45d7",
      "199d532cc8dd4777a660abdd79b8fa69",
      "f1d7a3c2f2894ee6a3cf033f3adb84b7",
      "69d693b6f064443b8399270a13938aeb",
      "6ba37eecc887468fa10084dbd13b1746",
      "493b4d57fd394c9f950d318d958bd076",
      "bd8dfd00c52c4c9fa3950a11d4a4a340"
     ]
    },
    "id": "Jw3Hr33LEObH",
    "outputId": "829de37b-cf9f-4b42-9764-bd5f7ee38edc"
   },
   "outputs": [
    {
     "data": {
      "application/vnd.jupyter.widget-view+json": {
       "model_id": "07c2a35cd3f84bd6a26d940074619d14",
       "version_major": 2,
       "version_minor": 0
      },
      "text/plain": [
       "Tokenizing original train:   0%|          | 0/17347 [00:00<?, ? examples/s]"
      ]
     },
     "metadata": {},
     "output_type": "display_data"
    },
    {
     "data": {
      "application/vnd.jupyter.widget-view+json": {
       "model_id": "918d74127db146648041be4931c3b2b3",
       "version_major": 2,
       "version_minor": 0
      },
      "text/plain": [
       "Tokenizing augmented train:   0%|          | 0/22263 [00:00<?, ? examples/s]"
      ]
     },
     "metadata": {},
     "output_type": "display_data"
    },
    {
     "data": {
      "application/vnd.jupyter.widget-view+json": {
       "model_id": "3589984cd8e14d8ba0f19c924407ab95",
       "version_major": 2,
       "version_minor": 0
      },
      "text/plain": [
       "Tokenizing validation:   0%|          | 0/3718 [00:00<?, ? examples/s]"
      ]
     },
     "metadata": {},
     "output_type": "display_data"
    },
    {
     "data": {
      "application/vnd.jupyter.widget-view+json": {
       "model_id": "59402b4125b5452c9952e0c7cb0ec35e",
       "version_major": 2,
       "version_minor": 0
      },
      "text/plain": [
       "Tokenizing test:   0%|          | 0/3718 [00:00<?, ? examples/s]"
      ]
     },
     "metadata": {},
     "output_type": "display_data"
    }
   ],
   "source": [
    "train_orig_tok = tokenize_dataset(train_orig, \"original train\")\n",
    "train_aug_tok = tokenize_dataset(train_aug, \"augmented train\")\n",
    "val_tok = tokenize_dataset(val_df, \"validation\")\n",
    "test_tok = tokenize_dataset(test_df, \"test\")"
   ]
  },
  {
   "cell_type": "code",
   "execution_count": 17,
   "metadata": {
    "colab": {
     "base_uri": "https://localhost:8080/"
    },
    "id": "z7xXKn--DZ_r",
    "outputId": "947af6f2-37e9-4330-a53a-e43c0720e9ce"
   },
   "outputs": [
    {
     "name": "stdout",
     "output_type": "stream",
     "text": [
      "Label: 1 (offensive)\n",
      "Input IDs shape: torch.Size([128])\n",
      "Attention mask shape: torch.Size([128])\n",
      "Decoded text (first 100 chars): 'lmfaoooooo gay as fuck rt @ user get these two faggots off my tl [ url ]...'\n",
      "Real tokens: 28 / 128\n"
     ]
    }
   ],
   "source": [
    "sample = train_orig_tok[0]\n",
    "\n",
    "print(f\"Label: {sample['labels']} ({CLASS_NAMES[int(sample['labels'])]})\")\n",
    "print(f\"Input IDs shape: {sample['input_ids'].shape}\")\n",
    "print(f\"Attention mask shape: {sample['attention_mask'].shape}\")\n",
    "\n",
    "decoded = tokenizer.decode(sample['input_ids'], skip_special_tokens=True)\n",
    "print(f\"Decoded text (first 100 chars): '{decoded[:100]}...'\")\n",
    "\n",
    "num_real_tokens = sample['attention_mask'].sum().item()\n",
    "print(f\"Real tokens: {num_real_tokens} / 128\")"
   ]
  },
  {
   "cell_type": "code",
   "execution_count": null,
   "metadata": {
    "id": "BbE8XMD_DZ8c"
   },
   "outputs": [],
   "source": []
  },
  {
   "cell_type": "code",
   "execution_count": 18,
   "metadata": {
    "id": "aYuO37iJDZ5w"
   },
   "outputs": [],
   "source": [
    "def get_training_config(use_augmented=False):\n",
    "    train_config = {\n",
    "        'num_train_epochs': 4,\n",
    "        'learning_rate': 3e-5,\n",
    "        'per_device_train_batch_size': 16,\n",
    "        'per_device_eval_batch_size': 32,\n",
    "        'gradient_accumulation_steps': 2,\n",
    "        'weight_decay': 0.01,\n",
    "        'warmup_ratio': 0.1,\n",
    "        'fp16': True,\n",
    "        'seed': CONFIG['seed'],\n",
    "        'eval_strategy': 'epoch',\n",
    "        'save_strategy': 'epoch',\n",
    "        'save_total_limit': 2,\n",
    "        'load_best_model_at_end': True,\n",
    "        'metric_for_best_model': 'f1_macro',\n",
    "        'greater_is_better': True,\n",
    "        'logging_steps': 100,\n",
    "    }\n",
    "\n",
    "    if use_augmented:\n",
    "        train_config['output_dir'] = str(MODELS_DIR / 'bert_augmented')\n",
    "        train_config['run_name'] = 'bert_augmented'\n",
    "    else:\n",
    "        train_config['output_dir'] = str(MODELS_DIR / 'bert_original')\n",
    "        train_config['run_name'] = 'bert_original'\n",
    "\n",
    "    print(f\"[config] Training config for {train_config['run_name']}\")\n",
    "    print(f\"  Output: {train_config['output_dir']}\")\n",
    "    print(f\"  Epochs: {train_config['num_train_epochs']}\")\n",
    "    print(f\"  Effective batch: {train_config['per_device_train_batch_size'] * train_config['gradient_accumulation_steps']}\")\n",
    "\n",
    "    return train_config\n"
   ]
  },
  {
   "cell_type": "code",
   "execution_count": 19,
   "metadata": {
    "colab": {
     "base_uri": "https://localhost:8080/"
    },
    "id": "cHMX-DEVDt0r",
    "outputId": "5938ad0f-fea5-4ff2-8844-cc498f0537bd"
   },
   "outputs": [
    {
     "name": "stdout",
     "output_type": "stream",
     "text": [
      "[config] Training config for bert_original\n",
      "  Output: models/bert_original\n",
      "  Epochs: 4\n",
      "  Effective batch: 32\n",
      "[config] Training config for bert_augmented\n",
      "  Output: models/bert_augmented\n",
      "  Epochs: 4\n",
      "  Effective batch: 32\n"
     ]
    }
   ],
   "source": [
    "config_orig = get_training_config(use_augmented=False)\n",
    "config_aug = get_training_config(use_augmented=True)"
   ]
  },
  {
   "cell_type": "code",
   "execution_count": 20,
   "metadata": {
    "colab": {
     "base_uri": "https://localhost:8080/"
    },
    "id": "M5VwclQHDtyo",
    "outputId": "86f208e1-fe09-4c4a-8730-de8d5bda00a6"
   },
   "outputs": [
    {
     "data": {
      "text/plain": [
       "{'num_train_epochs': 4,\n",
       " 'learning_rate': 3e-05,\n",
       " 'per_device_train_batch_size': 16,\n",
       " 'per_device_eval_batch_size': 32,\n",
       " 'gradient_accumulation_steps': 2,\n",
       " 'weight_decay': 0.01,\n",
       " 'warmup_ratio': 0.1,\n",
       " 'fp16': True,\n",
       " 'seed': 42,\n",
       " 'eval_strategy': 'epoch',\n",
       " 'save_strategy': 'epoch',\n",
       " 'save_total_limit': 2,\n",
       " 'load_best_model_at_end': True,\n",
       " 'metric_for_best_model': 'f1_macro',\n",
       " 'greater_is_better': True,\n",
       " 'logging_steps': 100,\n",
       " 'output_dir': 'models/bert_original',\n",
       " 'run_name': 'bert_original'}"
      ]
     },
     "execution_count": 20,
     "metadata": {},
     "output_type": "execute_result"
    }
   ],
   "source": [
    "config_orig"
   ]
  },
  {
   "cell_type": "code",
   "execution_count": 21,
   "metadata": {
    "colab": {
     "base_uri": "https://localhost:8080/"
    },
    "id": "Z_eGYiXjDtvx",
    "outputId": "9feb6947-b7a8-428b-bdc1-7add5477ed06"
   },
   "outputs": [
    {
     "data": {
      "text/plain": [
       "{'num_train_epochs': 4,\n",
       " 'learning_rate': 3e-05,\n",
       " 'per_device_train_batch_size': 16,\n",
       " 'per_device_eval_batch_size': 32,\n",
       " 'gradient_accumulation_steps': 2,\n",
       " 'weight_decay': 0.01,\n",
       " 'warmup_ratio': 0.1,\n",
       " 'fp16': True,\n",
       " 'seed': 42,\n",
       " 'eval_strategy': 'epoch',\n",
       " 'save_strategy': 'epoch',\n",
       " 'save_total_limit': 2,\n",
       " 'load_best_model_at_end': True,\n",
       " 'metric_for_best_model': 'f1_macro',\n",
       " 'greater_is_better': True,\n",
       " 'logging_steps': 100,\n",
       " 'output_dir': 'models/bert_augmented',\n",
       " 'run_name': 'bert_augmented'}"
      ]
     },
     "execution_count": 21,
     "metadata": {},
     "output_type": "execute_result"
    }
   ],
   "source": [
    "config_aug"
   ]
  },
  {
   "cell_type": "code",
   "execution_count": null,
   "metadata": {
    "id": "nOGV_MCrDttQ"
   },
   "outputs": [],
   "source": []
  },
  {
   "cell_type": "markdown",
   "metadata": {
    "id": "kxWpi6l-XHaa"
   },
   "source": [
    "# Weighted trainer"
   ]
  },
  {
   "cell_type": "code",
   "execution_count": 22,
   "metadata": {
    "id": "e-AeujRIDtkI"
   },
   "outputs": [],
   "source": [
    "class WeightedTrainer(Trainer):\n",
    "    def __init__(self, class_weights, **kwargs):\n",
    "        if 'tokenizer' in kwargs:\n",
    "            kwargs['processing_class'] = kwargs.pop('tokenizer')\n",
    "        super().__init__(**kwargs)\n",
    "        self.loss_fn = nn.CrossEntropyLoss(weight=class_weights.to(self.args.device))\n",
    "\n",
    "    def compute_loss(self, model, inputs, return_outputs=False, num_items_in_batch=None):\n",
    "        labels = inputs.pop(\"labels\")\n",
    "        outputs = model(**inputs)\n",
    "        loss = self.loss_fn(outputs.logits.view(-1, 3), labels.view(-1))\n",
    "        return (loss, outputs) if return_outputs else loss"
   ]
  },
  {
   "cell_type": "code",
   "execution_count": null,
   "metadata": {
    "id": "lkSRCLHxDtha"
   },
   "outputs": [],
   "source": []
  },
  {
   "cell_type": "code",
   "execution_count": 23,
   "metadata": {
    "colab": {
     "base_uri": "https://localhost:8080/"
    },
    "id": "WLHgrPezDte1",
    "outputId": "59196573-4c2e-4310-f03e-c450cae11a3b"
   },
   "outputs": [
    {
     "name": "stdout",
     "output_type": "stream",
     "text": [
      "['labels', 'input_ids', 'token_type_ids', 'attention_mask']\n"
     ]
    }
   ],
   "source": [
    "print(f\"{train_orig_tok.column_names}\")"
   ]
  },
  {
   "cell_type": "markdown",
   "metadata": {
    "id": "lBWj96ynXQ_-"
   },
   "source": [
    "## Training function"
   ]
  },
  {
   "cell_type": "markdown",
   "metadata": {
    "id": "AJXCawQpXUyh"
   },
   "source": [
    "Here we are going to be using our weighted trainer"
   ]
  },
  {
   "cell_type": "code",
   "execution_count": 27,
   "metadata": {
    "id": "BTgQr53ZDtcd"
   },
   "outputs": [],
   "source": [
    "def train_bert(use_augmented=False):\n",
    "    if use_augmented:\n",
    "        model_dir = Path('models/bert_augmented/best_model')\n",
    "    else:\n",
    "        model_dir = Path('models/bert_original/best_model')\n",
    "\n",
    "    if use_augmented:\n",
    "        print(\"\\n\" + \"=\"*60)\n",
    "        print(\"TRAINING ON AUGMENTED DATA\")\n",
    "        print(\"=\"*60)\n",
    "        train_dataset = train_aug_tok\n",
    "        class_weights = weights_aug\n",
    "        config = config_aug\n",
    "    else:\n",
    "        print(\"\\n\" + \"=\"*60)\n",
    "        print(\"TRAINING ON ORIGINAL DATA\")\n",
    "        print(\"=\"*60)\n",
    "        train_dataset = train_orig_tok\n",
    "        class_weights = weights_orig\n",
    "        config = config_orig\n",
    "\n",
    "    print(f\"[setup] Training samples: {len(train_dataset):,}\")\n",
    "    print(f\"[setup] Validation samples: {len(val_tok):,}\")\n",
    "    print(f\"[setup] Output directory: {config['output_dir']}\")\n",
    "\n",
    "    output_dir = Path(config['output_dir'])\n",
    "    output_dir.mkdir(parents=True, exist_ok=True)\n",
    "\n",
    "    print(\"\\n[model] Loading BERT-base-uncased...\")\n",
    "    model = BertForSequenceClassification.from_pretrained(\n",
    "        'bert-base-uncased',\n",
    "        num_labels=3,\n",
    "        ignore_mismatched_sizes=True\n",
    "    )\n",
    "    print(f\"[model] Parameters: {sum(p.numel() for p in model.parameters()):,}\")\n",
    "    print(f\"[model] Classifier layer initialized randomly (expected)\")\n",
    "\n",
    "    training_config = {k: v for k, v in config.items() if k != 'run_name'}\n",
    "\n",
    "    training_args = TrainingArguments(\n",
    "        **training_config,\n",
    "        report_to='none',\n",
    "        push_to_hub=False,\n",
    "        remove_unused_columns=True,\n",
    "        dataloader_drop_last=False,\n",
    "        dataloader_num_workers=2,\n",
    "    )\n",
    "\n",
    "    steps_per_epoch = len(train_dataset) // (config['per_device_train_batch_size'] * config['gradient_accumulation_steps'])\n",
    "    total_steps = steps_per_epoch * config['num_train_epochs']\n",
    "\n",
    "    print(f\"\\n[train] Training configuration:\")\n",
    "    print(f\"  Epochs: {config['num_train_epochs']}\")\n",
    "    print(f\"  Steps per epoch: {steps_per_epoch}\")\n",
    "    print(f\"  Total steps: {total_steps}\")\n",
    "    print(f\"  Effective batch size: {config['per_device_train_batch_size'] * config['gradient_accumulation_steps']}\")\n",
    "    print(f\"  Learning rate: {config['learning_rate']}\")\n",
    "\n",
    "    print(f\"\\n[train] Using class weights: {class_weights.numpy()}\")\n",
    "\n",
    "    trainer = WeightedTrainer(\n",
    "        class_weights=class_weights,\n",
    "        model=model,\n",
    "        args=training_args,\n",
    "        train_dataset=train_dataset,\n",
    "        eval_dataset=val_tok,\n",
    "        processing_class=tokenizer,\n",
    "        compute_metrics=compute_metrics,\n",
    "        callbacks=[EarlyStoppingCallback(early_stopping_patience=2)]\n",
    "    )\n",
    "\n",
    "    print(\"[train] Starting training\")\n",
    "    print(\"-\" * 60)\n",
    "\n",
    "    try:\n",
    "        train_result = trainer.train()\n",
    "    except Exception as e:\n",
    "        print(f\"[ERROR] Training failed: {e}\")\n",
    "        return None\n",
    "\n",
    "    print(\"-\" * 60)\n",
    "    print(f\"\\n[train] Training complete!\")\n",
    "    print(f\"[train] Final loss: {train_result.training_loss:.4f}\")\n",
    "\n",
    "    best_model_dir = output_dir / 'best_model'\n",
    "    print(f\"\\n[save] Saving model to {best_model_dir}\")\n",
    "\n",
    "    trainer.save_model(best_model_dir)\n",
    "    tokenizer.save_pretrained(best_model_dir)\n",
    "\n",
    "    history_file = output_dir / 'training_history.json'\n",
    "\n",
    "    log_history = []\n",
    "    for entry in trainer.state.log_history:\n",
    "        clean_entry = {}\n",
    "        for k, v in entry.items():\n",
    "            if hasattr(v, 'item'):\n",
    "                clean_entry[k] = v.item()\n",
    "            elif isinstance(v, (list, dict, str, int, float, bool, type(None))):\n",
    "                clean_entry[k] = v\n",
    "            else:\n",
    "                clean_entry[k] = str(v)\n",
    "        log_history.append(clean_entry)\n",
    "\n",
    "    history = {\n",
    "        'loss_history': log_history,\n",
    "        'best_metric': float(trainer.state.best_metric) if trainer.state.best_metric else None,\n",
    "        'best_model_checkpoint': trainer.state.best_model_checkpoint,\n",
    "        'total_steps': int(trainer.state.global_step),\n",
    "        'epochs_trained': float(trainer.state.epoch),\n",
    "    }\n",
    "\n",
    "    with open(history_file, 'w') as f:\n",
    "        json.dump(history, f, indent=2)\n",
    "    print(f\"[save] Training history saved\")\n",
    "\n",
    "    weights_file = output_dir / 'class_weights.json'\n",
    "    weights_dict = {str(i): float(w) for i, w in enumerate(class_weights.numpy())}\n",
    "    with open(weights_file, 'w') as f:\n",
    "        json.dump(weights_dict, f, indent=2)\n",
    "    print(f\"[save] Class weights saved\")\n",
    "\n",
    "    config_file = output_dir / 'training_config.json'\n",
    "    with open(config_file, 'w') as f:\n",
    "        json.dump(config, f, indent=2)\n",
    "    print(f\"[save] Training config saved\")\n",
    "\n",
    "    dataset_info = {\n",
    "        'train_samples': len(train_dataset),\n",
    "        'val_samples': len(val_tok),\n",
    "        'augmented': use_augmented,\n",
    "        'dataset_name': 'augmented' if use_augmented else 'original'\n",
    "    }\n",
    "    info_file = output_dir / 'dataset_info.json'\n",
    "    with open(info_file, 'w') as f:\n",
    "        json.dump(dataset_info, f, indent=2)\n",
    "    print(f\"[save] Dataset info saved\")\n",
    "\n",
    "    print(\"\\n\" + \"=\"*60)\n",
    "    print(\"TRAINING COMPLETE\")\n",
    "    print(\"=\"*60)\n",
    "    print(f\"Model saved to: {output_dir}\")\n",
    "\n",
    "    if trainer.state.best_metric:\n",
    "        print(f\"\\nBest validation F1: {trainer.state.best_metric:.4f}\")\n",
    "        print(f\"Training stopped at epoch: {trainer.state.epoch:.1f}\")\n",
    "\n",
    "    return str(output_dir)"
   ]
  },
  {
   "cell_type": "code",
   "execution_count": null,
   "metadata": {
    "id": "mNg2xqrMDtZn"
   },
   "outputs": [],
   "source": []
  },
  {
   "cell_type": "markdown",
   "metadata": {
    "id": "jzELNXYWXdXd"
   },
   "source": [
    "## Training our models"
   ]
  },
  {
   "cell_type": "code",
   "execution_count": 28,
   "metadata": {
    "colab": {
     "base_uri": "https://localhost:8080/",
     "height": 1000,
     "referenced_widgets": [
      "dfef25eec1284b2483def4a80d4183ba",
      "49ac5b05a40149b584aba325f9c980e4",
      "07add0f5d9da4e1fbe27ae9bfd95ed52",
      "bbb468bf940f4474b88883950a6f48ab",
      "5dced133cb99471da207a07143013d77",
      "5606ad61753c403f94d20d87d30fb0df",
      "e12c4154fb644a31a5f7444a3339bfee",
      "cf590335a2f948d2aaee096f8e6df0f3",
      "3aafb460c150472ab2779d2190e57d7f",
      "4a57f533ba0c4e4c8dae313a6010a495",
      "3f6b07ac91ee4ad8a8a814d22b5cbeaf"
     ]
    },
    "id": "YErztixwDtWo",
    "outputId": "3d2d2c4f-8860-4f16-dbc0-7be9bce9f8fb"
   },
   "outputs": [
    {
     "name": "stdout",
     "output_type": "stream",
     "text": [
      "\n",
      "============================================================\n",
      "TRAINING ON ORIGINAL DATA\n",
      "============================================================\n",
      "[setup] Training samples: 17,347\n",
      "[setup] Validation samples: 3,718\n",
      "[setup] Output directory: models/bert_original\n",
      "\n",
      "[model] Loading BERT-base-uncased...\n"
     ]
    },
    {
     "data": {
      "application/vnd.jupyter.widget-view+json": {
       "model_id": "dfef25eec1284b2483def4a80d4183ba",
       "version_major": 2,
       "version_minor": 0
      },
      "text/plain": [
       "model.safetensors:   0%|          | 0.00/440M [00:00<?, ?B/s]"
      ]
     },
     "metadata": {},
     "output_type": "display_data"
    },
    {
     "name": "stderr",
     "output_type": "stream",
     "text": [
      "Some weights of BertForSequenceClassification were not initialized from the model checkpoint at bert-base-uncased and are newly initialized: ['classifier.bias', 'classifier.weight']\n",
      "You should probably TRAIN this model on a down-stream task to be able to use it for predictions and inference.\n"
     ]
    },
    {
     "name": "stdout",
     "output_type": "stream",
     "text": [
      "[model] Parameters: 109,484,547\n",
      "[model] Classifier layer initialized randomly (expected)\n",
      "\n",
      "[train] Training configuration:\n",
      "  Epochs: 4\n",
      "  Steps per epoch: 542\n",
      "  Total steps: 2168\n",
      "  Effective batch size: 32\n",
      "  Learning rate: 3e-05\n",
      "\n",
      "[train] Using class weights: [5.776557  0.4304894 1.9843285]\n",
      "\n",
      "[train] Starting training\n",
      "------------------------------------------------------------\n"
     ]
    },
    {
     "data": {
      "text/html": [
       "\n",
       "    <div>\n",
       "      \n",
       "      <progress value='2172' max='2172' style='width:300px; height:20px; vertical-align: middle;'></progress>\n",
       "      [2172/2172 09:09, Epoch 4/4]\n",
       "    </div>\n",
       "    <table border=\"1\" class=\"dataframe\">\n",
       "  <thead>\n",
       " <tr style=\"text-align: left;\">\n",
       "      <th>Epoch</th>\n",
       "      <th>Training Loss</th>\n",
       "      <th>Validation Loss</th>\n",
       "      <th>Accuracy</th>\n",
       "      <th>F1 Macro</th>\n",
       "      <th>F1 Weighted</th>\n",
       "      <th>Hate Speech Precision</th>\n",
       "      <th>Hate Speech Recall</th>\n",
       "      <th>Hate Speech F1</th>\n",
       "      <th>Offensive Precision</th>\n",
       "      <th>Offensive Recall</th>\n",
       "      <th>Offensive F1</th>\n",
       "      <th>Neither Precision</th>\n",
       "      <th>Neither Recall</th>\n",
       "      <th>Neither F1</th>\n",
       "    </tr>\n",
       "  </thead>\n",
       "  <tbody>\n",
       "    <tr>\n",
       "      <td>1</td>\n",
       "      <td>0.522900</td>\n",
       "      <td>0.516304</td>\n",
       "      <td>0.805810</td>\n",
       "      <td>0.703112</td>\n",
       "      <td>0.845183</td>\n",
       "      <td>0.222510</td>\n",
       "      <td>0.800000</td>\n",
       "      <td>0.348178</td>\n",
       "      <td>0.978852</td>\n",
       "      <td>0.787774</td>\n",
       "      <td>0.872979</td>\n",
       "      <td>0.885350</td>\n",
       "      <td>0.891026</td>\n",
       "      <td>0.888179</td>\n",
       "    </tr>\n",
       "    <tr>\n",
       "      <td>2</td>\n",
       "      <td>0.378300</td>\n",
       "      <td>0.515860</td>\n",
       "      <td>0.890802</td>\n",
       "      <td>0.758863</td>\n",
       "      <td>0.900333</td>\n",
       "      <td>0.358543</td>\n",
       "      <td>0.595349</td>\n",
       "      <td>0.447552</td>\n",
       "      <td>0.966667</td>\n",
       "      <td>0.906565</td>\n",
       "      <td>0.935652</td>\n",
       "      <td>0.868381</td>\n",
       "      <td>0.919872</td>\n",
       "      <td>0.893385</td>\n",
       "    </tr>\n",
       "    <tr>\n",
       "      <td>3</td>\n",
       "      <td>0.333800</td>\n",
       "      <td>0.566657</td>\n",
       "      <td>0.887036</td>\n",
       "      <td>0.752030</td>\n",
       "      <td>0.896496</td>\n",
       "      <td>0.346591</td>\n",
       "      <td>0.567442</td>\n",
       "      <td>0.430335</td>\n",
       "      <td>0.962949</td>\n",
       "      <td>0.902744</td>\n",
       "      <td>0.931875</td>\n",
       "      <td>0.865067</td>\n",
       "      <td>0.924679</td>\n",
       "      <td>0.893881</td>\n",
       "    </tr>\n",
       "    <tr>\n",
       "      <td>4</td>\n",
       "      <td>0.195300</td>\n",
       "      <td>0.721985</td>\n",
       "      <td>0.899139</td>\n",
       "      <td>0.763742</td>\n",
       "      <td>0.904591</td>\n",
       "      <td>0.392617</td>\n",
       "      <td>0.544186</td>\n",
       "      <td>0.456140</td>\n",
       "      <td>0.955524</td>\n",
       "      <td>0.925321</td>\n",
       "      <td>0.940180</td>\n",
       "      <td>0.889241</td>\n",
       "      <td>0.900641</td>\n",
       "      <td>0.894904</td>\n",
       "    </tr>\n",
       "  </tbody>\n",
       "</table><p>"
      ],
      "text/plain": [
       "<IPython.core.display.HTML object>"
      ]
     },
     "metadata": {},
     "output_type": "display_data"
    },
    {
     "name": "stdout",
     "output_type": "stream",
     "text": [
      "------------------------------------------------------------\n",
      "\n",
      "[train] Training complete!\n",
      "[train] Final loss: 0.3971\n",
      "\n",
      "[save] Saving model to models/bert_original/best_model\n",
      "[save] Training history saved\n",
      "[save] Class weights saved\n",
      "[save] Training config saved\n",
      "[save] Dataset info saved\n",
      "\n",
      "============================================================\n",
      "TRAINING COMPLETE\n",
      "============================================================\n",
      "Model saved to: models/bert_original\n",
      "\n",
      "Best validation F1: 0.7637\n",
      "Training stopped at epoch: 4.0\n",
      "\n",
      "Original model saved to: models/bert_original\n"
     ]
    }
   ],
   "source": [
    "model_dir_original = train_bert(use_augmented=False)\n",
    "print(f\"Original model saved to: {model_dir_original}\")"
   ]
  },
  {
   "cell_type": "code",
   "execution_count": null,
   "metadata": {
    "id": "4me5e7e-DtT5"
   },
   "outputs": [],
   "source": []
  },
  {
   "cell_type": "code",
   "execution_count": 29,
   "metadata": {
    "colab": {
     "base_uri": "https://localhost:8080/",
     "height": 1000
    },
    "id": "cYTMX7zAEh0e",
    "outputId": "f93a77c0-e4b0-4609-9233-a2ea99a6750b"
   },
   "outputs": [
    {
     "name": "stdout",
     "output_type": "stream",
     "text": [
      "\n",
      "============================================================\n",
      "TRAINING ON AUGMENTED DATA\n",
      "============================================================\n",
      "[setup] Training samples: 22,263\n",
      "[setup] Validation samples: 3,718\n",
      "[setup] Output directory: models/bert_augmented\n",
      "\n",
      "[model] Loading BERT-base-uncased...\n"
     ]
    },
    {
     "name": "stderr",
     "output_type": "stream",
     "text": [
      "Some weights of BertForSequenceClassification were not initialized from the model checkpoint at bert-base-uncased and are newly initialized: ['classifier.bias', 'classifier.weight']\n",
      "You should probably TRAIN this model on a down-stream task to be able to use it for predictions and inference.\n"
     ]
    },
    {
     "name": "stdout",
     "output_type": "stream",
     "text": [
      "[model] Parameters: 109,484,547\n",
      "[model] Classifier layer initialized randomly (expected)\n",
      "\n",
      "[train] Training configuration:\n",
      "  Epochs: 4\n",
      "  Steps per epoch: 695\n",
      "  Total steps: 2780\n",
      "  Effective batch size: 32\n",
      "  Learning rate: 3e-05\n",
      "\n",
      "[train] Using class weights: [2.4711955 0.5524866 1.2733356]\n",
      "\n",
      "[train] Starting training\n",
      "------------------------------------------------------------\n"
     ]
    },
    {
     "data": {
      "text/html": [
       "\n",
       "    <div>\n",
       "      \n",
       "      <progress value='2784' max='2784' style='width:300px; height:20px; vertical-align: middle;'></progress>\n",
       "      [2784/2784 12:35, Epoch 4/4]\n",
       "    </div>\n",
       "    <table border=\"1\" class=\"dataframe\">\n",
       "  <thead>\n",
       " <tr style=\"text-align: left;\">\n",
       "      <th>Epoch</th>\n",
       "      <th>Training Loss</th>\n",
       "      <th>Validation Loss</th>\n",
       "      <th>Accuracy</th>\n",
       "      <th>F1 Macro</th>\n",
       "      <th>F1 Weighted</th>\n",
       "      <th>Hate Speech Precision</th>\n",
       "      <th>Hate Speech Recall</th>\n",
       "      <th>Hate Speech F1</th>\n",
       "      <th>Offensive Precision</th>\n",
       "      <th>Offensive Recall</th>\n",
       "      <th>Offensive F1</th>\n",
       "      <th>Neither Precision</th>\n",
       "      <th>Neither Recall</th>\n",
       "      <th>Neither F1</th>\n",
       "    </tr>\n",
       "  </thead>\n",
       "  <tbody>\n",
       "    <tr>\n",
       "      <td>1</td>\n",
       "      <td>0.405600</td>\n",
       "      <td>0.382379</td>\n",
       "      <td>0.893760</td>\n",
       "      <td>0.758213</td>\n",
       "      <td>0.900388</td>\n",
       "      <td>0.387622</td>\n",
       "      <td>0.553488</td>\n",
       "      <td>0.455939</td>\n",
       "      <td>0.968889</td>\n",
       "      <td>0.908649</td>\n",
       "      <td>0.937802</td>\n",
       "      <td>0.827004</td>\n",
       "      <td>0.942308</td>\n",
       "      <td>0.880899</td>\n",
       "    </tr>\n",
       "    <tr>\n",
       "      <td>2</td>\n",
       "      <td>0.245900</td>\n",
       "      <td>0.529157</td>\n",
       "      <td>0.901022</td>\n",
       "      <td>0.760615</td>\n",
       "      <td>0.904155</td>\n",
       "      <td>0.409091</td>\n",
       "      <td>0.502326</td>\n",
       "      <td>0.450939</td>\n",
       "      <td>0.946906</td>\n",
       "      <td>0.935394</td>\n",
       "      <td>0.941115</td>\n",
       "      <td>0.900000</td>\n",
       "      <td>0.879808</td>\n",
       "      <td>0.889789</td>\n",
       "    </tr>\n",
       "    <tr>\n",
       "      <td>3</td>\n",
       "      <td>0.135500</td>\n",
       "      <td>0.675929</td>\n",
       "      <td>0.906939</td>\n",
       "      <td>0.753195</td>\n",
       "      <td>0.905829</td>\n",
       "      <td>0.440000</td>\n",
       "      <td>0.409302</td>\n",
       "      <td>0.424096</td>\n",
       "      <td>0.941420</td>\n",
       "      <td>0.948941</td>\n",
       "      <td>0.945165</td>\n",
       "      <td>0.896104</td>\n",
       "      <td>0.884615</td>\n",
       "      <td>0.890323</td>\n",
       "    </tr>\n",
       "    <tr>\n",
       "      <td>4</td>\n",
       "      <td>0.050600</td>\n",
       "      <td>0.846072</td>\n",
       "      <td>0.903712</td>\n",
       "      <td>0.750012</td>\n",
       "      <td>0.903380</td>\n",
       "      <td>0.422535</td>\n",
       "      <td>0.418605</td>\n",
       "      <td>0.420561</td>\n",
       "      <td>0.938747</td>\n",
       "      <td>0.947551</td>\n",
       "      <td>0.943129</td>\n",
       "      <td>0.904841</td>\n",
       "      <td>0.868590</td>\n",
       "      <td>0.886345</td>\n",
       "    </tr>\n",
       "  </tbody>\n",
       "</table><p>"
      ],
      "text/plain": [
       "<IPython.core.display.HTML object>"
      ]
     },
     "metadata": {},
     "output_type": "display_data"
    },
    {
     "name": "stdout",
     "output_type": "stream",
     "text": [
      "------------------------------------------------------------\n",
      "\n",
      "[train] Training complete!\n",
      "[train] Final loss: 0.2646\n",
      "\n",
      "[save] Saving model to models/bert_augmented/best_model\n",
      "[save] Training history saved\n",
      "[save] Class weights saved\n",
      "[save] Training config saved\n",
      "[save] Dataset info saved\n",
      "\n",
      "============================================================\n",
      "TRAINING COMPLETE\n",
      "============================================================\n",
      "Model saved to: models/bert_augmented\n",
      "\n",
      "Best validation F1: 0.7606\n",
      "Training stopped at epoch: 4.0\n",
      "\n",
      "[complete] Augmented model saved to: models/bert_augmented\n"
     ]
    }
   ],
   "source": [
    "model_dir_augmented = train_bert(use_augmented=True)\n",
    "print(f\"\\n[complete] Augmented model saved to: {model_dir_augmented}\")"
   ]
  },
  {
   "cell_type": "code",
   "execution_count": null,
   "metadata": {
    "id": "OURJKei3Ehx3"
   },
   "outputs": [],
   "source": []
  },
  {
   "cell_type": "code",
   "execution_count": null,
   "metadata": {
    "id": "VkzdVxYMEhvG"
   },
   "outputs": [],
   "source": []
  },
  {
   "cell_type": "markdown",
   "metadata": {
    "id": "D_Gc8GUMEyj-"
   },
   "source": [
    "# Preparing the metrics for eval"
   ]
  },
  {
   "cell_type": "code",
   "execution_count": 30,
   "metadata": {
    "id": "GCZbKuTTEhsX"
   },
   "outputs": [],
   "source": [
    "Path('predictions/bert/bert_original').mkdir(parents=True, exist_ok=True)\n",
    "Path('predictions/bert/bert_augmented').mkdir(parents=True, exist_ok=True)"
   ]
  },
  {
   "cell_type": "code",
   "execution_count": 31,
   "metadata": {
    "id": "CsYRVZg3Ehpu"
   },
   "outputs": [],
   "source": [
    "def evaluate_and_save(model_name):\n",
    "    print(f\"\\n[eval] Processing {model_name}...\")\n",
    "\n",
    "    model_path = f\"models/{model_name}/best_model\"\n",
    "    output_dir = f\"predictions/bert/{model_name}\"\n",
    "\n",
    "    model = BertForSequenceClassification.from_pretrained(model_path)\n",
    "    tokenizer = BertTokenizer.from_pretrained(model_path)\n",
    "\n",
    "    args = TrainingArguments(\n",
    "        output_dir=output_dir,\n",
    "        per_device_eval_batch_size=32,\n",
    "        report_to='none',\n",
    "    )\n",
    "\n",
    "    trainer = Trainer(\n",
    "        model=model,\n",
    "        tokenizer=tokenizer,\n",
    "        compute_metrics=compute_metrics,\n",
    "        args=args,\n",
    "    )\n",
    "\n",
    "    # Val predictions\n",
    "    print(f\"Generating validation predictions...\")\n",
    "    val_output = trainer.predict(val_tok)\n",
    "    val_preds = np.argmax(val_output.predictions, axis=1)\n",
    "    val_probs = torch.softmax(torch.tensor(val_output.predictions), dim=-1).numpy()\n",
    "\n",
    "    val_predictions_df = pd.DataFrame({\n",
    "        'true_label': val_df['label'].values,\n",
    "        'predicted_label': val_preds,\n",
    "        'prob_hate': val_probs[:, 0],\n",
    "        'prob_offensive': val_probs[:, 1],\n",
    "        'prob_neither': val_probs[:, 2]\n",
    "    })\n",
    "    val_predictions_df.to_csv(f\"{output_dir}/val_predictions.csv\", index=False)\n",
    "\n",
    "    # Test precidions\n",
    "    print(f\"Generating test predictions...\")\n",
    "    test_output = trainer.predict(test_tok)\n",
    "    test_preds = np.argmax(test_output.predictions, axis=1)\n",
    "    test_probs = torch.softmax(torch.tensor(test_output.predictions), dim=-1).numpy()\n",
    "\n",
    "    test_predictions_df = pd.DataFrame({\n",
    "        'true_label': test_df['label'].values,\n",
    "        'predicted_label': test_preds,\n",
    "        'prob_hate': test_probs[:, 0],\n",
    "        'prob_offensive': test_probs[:, 1],\n",
    "        'prob_neither': test_probs[:, 2]\n",
    "    })\n",
    "    test_predictions_df.to_csv(f\"{output_dir}/test_predictions.csv\", index=False)\n",
    "\n",
    "    # Metrics\n",
    "    metrics = {\n",
    "        'val_metrics': val_output.metrics,\n",
    "        'test_metrics': test_output.metrics\n",
    "    }\n",
    "\n",
    "    metrics_df = pd.DataFrame([\n",
    "        {'split': 'validation', **val_output.metrics},\n",
    "        {'split': 'test', **test_output.metrics}\n",
    "    ])\n",
    "    metrics_df.to_csv(f\"{output_dir}/metrics.csv\", index=False)\n",
    "\n",
    "    print(f\"  Saved to {output_dir}/\")\n",
    "    return metrics\n"
   ]
  },
  {
   "cell_type": "code",
   "execution_count": 32,
   "metadata": {
    "colab": {
     "base_uri": "https://localhost:8080/",
     "height": 275
    },
    "id": "PB3y0He4QinC",
    "outputId": "9d187f5f-28cb-4d3c-e596-0c5823baf05f"
   },
   "outputs": [
    {
     "name": "stdout",
     "output_type": "stream",
     "text": [
      "\n",
      "[eval] Processing bert_original...\n"
     ]
    },
    {
     "name": "stderr",
     "output_type": "stream",
     "text": [
      "/tmp/ipython-input-624520785.py:21: FutureWarning: `tokenizer` is deprecated and will be removed in version 5.0.0 for `Trainer.__init__`. Use `processing_class` instead.\n",
      "  trainer = Trainer(\n"
     ]
    },
    {
     "name": "stdout",
     "output_type": "stream",
     "text": [
      "  Generating validation predictions...\n"
     ]
    },
    {
     "data": {
      "text/html": [],
      "text/plain": [
       "<IPython.core.display.HTML object>"
      ]
     },
     "metadata": {},
     "output_type": "display_data"
    },
    {
     "name": "stdout",
     "output_type": "stream",
     "text": [
      "  Generating test predictions...\n"
     ]
    },
    {
     "data": {
      "text/html": [],
      "text/plain": [
       "<IPython.core.display.HTML object>"
      ]
     },
     "metadata": {},
     "output_type": "display_data"
    },
    {
     "name": "stdout",
     "output_type": "stream",
     "text": [
      "  Saved to predictions/bert/bert_original/\n",
      "\n",
      "[eval] Processing bert_augmented...\n"
     ]
    },
    {
     "name": "stderr",
     "output_type": "stream",
     "text": [
      "/tmp/ipython-input-624520785.py:21: FutureWarning: `tokenizer` is deprecated and will be removed in version 5.0.0 for `Trainer.__init__`. Use `processing_class` instead.\n",
      "  trainer = Trainer(\n"
     ]
    },
    {
     "name": "stdout",
     "output_type": "stream",
     "text": [
      "  Generating validation predictions...\n"
     ]
    },
    {
     "data": {
      "text/html": [],
      "text/plain": [
       "<IPython.core.display.HTML object>"
      ]
     },
     "metadata": {},
     "output_type": "display_data"
    },
    {
     "name": "stdout",
     "output_type": "stream",
     "text": [
      "  Generating test predictions...\n"
     ]
    },
    {
     "data": {
      "text/html": [],
      "text/plain": [
       "<IPython.core.display.HTML object>"
      ]
     },
     "metadata": {},
     "output_type": "display_data"
    },
    {
     "name": "stdout",
     "output_type": "stream",
     "text": [
      "  Saved to predictions/bert/bert_augmented/\n"
     ]
    }
   ],
   "source": [
    "metrics_orig = evaluate_and_save('bert_original')\n",
    "metrics_aug = evaluate_and_save('bert_augmented')"
   ]
  }
 ],
 "metadata": {
  "accelerator": "GPU",
  "colab": {
   "gpuType": "T4",
   "provenance": []
  },
  "kernelspec": {
   "display_name": "Python 3 (ipykernel)",
   "language": "python",
   "name": "python3"
  },
  "language_info": {
   "codemirror_mode": {
    "name": "ipython",
    "version": 3
   },
   "file_extension": ".py",
   "mimetype": "text/x-python",
   "name": "python",
   "nbconvert_exporter": "python",
   "pygments_lexer": "ipython3",
   "version": "3.13.2"
  },
  "widgets": {
   "application/vnd.jupyter.widget-state+json": {
    "01f108f9e049429faac90eaba926b5d0": {
     "model_module": "@jupyter-widgets/base",
     "model_module_version": "1.2.0",
     "model_name": "LayoutModel",
     "state": {
      "_model_module": "@jupyter-widgets/base",
      "_model_module_version": "1.2.0",
      "_model_name": "LayoutModel",
      "_view_count": null,
      "_view_module": "@jupyter-widgets/base",
      "_view_module_version": "1.2.0",
      "_view_name": "LayoutView",
      "align_content": null,
      "align_items": null,
      "align_self": null,
      "border": null,
      "bottom": null,
      "display": null,
      "flex": null,
      "flex_flow": null,
      "grid_area": null,
      "grid_auto_columns": null,
      "grid_auto_flow": null,
      "grid_auto_rows": null,
      "grid_column": null,
      "grid_gap": null,
      "grid_row": null,
      "grid_template_areas": null,
      "grid_template_columns": null,
      "grid_template_rows": null,
      "height": null,
      "justify_content": null,
      "justify_items": null,
      "left": null,
      "margin": null,
      "max_height": null,
      "max_width": null,
      "min_height": null,
      "min_width": null,
      "object_fit": null,
      "object_position": null,
      "order": null,
      "overflow": null,
      "overflow_x": null,
      "overflow_y": null,
      "padding": null,
      "right": null,
      "top": null,
      "visibility": null,
      "width": null
     }
    },
    "0745a6c363ae4e40bc141c00d22b5c60": {
     "model_module": "@jupyter-widgets/controls",
     "model_module_version": "1.5.0",
     "model_name": "DescriptionStyleModel",
     "state": {
      "_model_module": "@jupyter-widgets/controls",
      "_model_module_version": "1.5.0",
      "_model_name": "DescriptionStyleModel",
      "_view_count": null,
      "_view_module": "@jupyter-widgets/base",
      "_view_module_version": "1.2.0",
      "_view_name": "StyleView",
      "description_width": ""
     }
    },
    "07add0f5d9da4e1fbe27ae9bfd95ed52": {
     "model_module": "@jupyter-widgets/controls",
     "model_module_version": "1.5.0",
     "model_name": "FloatProgressModel",
     "state": {
      "_dom_classes": [],
      "_model_module": "@jupyter-widgets/controls",
      "_model_module_version": "1.5.0",
      "_model_name": "FloatProgressModel",
      "_view_count": null,
      "_view_module": "@jupyter-widgets/controls",
      "_view_module_version": "1.5.0",
      "_view_name": "ProgressView",
      "bar_style": "success",
      "description": "",
      "description_tooltip": null,
      "layout": "IPY_MODEL_cf590335a2f948d2aaee096f8e6df0f3",
      "max": 440449768,
      "min": 0,
      "orientation": "horizontal",
      "style": "IPY_MODEL_3aafb460c150472ab2779d2190e57d7f",
      "value": 440449768
     }
    },
    "07c2a35cd3f84bd6a26d940074619d14": {
     "model_module": "@jupyter-widgets/controls",
     "model_module_version": "1.5.0",
     "model_name": "HBoxModel",
     "state": {
      "_dom_classes": [],
      "_model_module": "@jupyter-widgets/controls",
      "_model_module_version": "1.5.0",
      "_model_name": "HBoxModel",
      "_view_count": null,
      "_view_module": "@jupyter-widgets/controls",
      "_view_module_version": "1.5.0",
      "_view_name": "HBoxView",
      "box_style": "",
      "children": [
       "IPY_MODEL_f96bfe9a15194f55a080acd2213c84c5",
       "IPY_MODEL_c08f27386cf94df7a33b85d341ed93e3",
       "IPY_MODEL_6878f888ee094bf883c7bdf883a1ae54"
      ],
      "layout": "IPY_MODEL_76693596ba234f349656c92b20b8f2a1"
     }
    },
    "0afb27ebf2f7489eafa83fc6aa4b2a1a": {
     "model_module": "@jupyter-widgets/controls",
     "model_module_version": "1.5.0",
     "model_name": "DescriptionStyleModel",
     "state": {
      "_model_module": "@jupyter-widgets/controls",
      "_model_module_version": "1.5.0",
      "_model_name": "DescriptionStyleModel",
      "_view_count": null,
      "_view_module": "@jupyter-widgets/base",
      "_view_module_version": "1.2.0",
      "_view_name": "StyleView",
      "description_width": ""
     }
    },
    "0b42bddaa782460ba0f1a0489c3cddb0": {
     "model_module": "@jupyter-widgets/controls",
     "model_module_version": "1.5.0",
     "model_name": "FloatProgressModel",
     "state": {
      "_dom_classes": [],
      "_model_module": "@jupyter-widgets/controls",
      "_model_module_version": "1.5.0",
      "_model_name": "FloatProgressModel",
      "_view_count": null,
      "_view_module": "@jupyter-widgets/controls",
      "_view_module_version": "1.5.0",
      "_view_name": "ProgressView",
      "bar_style": "success",
      "description": "",
      "description_tooltip": null,
      "layout": "IPY_MODEL_9ddf88c26ecd4ec098d650909b131a96",
      "max": 3718,
      "min": 0,
      "orientation": "horizontal",
      "style": "IPY_MODEL_6cde0dd0c48c43a9a0c8358f640c079f",
      "value": 3718
     }
    },
    "10de4a10757f415c8dff591e467dc441": {
     "model_module": "@jupyter-widgets/base",
     "model_module_version": "1.2.0",
     "model_name": "LayoutModel",
     "state": {
      "_model_module": "@jupyter-widgets/base",
      "_model_module_version": "1.2.0",
      "_model_name": "LayoutModel",
      "_view_count": null,
      "_view_module": "@jupyter-widgets/base",
      "_view_module_version": "1.2.0",
      "_view_name": "LayoutView",
      "align_content": null,
      "align_items": null,
      "align_self": null,
      "border": null,
      "bottom": null,
      "display": null,
      "flex": null,
      "flex_flow": null,
      "grid_area": null,
      "grid_auto_columns": null,
      "grid_auto_flow": null,
      "grid_auto_rows": null,
      "grid_column": null,
      "grid_gap": null,
      "grid_row": null,
      "grid_template_areas": null,
      "grid_template_columns": null,
      "grid_template_rows": null,
      "height": null,
      "justify_content": null,
      "justify_items": null,
      "left": null,
      "margin": null,
      "max_height": null,
      "max_width": null,
      "min_height": null,
      "min_width": null,
      "object_fit": null,
      "object_position": null,
      "order": null,
      "overflow": null,
      "overflow_x": null,
      "overflow_y": null,
      "padding": null,
      "right": null,
      "top": null,
      "visibility": null,
      "width": null
     }
    },
    "13cc7dedb49a46c7a8816302d15a41de": {
     "model_module": "@jupyter-widgets/base",
     "model_module_version": "1.2.0",
     "model_name": "LayoutModel",
     "state": {
      "_model_module": "@jupyter-widgets/base",
      "_model_module_version": "1.2.0",
      "_model_name": "LayoutModel",
      "_view_count": null,
      "_view_module": "@jupyter-widgets/base",
      "_view_module_version": "1.2.0",
      "_view_name": "LayoutView",
      "align_content": null,
      "align_items": null,
      "align_self": null,
      "border": null,
      "bottom": null,
      "display": null,
      "flex": null,
      "flex_flow": null,
      "grid_area": null,
      "grid_auto_columns": null,
      "grid_auto_flow": null,
      "grid_auto_rows": null,
      "grid_column": null,
      "grid_gap": null,
      "grid_row": null,
      "grid_template_areas": null,
      "grid_template_columns": null,
      "grid_template_rows": null,
      "height": null,
      "justify_content": null,
      "justify_items": null,
      "left": null,
      "margin": null,
      "max_height": null,
      "max_width": null,
      "min_height": null,
      "min_width": null,
      "object_fit": null,
      "object_position": null,
      "order": null,
      "overflow": null,
      "overflow_x": null,
      "overflow_y": null,
      "padding": null,
      "right": null,
      "top": null,
      "visibility": null,
      "width": null
     }
    },
    "155762e5ce0a47d886294839dacb7797": {
     "model_module": "@jupyter-widgets/base",
     "model_module_version": "1.2.0",
     "model_name": "LayoutModel",
     "state": {
      "_model_module": "@jupyter-widgets/base",
      "_model_module_version": "1.2.0",
      "_model_name": "LayoutModel",
      "_view_count": null,
      "_view_module": "@jupyter-widgets/base",
      "_view_module_version": "1.2.0",
      "_view_name": "LayoutView",
      "align_content": null,
      "align_items": null,
      "align_self": null,
      "border": null,
      "bottom": null,
      "display": null,
      "flex": null,
      "flex_flow": null,
      "grid_area": null,
      "grid_auto_columns": null,
      "grid_auto_flow": null,
      "grid_auto_rows": null,
      "grid_column": null,
      "grid_gap": null,
      "grid_row": null,
      "grid_template_areas": null,
      "grid_template_columns": null,
      "grid_template_rows": null,
      "height": null,
      "justify_content": null,
      "justify_items": null,
      "left": null,
      "margin": null,
      "max_height": null,
      "max_width": null,
      "min_height": null,
      "min_width": null,
      "object_fit": null,
      "object_position": null,
      "order": null,
      "overflow": null,
      "overflow_x": null,
      "overflow_y": null,
      "padding": null,
      "right": null,
      "top": null,
      "visibility": null,
      "width": null
     }
    },
    "19061f36056c4fc395d0b0ff5801193f": {
     "model_module": "@jupyter-widgets/controls",
     "model_module_version": "1.5.0",
     "model_name": "HTMLModel",
     "state": {
      "_dom_classes": [],
      "_model_module": "@jupyter-widgets/controls",
      "_model_module_version": "1.5.0",
      "_model_name": "HTMLModel",
      "_view_count": null,
      "_view_module": "@jupyter-widgets/controls",
      "_view_module_version": "1.5.0",
      "_view_name": "HTMLView",
      "description": "",
      "description_tooltip": null,
      "layout": "IPY_MODEL_fa569dd0d06d4157bee7b244256f8a93",
      "placeholder": "​",
      "style": "IPY_MODEL_0afb27ebf2f7489eafa83fc6aa4b2a1a",
      "value": " 3718/3718 [00:01&lt;00:00, 2679.56 examples/s]"
     }
    },
    "199d532cc8dd4777a660abdd79b8fa69": {
     "model_module": "@jupyter-widgets/base",
     "model_module_version": "1.2.0",
     "model_name": "LayoutModel",
     "state": {
      "_model_module": "@jupyter-widgets/base",
      "_model_module_version": "1.2.0",
      "_model_name": "LayoutModel",
      "_view_count": null,
      "_view_module": "@jupyter-widgets/base",
      "_view_module_version": "1.2.0",
      "_view_name": "LayoutView",
      "align_content": null,
      "align_items": null,
      "align_self": null,
      "border": null,
      "bottom": null,
      "display": null,
      "flex": null,
      "flex_flow": null,
      "grid_area": null,
      "grid_auto_columns": null,
      "grid_auto_flow": null,
      "grid_auto_rows": null,
      "grid_column": null,
      "grid_gap": null,
      "grid_row": null,
      "grid_template_areas": null,
      "grid_template_columns": null,
      "grid_template_rows": null,
      "height": null,
      "justify_content": null,
      "justify_items": null,
      "left": null,
      "margin": null,
      "max_height": null,
      "max_width": null,
      "min_height": null,
      "min_width": null,
      "object_fit": null,
      "object_position": null,
      "order": null,
      "overflow": null,
      "overflow_x": null,
      "overflow_y": null,
      "padding": null,
      "right": null,
      "top": null,
      "visibility": null,
      "width": null
     }
    },
    "1f1410f047a847e387a9d17be3364a24": {
     "model_module": "@jupyter-widgets/base",
     "model_module_version": "1.2.0",
     "model_name": "LayoutModel",
     "state": {
      "_model_module": "@jupyter-widgets/base",
      "_model_module_version": "1.2.0",
      "_model_name": "LayoutModel",
      "_view_count": null,
      "_view_module": "@jupyter-widgets/base",
      "_view_module_version": "1.2.0",
      "_view_name": "LayoutView",
      "align_content": null,
      "align_items": null,
      "align_self": null,
      "border": null,
      "bottom": null,
      "display": null,
      "flex": null,
      "flex_flow": null,
      "grid_area": null,
      "grid_auto_columns": null,
      "grid_auto_flow": null,
      "grid_auto_rows": null,
      "grid_column": null,
      "grid_gap": null,
      "grid_row": null,
      "grid_template_areas": null,
      "grid_template_columns": null,
      "grid_template_rows": null,
      "height": null,
      "justify_content": null,
      "justify_items": null,
      "left": null,
      "margin": null,
      "max_height": null,
      "max_width": null,
      "min_height": null,
      "min_width": null,
      "object_fit": null,
      "object_position": null,
      "order": null,
      "overflow": null,
      "overflow_x": null,
      "overflow_y": null,
      "padding": null,
      "right": null,
      "top": null,
      "visibility": null,
      "width": null
     }
    },
    "22cccf8a8b6b4557a01edc2fcc32503f": {
     "model_module": "@jupyter-widgets/controls",
     "model_module_version": "1.5.0",
     "model_name": "FloatProgressModel",
     "state": {
      "_dom_classes": [],
      "_model_module": "@jupyter-widgets/controls",
      "_model_module_version": "1.5.0",
      "_model_name": "FloatProgressModel",
      "_view_count": null,
      "_view_module": "@jupyter-widgets/controls",
      "_view_module_version": "1.5.0",
      "_view_name": "ProgressView",
      "bar_style": "success",
      "description": "",
      "description_tooltip": null,
      "layout": "IPY_MODEL_7f6d2b9a85fc4fc18693bf521de8089f",
      "max": 22263,
      "min": 0,
      "orientation": "horizontal",
      "style": "IPY_MODEL_dd6ff3d8d59f41f1910e76f7e1cc4bb6",
      "value": 22263
     }
    },
    "2bb59ce88df14f6e98faa69d0e7a199c": {
     "model_module": "@jupyter-widgets/controls",
     "model_module_version": "1.5.0",
     "model_name": "HTMLModel",
     "state": {
      "_dom_classes": [],
      "_model_module": "@jupyter-widgets/controls",
      "_model_module_version": "1.5.0",
      "_model_name": "HTMLModel",
      "_view_count": null,
      "_view_module": "@jupyter-widgets/controls",
      "_view_module_version": "1.5.0",
      "_view_name": "HTMLView",
      "description": "",
      "description_tooltip": null,
      "layout": "IPY_MODEL_a7e20c3f556e4178a3a20ca0b1e785ab",
      "placeholder": "​",
      "style": "IPY_MODEL_a8d0183deb0449e18910520d5622d46c",
      "value": " 22263/22263 [00:09&lt;00:00, 2322.37 examples/s]"
     }
    },
    "32e3be065aaa4d0193be9874fc344560": {
     "model_module": "@jupyter-widgets/controls",
     "model_module_version": "1.5.0",
     "model_name": "FloatProgressModel",
     "state": {
      "_dom_classes": [],
      "_model_module": "@jupyter-widgets/controls",
      "_model_module_version": "1.5.0",
      "_model_name": "FloatProgressModel",
      "_view_count": null,
      "_view_module": "@jupyter-widgets/controls",
      "_view_module_version": "1.5.0",
      "_view_name": "ProgressView",
      "bar_style": "success",
      "description": "",
      "description_tooltip": null,
      "layout": "IPY_MODEL_a5ea94ab27d5419f9765657688498392",
      "max": 570,
      "min": 0,
      "orientation": "horizontal",
      "style": "IPY_MODEL_6c161213d15b455783e271f565b97c35",
      "value": 570
     }
    },
    "353b38b41dbc41edb2fd84a7c0c8d8f6": {
     "model_module": "@jupyter-widgets/controls",
     "model_module_version": "1.5.0",
     "model_name": "HTMLModel",
     "state": {
      "_dom_classes": [],
      "_model_module": "@jupyter-widgets/controls",
      "_model_module_version": "1.5.0",
      "_model_name": "HTMLModel",
      "_view_count": null,
      "_view_module": "@jupyter-widgets/controls",
      "_view_module_version": "1.5.0",
      "_view_name": "HTMLView",
      "description": "",
      "description_tooltip": null,
      "layout": "IPY_MODEL_f58465a569a24501be09d7731ee28632",
      "placeholder": "​",
      "style": "IPY_MODEL_0745a6c363ae4e40bc141c00d22b5c60",
      "value": " 466k/466k [00:00&lt;00:00, 7.37MB/s]"
     }
    },
    "3589984cd8e14d8ba0f19c924407ab95": {
     "model_module": "@jupyter-widgets/controls",
     "model_module_version": "1.5.0",
     "model_name": "HBoxModel",
     "state": {
      "_dom_classes": [],
      "_model_module": "@jupyter-widgets/controls",
      "_model_module_version": "1.5.0",
      "_model_name": "HBoxModel",
      "_view_count": null,
      "_view_module": "@jupyter-widgets/controls",
      "_view_module_version": "1.5.0",
      "_view_name": "HBoxView",
      "box_style": "",
      "children": [
       "IPY_MODEL_389801a4bdcc44eda133f66c70728af8",
       "IPY_MODEL_0b42bddaa782460ba0f1a0489c3cddb0",
       "IPY_MODEL_19061f36056c4fc395d0b0ff5801193f"
      ],
      "layout": "IPY_MODEL_10de4a10757f415c8dff591e467dc441"
     }
    },
    "389801a4bdcc44eda133f66c70728af8": {
     "model_module": "@jupyter-widgets/controls",
     "model_module_version": "1.5.0",
     "model_name": "HTMLModel",
     "state": {
      "_dom_classes": [],
      "_model_module": "@jupyter-widgets/controls",
      "_model_module_version": "1.5.0",
      "_model_name": "HTMLModel",
      "_view_count": null,
      "_view_module": "@jupyter-widgets/controls",
      "_view_module_version": "1.5.0",
      "_view_name": "HTMLView",
      "description": "",
      "description_tooltip": null,
      "layout": "IPY_MODEL_bec4ecc6a157476f8a7dc028d9ef5716",
      "placeholder": "​",
      "style": "IPY_MODEL_7026c80e917f4f19b365710d679eb3c9",
      "value": "Tokenizing validation: 100%"
     }
    },
    "38f4b52da4d540ae8692839147a54d07": {
     "model_module": "@jupyter-widgets/controls",
     "model_module_version": "1.5.0",
     "model_name": "HTMLModel",
     "state": {
      "_dom_classes": [],
      "_model_module": "@jupyter-widgets/controls",
      "_model_module_version": "1.5.0",
      "_model_name": "HTMLModel",
      "_view_count": null,
      "_view_module": "@jupyter-widgets/controls",
      "_view_module_version": "1.5.0",
      "_view_name": "HTMLView",
      "description": "",
      "description_tooltip": null,
      "layout": "IPY_MODEL_1f1410f047a847e387a9d17be3364a24",
      "placeholder": "​",
      "style": "IPY_MODEL_ed7198e6d44b422abdb05b0047866b6e",
      "value": " 570/570 [00:00&lt;00:00, 9.46kB/s]"
     }
    },
    "3aafb460c150472ab2779d2190e57d7f": {
     "model_module": "@jupyter-widgets/controls",
     "model_module_version": "1.5.0",
     "model_name": "ProgressStyleModel",
     "state": {
      "_model_module": "@jupyter-widgets/controls",
      "_model_module_version": "1.5.0",
      "_model_name": "ProgressStyleModel",
      "_view_count": null,
      "_view_module": "@jupyter-widgets/base",
      "_view_module_version": "1.2.0",
      "_view_name": "StyleView",
      "bar_color": null,
      "description_width": ""
     }
    },
    "3f6b07ac91ee4ad8a8a814d22b5cbeaf": {
     "model_module": "@jupyter-widgets/controls",
     "model_module_version": "1.5.0",
     "model_name": "DescriptionStyleModel",
     "state": {
      "_model_module": "@jupyter-widgets/controls",
      "_model_module_version": "1.5.0",
      "_model_name": "DescriptionStyleModel",
      "_view_count": null,
      "_view_module": "@jupyter-widgets/base",
      "_view_module_version": "1.2.0",
      "_view_name": "StyleView",
      "description_width": ""
     }
    },
    "3f7d53e52d79401db484e6489be1ee2f": {
     "model_module": "@jupyter-widgets/base",
     "model_module_version": "1.2.0",
     "model_name": "LayoutModel",
     "state": {
      "_model_module": "@jupyter-widgets/base",
      "_model_module_version": "1.2.0",
      "_model_name": "LayoutModel",
      "_view_count": null,
      "_view_module": "@jupyter-widgets/base",
      "_view_module_version": "1.2.0",
      "_view_name": "LayoutView",
      "align_content": null,
      "align_items": null,
      "align_self": null,
      "border": null,
      "bottom": null,
      "display": null,
      "flex": null,
      "flex_flow": null,
      "grid_area": null,
      "grid_auto_columns": null,
      "grid_auto_flow": null,
      "grid_auto_rows": null,
      "grid_column": null,
      "grid_gap": null,
      "grid_row": null,
      "grid_template_areas": null,
      "grid_template_columns": null,
      "grid_template_rows": null,
      "height": null,
      "justify_content": null,
      "justify_items": null,
      "left": null,
      "margin": null,
      "max_height": null,
      "max_width": null,
      "min_height": null,
      "min_width": null,
      "object_fit": null,
      "object_position": null,
      "order": null,
      "overflow": null,
      "overflow_x": null,
      "overflow_y": null,
      "padding": null,
      "right": null,
      "top": null,
      "visibility": null,
      "width": null
     }
    },
    "4252043899794baf8b5dbc7b6a401dc5": {
     "model_module": "@jupyter-widgets/base",
     "model_module_version": "1.2.0",
     "model_name": "LayoutModel",
     "state": {
      "_model_module": "@jupyter-widgets/base",
      "_model_module_version": "1.2.0",
      "_model_name": "LayoutModel",
      "_view_count": null,
      "_view_module": "@jupyter-widgets/base",
      "_view_module_version": "1.2.0",
      "_view_name": "LayoutView",
      "align_content": null,
      "align_items": null,
      "align_self": null,
      "border": null,
      "bottom": null,
      "display": null,
      "flex": null,
      "flex_flow": null,
      "grid_area": null,
      "grid_auto_columns": null,
      "grid_auto_flow": null,
      "grid_auto_rows": null,
      "grid_column": null,
      "grid_gap": null,
      "grid_row": null,
      "grid_template_areas": null,
      "grid_template_columns": null,
      "grid_template_rows": null,
      "height": null,
      "justify_content": null,
      "justify_items": null,
      "left": null,
      "margin": null,
      "max_height": null,
      "max_width": null,
      "min_height": null,
      "min_width": null,
      "object_fit": null,
      "object_position": null,
      "order": null,
      "overflow": null,
      "overflow_x": null,
      "overflow_y": null,
      "padding": null,
      "right": null,
      "top": null,
      "visibility": null,
      "width": null
     }
    },
    "493b4d57fd394c9f950d318d958bd076": {
     "model_module": "@jupyter-widgets/base",
     "model_module_version": "1.2.0",
     "model_name": "LayoutModel",
     "state": {
      "_model_module": "@jupyter-widgets/base",
      "_model_module_version": "1.2.0",
      "_model_name": "LayoutModel",
      "_view_count": null,
      "_view_module": "@jupyter-widgets/base",
      "_view_module_version": "1.2.0",
      "_view_name": "LayoutView",
      "align_content": null,
      "align_items": null,
      "align_self": null,
      "border": null,
      "bottom": null,
      "display": null,
      "flex": null,
      "flex_flow": null,
      "grid_area": null,
      "grid_auto_columns": null,
      "grid_auto_flow": null,
      "grid_auto_rows": null,
      "grid_column": null,
      "grid_gap": null,
      "grid_row": null,
      "grid_template_areas": null,
      "grid_template_columns": null,
      "grid_template_rows": null,
      "height": null,
      "justify_content": null,
      "justify_items": null,
      "left": null,
      "margin": null,
      "max_height": null,
      "max_width": null,
      "min_height": null,
      "min_width": null,
      "object_fit": null,
      "object_position": null,
      "order": null,
      "overflow": null,
      "overflow_x": null,
      "overflow_y": null,
      "padding": null,
      "right": null,
      "top": null,
      "visibility": null,
      "width": null
     }
    },
    "49ac5b05a40149b584aba325f9c980e4": {
     "model_module": "@jupyter-widgets/controls",
     "model_module_version": "1.5.0",
     "model_name": "HTMLModel",
     "state": {
      "_dom_classes": [],
      "_model_module": "@jupyter-widgets/controls",
      "_model_module_version": "1.5.0",
      "_model_name": "HTMLModel",
      "_view_count": null,
      "_view_module": "@jupyter-widgets/controls",
      "_view_module_version": "1.5.0",
      "_view_name": "HTMLView",
      "description": "",
      "description_tooltip": null,
      "layout": "IPY_MODEL_5606ad61753c403f94d20d87d30fb0df",
      "placeholder": "​",
      "style": "IPY_MODEL_e12c4154fb644a31a5f7444a3339bfee",
      "value": "model.safetensors: 100%"
     }
    },
    "4a57f533ba0c4e4c8dae313a6010a495": {
     "model_module": "@jupyter-widgets/base",
     "model_module_version": "1.2.0",
     "model_name": "LayoutModel",
     "state": {
      "_model_module": "@jupyter-widgets/base",
      "_model_module_version": "1.2.0",
      "_model_name": "LayoutModel",
      "_view_count": null,
      "_view_module": "@jupyter-widgets/base",
      "_view_module_version": "1.2.0",
      "_view_name": "LayoutView",
      "align_content": null,
      "align_items": null,
      "align_self": null,
      "border": null,
      "bottom": null,
      "display": null,
      "flex": null,
      "flex_flow": null,
      "grid_area": null,
      "grid_auto_columns": null,
      "grid_auto_flow": null,
      "grid_auto_rows": null,
      "grid_column": null,
      "grid_gap": null,
      "grid_row": null,
      "grid_template_areas": null,
      "grid_template_columns": null,
      "grid_template_rows": null,
      "height": null,
      "justify_content": null,
      "justify_items": null,
      "left": null,
      "margin": null,
      "max_height": null,
      "max_width": null,
      "min_height": null,
      "min_width": null,
      "object_fit": null,
      "object_position": null,
      "order": null,
      "overflow": null,
      "overflow_x": null,
      "overflow_y": null,
      "padding": null,
      "right": null,
      "top": null,
      "visibility": null,
      "width": null
     }
    },
    "5606ad61753c403f94d20d87d30fb0df": {
     "model_module": "@jupyter-widgets/base",
     "model_module_version": "1.2.0",
     "model_name": "LayoutModel",
     "state": {
      "_model_module": "@jupyter-widgets/base",
      "_model_module_version": "1.2.0",
      "_model_name": "LayoutModel",
      "_view_count": null,
      "_view_module": "@jupyter-widgets/base",
      "_view_module_version": "1.2.0",
      "_view_name": "LayoutView",
      "align_content": null,
      "align_items": null,
      "align_self": null,
      "border": null,
      "bottom": null,
      "display": null,
      "flex": null,
      "flex_flow": null,
      "grid_area": null,
      "grid_auto_columns": null,
      "grid_auto_flow": null,
      "grid_auto_rows": null,
      "grid_column": null,
      "grid_gap": null,
      "grid_row": null,
      "grid_template_areas": null,
      "grid_template_columns": null,
      "grid_template_rows": null,
      "height": null,
      "justify_content": null,
      "justify_items": null,
      "left": null,
      "margin": null,
      "max_height": null,
      "max_width": null,
      "min_height": null,
      "min_width": null,
      "object_fit": null,
      "object_position": null,
      "order": null,
      "overflow": null,
      "overflow_x": null,
      "overflow_y": null,
      "padding": null,
      "right": null,
      "top": null,
      "visibility": null,
      "width": null
     }
    },
    "59402b4125b5452c9952e0c7cb0ec35e": {
     "model_module": "@jupyter-widgets/controls",
     "model_module_version": "1.5.0",
     "model_name": "HBoxModel",
     "state": {
      "_dom_classes": [],
      "_model_module": "@jupyter-widgets/controls",
      "_model_module_version": "1.5.0",
      "_model_name": "HBoxModel",
      "_view_count": null,
      "_view_module": "@jupyter-widgets/controls",
      "_view_module_version": "1.5.0",
      "_view_name": "HBoxView",
      "box_style": "",
      "children": [
       "IPY_MODEL_962797688447411891ac67d15ade8524",
       "IPY_MODEL_8b57f8226e3143e483a4dea3117cd6a2",
       "IPY_MODEL_a3297799a0574661b069626bbd51a655"
      ],
      "layout": "IPY_MODEL_a91ca653a1f94999a7ed126fb6ba45d7"
     }
    },
    "5c468f2e9ff948edb69a4ef08b368b47": {
     "model_module": "@jupyter-widgets/base",
     "model_module_version": "1.2.0",
     "model_name": "LayoutModel",
     "state": {
      "_model_module": "@jupyter-widgets/base",
      "_model_module_version": "1.2.0",
      "_model_name": "LayoutModel",
      "_view_count": null,
      "_view_module": "@jupyter-widgets/base",
      "_view_module_version": "1.2.0",
      "_view_name": "LayoutView",
      "align_content": null,
      "align_items": null,
      "align_self": null,
      "border": null,
      "bottom": null,
      "display": null,
      "flex": null,
      "flex_flow": null,
      "grid_area": null,
      "grid_auto_columns": null,
      "grid_auto_flow": null,
      "grid_auto_rows": null,
      "grid_column": null,
      "grid_gap": null,
      "grid_row": null,
      "grid_template_areas": null,
      "grid_template_columns": null,
      "grid_template_rows": null,
      "height": null,
      "justify_content": null,
      "justify_items": null,
      "left": null,
      "margin": null,
      "max_height": null,
      "max_width": null,
      "min_height": null,
      "min_width": null,
      "object_fit": null,
      "object_position": null,
      "order": null,
      "overflow": null,
      "overflow_x": null,
      "overflow_y": null,
      "padding": null,
      "right": null,
      "top": null,
      "visibility": null,
      "width": null
     }
    },
    "5d3dc9c9f5de4207813329d43df62727": {
     "model_module": "@jupyter-widgets/base",
     "model_module_version": "1.2.0",
     "model_name": "LayoutModel",
     "state": {
      "_model_module": "@jupyter-widgets/base",
      "_model_module_version": "1.2.0",
      "_model_name": "LayoutModel",
      "_view_count": null,
      "_view_module": "@jupyter-widgets/base",
      "_view_module_version": "1.2.0",
      "_view_name": "LayoutView",
      "align_content": null,
      "align_items": null,
      "align_self": null,
      "border": null,
      "bottom": null,
      "display": null,
      "flex": null,
      "flex_flow": null,
      "grid_area": null,
      "grid_auto_columns": null,
      "grid_auto_flow": null,
      "grid_auto_rows": null,
      "grid_column": null,
      "grid_gap": null,
      "grid_row": null,
      "grid_template_areas": null,
      "grid_template_columns": null,
      "grid_template_rows": null,
      "height": null,
      "justify_content": null,
      "justify_items": null,
      "left": null,
      "margin": null,
      "max_height": null,
      "max_width": null,
      "min_height": null,
      "min_width": null,
      "object_fit": null,
      "object_position": null,
      "order": null,
      "overflow": null,
      "overflow_x": null,
      "overflow_y": null,
      "padding": null,
      "right": null,
      "top": null,
      "visibility": null,
      "width": null
     }
    },
    "5dced133cb99471da207a07143013d77": {
     "model_module": "@jupyter-widgets/base",
     "model_module_version": "1.2.0",
     "model_name": "LayoutModel",
     "state": {
      "_model_module": "@jupyter-widgets/base",
      "_model_module_version": "1.2.0",
      "_model_name": "LayoutModel",
      "_view_count": null,
      "_view_module": "@jupyter-widgets/base",
      "_view_module_version": "1.2.0",
      "_view_name": "LayoutView",
      "align_content": null,
      "align_items": null,
      "align_self": null,
      "border": null,
      "bottom": null,
      "display": null,
      "flex": null,
      "flex_flow": null,
      "grid_area": null,
      "grid_auto_columns": null,
      "grid_auto_flow": null,
      "grid_auto_rows": null,
      "grid_column": null,
      "grid_gap": null,
      "grid_row": null,
      "grid_template_areas": null,
      "grid_template_columns": null,
      "grid_template_rows": null,
      "height": null,
      "justify_content": null,
      "justify_items": null,
      "left": null,
      "margin": null,
      "max_height": null,
      "max_width": null,
      "min_height": null,
      "min_width": null,
      "object_fit": null,
      "object_position": null,
      "order": null,
      "overflow": null,
      "overflow_x": null,
      "overflow_y": null,
      "padding": null,
      "right": null,
      "top": null,
      "visibility": null,
      "width": null
     }
    },
    "61f798f0b2144d82850d775d579ae132": {
     "model_module": "@jupyter-widgets/controls",
     "model_module_version": "1.5.0",
     "model_name": "HTMLModel",
     "state": {
      "_dom_classes": [],
      "_model_module": "@jupyter-widgets/controls",
      "_model_module_version": "1.5.0",
      "_model_name": "HTMLModel",
      "_view_count": null,
      "_view_module": "@jupyter-widgets/controls",
      "_view_module_version": "1.5.0",
      "_view_name": "HTMLView",
      "description": "",
      "description_tooltip": null,
      "layout": "IPY_MODEL_e349990026554b5788f97ddc75127d67",
      "placeholder": "​",
      "style": "IPY_MODEL_63c493231f904152ad4d38fce9cbe503",
      "value": "tokenizer.json: 100%"
     }
    },
    "63c493231f904152ad4d38fce9cbe503": {
     "model_module": "@jupyter-widgets/controls",
     "model_module_version": "1.5.0",
     "model_name": "DescriptionStyleModel",
     "state": {
      "_model_module": "@jupyter-widgets/controls",
      "_model_module_version": "1.5.0",
      "_model_name": "DescriptionStyleModel",
      "_view_count": null,
      "_view_module": "@jupyter-widgets/base",
      "_view_module_version": "1.2.0",
      "_view_name": "StyleView",
      "description_width": ""
     }
    },
    "66ac5b590adc4c699e113a6433d5763b": {
     "model_module": "@jupyter-widgets/controls",
     "model_module_version": "1.5.0",
     "model_name": "HTMLModel",
     "state": {
      "_dom_classes": [],
      "_model_module": "@jupyter-widgets/controls",
      "_model_module_version": "1.5.0",
      "_model_name": "HTMLModel",
      "_view_count": null,
      "_view_module": "@jupyter-widgets/controls",
      "_view_module_version": "1.5.0",
      "_view_name": "HTMLView",
      "description": "",
      "description_tooltip": null,
      "layout": "IPY_MODEL_f3c4b4e02fc9400fbe94d73d102bec6d",
      "placeholder": "​",
      "style": "IPY_MODEL_fb114f454a644158bf0bf73aebb6c928",
      "value": " 232k/232k [00:00&lt;00:00, 2.26MB/s]"
     }
    },
    "6878f888ee094bf883c7bdf883a1ae54": {
     "model_module": "@jupyter-widgets/controls",
     "model_module_version": "1.5.0",
     "model_name": "HTMLModel",
     "state": {
      "_dom_classes": [],
      "_model_module": "@jupyter-widgets/controls",
      "_model_module_version": "1.5.0",
      "_model_name": "HTMLModel",
      "_view_count": null,
      "_view_module": "@jupyter-widgets/controls",
      "_view_module_version": "1.5.0",
      "_view_name": "HTMLView",
      "description": "",
      "description_tooltip": null,
      "layout": "IPY_MODEL_4252043899794baf8b5dbc7b6a401dc5",
      "placeholder": "​",
      "style": "IPY_MODEL_ac4fb1fb0a6d477bbb2fd9f3097afa04",
      "value": " 17347/17347 [00:20&lt;00:00, 1374.19 examples/s]"
     }
    },
    "695db9f71bc5432d93a1e980a1935b71": {
     "model_module": "@jupyter-widgets/controls",
     "model_module_version": "1.5.0",
     "model_name": "HBoxModel",
     "state": {
      "_dom_classes": [],
      "_model_module": "@jupyter-widgets/controls",
      "_model_module_version": "1.5.0",
      "_model_name": "HBoxModel",
      "_view_count": null,
      "_view_module": "@jupyter-widgets/controls",
      "_view_module_version": "1.5.0",
      "_view_name": "HBoxView",
      "box_style": "",
      "children": [
       "IPY_MODEL_87333971f90c437f8083105c72ae4cc1",
       "IPY_MODEL_f880567785a64e25ba2bc41ab4262406",
       "IPY_MODEL_6d8ad137e5e044d5b63eadecceba6ff5"
      ],
      "layout": "IPY_MODEL_5c468f2e9ff948edb69a4ef08b368b47"
     }
    },
    "69b756a0390a4e2b98d419367bdf2111": {
     "model_module": "@jupyter-widgets/controls",
     "model_module_version": "1.5.0",
     "model_name": "HBoxModel",
     "state": {
      "_dom_classes": [],
      "_model_module": "@jupyter-widgets/controls",
      "_model_module_version": "1.5.0",
      "_model_name": "HBoxModel",
      "_view_count": null,
      "_view_module": "@jupyter-widgets/controls",
      "_view_module_version": "1.5.0",
      "_view_name": "HBoxView",
      "box_style": "",
      "children": [
       "IPY_MODEL_78e5d7cdb9274bc7b95846705c76a40b",
       "IPY_MODEL_32e3be065aaa4d0193be9874fc344560",
       "IPY_MODEL_38f4b52da4d540ae8692839147a54d07"
      ],
      "layout": "IPY_MODEL_d62996c18ffd4177aef4e0e7b1333e9e"
     }
    },
    "69d693b6f064443b8399270a13938aeb": {
     "model_module": "@jupyter-widgets/base",
     "model_module_version": "1.2.0",
     "model_name": "LayoutModel",
     "state": {
      "_model_module": "@jupyter-widgets/base",
      "_model_module_version": "1.2.0",
      "_model_name": "LayoutModel",
      "_view_count": null,
      "_view_module": "@jupyter-widgets/base",
      "_view_module_version": "1.2.0",
      "_view_name": "LayoutView",
      "align_content": null,
      "align_items": null,
      "align_self": null,
      "border": null,
      "bottom": null,
      "display": null,
      "flex": null,
      "flex_flow": null,
      "grid_area": null,
      "grid_auto_columns": null,
      "grid_auto_flow": null,
      "grid_auto_rows": null,
      "grid_column": null,
      "grid_gap": null,
      "grid_row": null,
      "grid_template_areas": null,
      "grid_template_columns": null,
      "grid_template_rows": null,
      "height": null,
      "justify_content": null,
      "justify_items": null,
      "left": null,
      "margin": null,
      "max_height": null,
      "max_width": null,
      "min_height": null,
      "min_width": null,
      "object_fit": null,
      "object_position": null,
      "order": null,
      "overflow": null,
      "overflow_x": null,
      "overflow_y": null,
      "padding": null,
      "right": null,
      "top": null,
      "visibility": null,
      "width": null
     }
    },
    "6ba37eecc887468fa10084dbd13b1746": {
     "model_module": "@jupyter-widgets/controls",
     "model_module_version": "1.5.0",
     "model_name": "ProgressStyleModel",
     "state": {
      "_model_module": "@jupyter-widgets/controls",
      "_model_module_version": "1.5.0",
      "_model_name": "ProgressStyleModel",
      "_view_count": null,
      "_view_module": "@jupyter-widgets/base",
      "_view_module_version": "1.2.0",
      "_view_name": "StyleView",
      "bar_color": null,
      "description_width": ""
     }
    },
    "6c161213d15b455783e271f565b97c35": {
     "model_module": "@jupyter-widgets/controls",
     "model_module_version": "1.5.0",
     "model_name": "ProgressStyleModel",
     "state": {
      "_model_module": "@jupyter-widgets/controls",
      "_model_module_version": "1.5.0",
      "_model_name": "ProgressStyleModel",
      "_view_count": null,
      "_view_module": "@jupyter-widgets/base",
      "_view_module_version": "1.2.0",
      "_view_name": "StyleView",
      "bar_color": null,
      "description_width": ""
     }
    },
    "6cde0dd0c48c43a9a0c8358f640c079f": {
     "model_module": "@jupyter-widgets/controls",
     "model_module_version": "1.5.0",
     "model_name": "ProgressStyleModel",
     "state": {
      "_model_module": "@jupyter-widgets/controls",
      "_model_module_version": "1.5.0",
      "_model_name": "ProgressStyleModel",
      "_view_count": null,
      "_view_module": "@jupyter-widgets/base",
      "_view_module_version": "1.2.0",
      "_view_name": "StyleView",
      "bar_color": null,
      "description_width": ""
     }
    },
    "6d8ad137e5e044d5b63eadecceba6ff5": {
     "model_module": "@jupyter-widgets/controls",
     "model_module_version": "1.5.0",
     "model_name": "HTMLModel",
     "state": {
      "_dom_classes": [],
      "_model_module": "@jupyter-widgets/controls",
      "_model_module_version": "1.5.0",
      "_model_name": "HTMLModel",
      "_view_count": null,
      "_view_module": "@jupyter-widgets/controls",
      "_view_module_version": "1.5.0",
      "_view_name": "HTMLView",
      "description": "",
      "description_tooltip": null,
      "layout": "IPY_MODEL_155762e5ce0a47d886294839dacb7797",
      "placeholder": "​",
      "style": "IPY_MODEL_d7729cebe25b4c7ba4e70096364e0db6",
      "value": " 48.0/48.0 [00:00&lt;00:00, 1.92kB/s]"
     }
    },
    "7026c80e917f4f19b365710d679eb3c9": {
     "model_module": "@jupyter-widgets/controls",
     "model_module_version": "1.5.0",
     "model_name": "DescriptionStyleModel",
     "state": {
      "_model_module": "@jupyter-widgets/controls",
      "_model_module_version": "1.5.0",
      "_model_name": "DescriptionStyleModel",
      "_view_count": null,
      "_view_module": "@jupyter-widgets/base",
      "_view_module_version": "1.2.0",
      "_view_name": "StyleView",
      "description_width": ""
     }
    },
    "724e81ba1fd94916a45e7ed90b40d524": {
     "model_module": "@jupyter-widgets/base",
     "model_module_version": "1.2.0",
     "model_name": "LayoutModel",
     "state": {
      "_model_module": "@jupyter-widgets/base",
      "_model_module_version": "1.2.0",
      "_model_name": "LayoutModel",
      "_view_count": null,
      "_view_module": "@jupyter-widgets/base",
      "_view_module_version": "1.2.0",
      "_view_name": "LayoutView",
      "align_content": null,
      "align_items": null,
      "align_self": null,
      "border": null,
      "bottom": null,
      "display": null,
      "flex": null,
      "flex_flow": null,
      "grid_area": null,
      "grid_auto_columns": null,
      "grid_auto_flow": null,
      "grid_auto_rows": null,
      "grid_column": null,
      "grid_gap": null,
      "grid_row": null,
      "grid_template_areas": null,
      "grid_template_columns": null,
      "grid_template_rows": null,
      "height": null,
      "justify_content": null,
      "justify_items": null,
      "left": null,
      "margin": null,
      "max_height": null,
      "max_width": null,
      "min_height": null,
      "min_width": null,
      "object_fit": null,
      "object_position": null,
      "order": null,
      "overflow": null,
      "overflow_x": null,
      "overflow_y": null,
      "padding": null,
      "right": null,
      "top": null,
      "visibility": null,
      "width": null
     }
    },
    "76693596ba234f349656c92b20b8f2a1": {
     "model_module": "@jupyter-widgets/base",
     "model_module_version": "1.2.0",
     "model_name": "LayoutModel",
     "state": {
      "_model_module": "@jupyter-widgets/base",
      "_model_module_version": "1.2.0",
      "_model_name": "LayoutModel",
      "_view_count": null,
      "_view_module": "@jupyter-widgets/base",
      "_view_module_version": "1.2.0",
      "_view_name": "LayoutView",
      "align_content": null,
      "align_items": null,
      "align_self": null,
      "border": null,
      "bottom": null,
      "display": null,
      "flex": null,
      "flex_flow": null,
      "grid_area": null,
      "grid_auto_columns": null,
      "grid_auto_flow": null,
      "grid_auto_rows": null,
      "grid_column": null,
      "grid_gap": null,
      "grid_row": null,
      "grid_template_areas": null,
      "grid_template_columns": null,
      "grid_template_rows": null,
      "height": null,
      "justify_content": null,
      "justify_items": null,
      "left": null,
      "margin": null,
      "max_height": null,
      "max_width": null,
      "min_height": null,
      "min_width": null,
      "object_fit": null,
      "object_position": null,
      "order": null,
      "overflow": null,
      "overflow_x": null,
      "overflow_y": null,
      "padding": null,
      "right": null,
      "top": null,
      "visibility": null,
      "width": null
     }
    },
    "78e5d7cdb9274bc7b95846705c76a40b": {
     "model_module": "@jupyter-widgets/controls",
     "model_module_version": "1.5.0",
     "model_name": "HTMLModel",
     "state": {
      "_dom_classes": [],
      "_model_module": "@jupyter-widgets/controls",
      "_model_module_version": "1.5.0",
      "_model_name": "HTMLModel",
      "_view_count": null,
      "_view_module": "@jupyter-widgets/controls",
      "_view_module_version": "1.5.0",
      "_view_name": "HTMLView",
      "description": "",
      "description_tooltip": null,
      "layout": "IPY_MODEL_3f7d53e52d79401db484e6489be1ee2f",
      "placeholder": "​",
      "style": "IPY_MODEL_8168768e68884afbaf4ca6dd0adecc28",
      "value": "config.json: 100%"
     }
    },
    "7ddf37c0f823420c98638ded040d33c3": {
     "model_module": "@jupyter-widgets/base",
     "model_module_version": "1.2.0",
     "model_name": "LayoutModel",
     "state": {
      "_model_module": "@jupyter-widgets/base",
      "_model_module_version": "1.2.0",
      "_model_name": "LayoutModel",
      "_view_count": null,
      "_view_module": "@jupyter-widgets/base",
      "_view_module_version": "1.2.0",
      "_view_name": "LayoutView",
      "align_content": null,
      "align_items": null,
      "align_self": null,
      "border": null,
      "bottom": null,
      "display": null,
      "flex": null,
      "flex_flow": null,
      "grid_area": null,
      "grid_auto_columns": null,
      "grid_auto_flow": null,
      "grid_auto_rows": null,
      "grid_column": null,
      "grid_gap": null,
      "grid_row": null,
      "grid_template_areas": null,
      "grid_template_columns": null,
      "grid_template_rows": null,
      "height": null,
      "justify_content": null,
      "justify_items": null,
      "left": null,
      "margin": null,
      "max_height": null,
      "max_width": null,
      "min_height": null,
      "min_width": null,
      "object_fit": null,
      "object_position": null,
      "order": null,
      "overflow": null,
      "overflow_x": null,
      "overflow_y": null,
      "padding": null,
      "right": null,
      "top": null,
      "visibility": null,
      "width": null
     }
    },
    "7f6d2b9a85fc4fc18693bf521de8089f": {
     "model_module": "@jupyter-widgets/base",
     "model_module_version": "1.2.0",
     "model_name": "LayoutModel",
     "state": {
      "_model_module": "@jupyter-widgets/base",
      "_model_module_version": "1.2.0",
      "_model_name": "LayoutModel",
      "_view_count": null,
      "_view_module": "@jupyter-widgets/base",
      "_view_module_version": "1.2.0",
      "_view_name": "LayoutView",
      "align_content": null,
      "align_items": null,
      "align_self": null,
      "border": null,
      "bottom": null,
      "display": null,
      "flex": null,
      "flex_flow": null,
      "grid_area": null,
      "grid_auto_columns": null,
      "grid_auto_flow": null,
      "grid_auto_rows": null,
      "grid_column": null,
      "grid_gap": null,
      "grid_row": null,
      "grid_template_areas": null,
      "grid_template_columns": null,
      "grid_template_rows": null,
      "height": null,
      "justify_content": null,
      "justify_items": null,
      "left": null,
      "margin": null,
      "max_height": null,
      "max_width": null,
      "min_height": null,
      "min_width": null,
      "object_fit": null,
      "object_position": null,
      "order": null,
      "overflow": null,
      "overflow_x": null,
      "overflow_y": null,
      "padding": null,
      "right": null,
      "top": null,
      "visibility": null,
      "width": null
     }
    },
    "8168768e68884afbaf4ca6dd0adecc28": {
     "model_module": "@jupyter-widgets/controls",
     "model_module_version": "1.5.0",
     "model_name": "DescriptionStyleModel",
     "state": {
      "_model_module": "@jupyter-widgets/controls",
      "_model_module_version": "1.5.0",
      "_model_name": "DescriptionStyleModel",
      "_view_count": null,
      "_view_module": "@jupyter-widgets/base",
      "_view_module_version": "1.2.0",
      "_view_name": "StyleView",
      "description_width": ""
     }
    },
    "87333971f90c437f8083105c72ae4cc1": {
     "model_module": "@jupyter-widgets/controls",
     "model_module_version": "1.5.0",
     "model_name": "HTMLModel",
     "state": {
      "_dom_classes": [],
      "_model_module": "@jupyter-widgets/controls",
      "_model_module_version": "1.5.0",
      "_model_name": "HTMLModel",
      "_view_count": null,
      "_view_module": "@jupyter-widgets/controls",
      "_view_module_version": "1.5.0",
      "_view_name": "HTMLView",
      "description": "",
      "description_tooltip": null,
      "layout": "IPY_MODEL_7ddf37c0f823420c98638ded040d33c3",
      "placeholder": "​",
      "style": "IPY_MODEL_e52458213c97486f9e4ecb57663a6720",
      "value": "tokenizer_config.json: 100%"
     }
    },
    "8b57f8226e3143e483a4dea3117cd6a2": {
     "model_module": "@jupyter-widgets/controls",
     "model_module_version": "1.5.0",
     "model_name": "FloatProgressModel",
     "state": {
      "_dom_classes": [],
      "_model_module": "@jupyter-widgets/controls",
      "_model_module_version": "1.5.0",
      "_model_name": "FloatProgressModel",
      "_view_count": null,
      "_view_module": "@jupyter-widgets/controls",
      "_view_module_version": "1.5.0",
      "_view_name": "ProgressView",
      "bar_style": "success",
      "description": "",
      "description_tooltip": null,
      "layout": "IPY_MODEL_69d693b6f064443b8399270a13938aeb",
      "max": 3718,
      "min": 0,
      "orientation": "horizontal",
      "style": "IPY_MODEL_6ba37eecc887468fa10084dbd13b1746",
      "value": 3718
     }
    },
    "8f24a1260b4744da99527ad9a8a45e8d": {
     "model_module": "@jupyter-widgets/base",
     "model_module_version": "1.2.0",
     "model_name": "LayoutModel",
     "state": {
      "_model_module": "@jupyter-widgets/base",
      "_model_module_version": "1.2.0",
      "_model_name": "LayoutModel",
      "_view_count": null,
      "_view_module": "@jupyter-widgets/base",
      "_view_module_version": "1.2.0",
      "_view_name": "LayoutView",
      "align_content": null,
      "align_items": null,
      "align_self": null,
      "border": null,
      "bottom": null,
      "display": null,
      "flex": null,
      "flex_flow": null,
      "grid_area": null,
      "grid_auto_columns": null,
      "grid_auto_flow": null,
      "grid_auto_rows": null,
      "grid_column": null,
      "grid_gap": null,
      "grid_row": null,
      "grid_template_areas": null,
      "grid_template_columns": null,
      "grid_template_rows": null,
      "height": null,
      "justify_content": null,
      "justify_items": null,
      "left": null,
      "margin": null,
      "max_height": null,
      "max_width": null,
      "min_height": null,
      "min_width": null,
      "object_fit": null,
      "object_position": null,
      "order": null,
      "overflow": null,
      "overflow_x": null,
      "overflow_y": null,
      "padding": null,
      "right": null,
      "top": null,
      "visibility": null,
      "width": null
     }
    },
    "918d74127db146648041be4931c3b2b3": {
     "model_module": "@jupyter-widgets/controls",
     "model_module_version": "1.5.0",
     "model_name": "HBoxModel",
     "state": {
      "_dom_classes": [],
      "_model_module": "@jupyter-widgets/controls",
      "_model_module_version": "1.5.0",
      "_model_name": "HBoxModel",
      "_view_count": null,
      "_view_module": "@jupyter-widgets/controls",
      "_view_module_version": "1.5.0",
      "_view_name": "HBoxView",
      "box_style": "",
      "children": [
       "IPY_MODEL_e10782444d4548c9b79233f4bd896947",
       "IPY_MODEL_22cccf8a8b6b4557a01edc2fcc32503f",
       "IPY_MODEL_2bb59ce88df14f6e98faa69d0e7a199c"
      ],
      "layout": "IPY_MODEL_c8f0f0ee30064236b78538d3395ea48e"
     }
    },
    "962797688447411891ac67d15ade8524": {
     "model_module": "@jupyter-widgets/controls",
     "model_module_version": "1.5.0",
     "model_name": "HTMLModel",
     "state": {
      "_dom_classes": [],
      "_model_module": "@jupyter-widgets/controls",
      "_model_module_version": "1.5.0",
      "_model_name": "HTMLModel",
      "_view_count": null,
      "_view_module": "@jupyter-widgets/controls",
      "_view_module_version": "1.5.0",
      "_view_name": "HTMLView",
      "description": "",
      "description_tooltip": null,
      "layout": "IPY_MODEL_199d532cc8dd4777a660abdd79b8fa69",
      "placeholder": "​",
      "style": "IPY_MODEL_f1d7a3c2f2894ee6a3cf033f3adb84b7",
      "value": "Tokenizing test: 100%"
     }
    },
    "98f08c0fd1ae45bba99eb31c83398433": {
     "model_module": "@jupyter-widgets/controls",
     "model_module_version": "1.5.0",
     "model_name": "ProgressStyleModel",
     "state": {
      "_model_module": "@jupyter-widgets/controls",
      "_model_module_version": "1.5.0",
      "_model_name": "ProgressStyleModel",
      "_view_count": null,
      "_view_module": "@jupyter-widgets/base",
      "_view_module_version": "1.2.0",
      "_view_name": "StyleView",
      "bar_color": null,
      "description_width": ""
     }
    },
    "9ddf88c26ecd4ec098d650909b131a96": {
     "model_module": "@jupyter-widgets/base",
     "model_module_version": "1.2.0",
     "model_name": "LayoutModel",
     "state": {
      "_model_module": "@jupyter-widgets/base",
      "_model_module_version": "1.2.0",
      "_model_name": "LayoutModel",
      "_view_count": null,
      "_view_module": "@jupyter-widgets/base",
      "_view_module_version": "1.2.0",
      "_view_name": "LayoutView",
      "align_content": null,
      "align_items": null,
      "align_self": null,
      "border": null,
      "bottom": null,
      "display": null,
      "flex": null,
      "flex_flow": null,
      "grid_area": null,
      "grid_auto_columns": null,
      "grid_auto_flow": null,
      "grid_auto_rows": null,
      "grid_column": null,
      "grid_gap": null,
      "grid_row": null,
      "grid_template_areas": null,
      "grid_template_columns": null,
      "grid_template_rows": null,
      "height": null,
      "justify_content": null,
      "justify_items": null,
      "left": null,
      "margin": null,
      "max_height": null,
      "max_width": null,
      "min_height": null,
      "min_width": null,
      "object_fit": null,
      "object_position": null,
      "order": null,
      "overflow": null,
      "overflow_x": null,
      "overflow_y": null,
      "padding": null,
      "right": null,
      "top": null,
      "visibility": null,
      "width": null
     }
    },
    "9e30146a5bfc4e4098d00104ed9609ae": {
     "model_module": "@jupyter-widgets/controls",
     "model_module_version": "1.5.0",
     "model_name": "DescriptionStyleModel",
     "state": {
      "_model_module": "@jupyter-widgets/controls",
      "_model_module_version": "1.5.0",
      "_model_name": "DescriptionStyleModel",
      "_view_count": null,
      "_view_module": "@jupyter-widgets/base",
      "_view_module_version": "1.2.0",
      "_view_name": "StyleView",
      "description_width": ""
     }
    },
    "a3297799a0574661b069626bbd51a655": {
     "model_module": "@jupyter-widgets/controls",
     "model_module_version": "1.5.0",
     "model_name": "HTMLModel",
     "state": {
      "_dom_classes": [],
      "_model_module": "@jupyter-widgets/controls",
      "_model_module_version": "1.5.0",
      "_model_name": "HTMLModel",
      "_view_count": null,
      "_view_module": "@jupyter-widgets/controls",
      "_view_module_version": "1.5.0",
      "_view_name": "HTMLView",
      "description": "",
      "description_tooltip": null,
      "layout": "IPY_MODEL_493b4d57fd394c9f950d318d958bd076",
      "placeholder": "​",
      "style": "IPY_MODEL_bd8dfd00c52c4c9fa3950a11d4a4a340",
      "value": " 3718/3718 [00:02&lt;00:00, 1575.39 examples/s]"
     }
    },
    "a5ea94ab27d5419f9765657688498392": {
     "model_module": "@jupyter-widgets/base",
     "model_module_version": "1.2.0",
     "model_name": "LayoutModel",
     "state": {
      "_model_module": "@jupyter-widgets/base",
      "_model_module_version": "1.2.0",
      "_model_name": "LayoutModel",
      "_view_count": null,
      "_view_module": "@jupyter-widgets/base",
      "_view_module_version": "1.2.0",
      "_view_name": "LayoutView",
      "align_content": null,
      "align_items": null,
      "align_self": null,
      "border": null,
      "bottom": null,
      "display": null,
      "flex": null,
      "flex_flow": null,
      "grid_area": null,
      "grid_auto_columns": null,
      "grid_auto_flow": null,
      "grid_auto_rows": null,
      "grid_column": null,
      "grid_gap": null,
      "grid_row": null,
      "grid_template_areas": null,
      "grid_template_columns": null,
      "grid_template_rows": null,
      "height": null,
      "justify_content": null,
      "justify_items": null,
      "left": null,
      "margin": null,
      "max_height": null,
      "max_width": null,
      "min_height": null,
      "min_width": null,
      "object_fit": null,
      "object_position": null,
      "order": null,
      "overflow": null,
      "overflow_x": null,
      "overflow_y": null,
      "padding": null,
      "right": null,
      "top": null,
      "visibility": null,
      "width": null
     }
    },
    "a7e20c3f556e4178a3a20ca0b1e785ab": {
     "model_module": "@jupyter-widgets/base",
     "model_module_version": "1.2.0",
     "model_name": "LayoutModel",
     "state": {
      "_model_module": "@jupyter-widgets/base",
      "_model_module_version": "1.2.0",
      "_model_name": "LayoutModel",
      "_view_count": null,
      "_view_module": "@jupyter-widgets/base",
      "_view_module_version": "1.2.0",
      "_view_name": "LayoutView",
      "align_content": null,
      "align_items": null,
      "align_self": null,
      "border": null,
      "bottom": null,
      "display": null,
      "flex": null,
      "flex_flow": null,
      "grid_area": null,
      "grid_auto_columns": null,
      "grid_auto_flow": null,
      "grid_auto_rows": null,
      "grid_column": null,
      "grid_gap": null,
      "grid_row": null,
      "grid_template_areas": null,
      "grid_template_columns": null,
      "grid_template_rows": null,
      "height": null,
      "justify_content": null,
      "justify_items": null,
      "left": null,
      "margin": null,
      "max_height": null,
      "max_width": null,
      "min_height": null,
      "min_width": null,
      "object_fit": null,
      "object_position": null,
      "order": null,
      "overflow": null,
      "overflow_x": null,
      "overflow_y": null,
      "padding": null,
      "right": null,
      "top": null,
      "visibility": null,
      "width": null
     }
    },
    "a8d0183deb0449e18910520d5622d46c": {
     "model_module": "@jupyter-widgets/controls",
     "model_module_version": "1.5.0",
     "model_name": "DescriptionStyleModel",
     "state": {
      "_model_module": "@jupyter-widgets/controls",
      "_model_module_version": "1.5.0",
      "_model_name": "DescriptionStyleModel",
      "_view_count": null,
      "_view_module": "@jupyter-widgets/base",
      "_view_module_version": "1.2.0",
      "_view_name": "StyleView",
      "description_width": ""
     }
    },
    "a91ca653a1f94999a7ed126fb6ba45d7": {
     "model_module": "@jupyter-widgets/base",
     "model_module_version": "1.2.0",
     "model_name": "LayoutModel",
     "state": {
      "_model_module": "@jupyter-widgets/base",
      "_model_module_version": "1.2.0",
      "_model_name": "LayoutModel",
      "_view_count": null,
      "_view_module": "@jupyter-widgets/base",
      "_view_module_version": "1.2.0",
      "_view_name": "LayoutView",
      "align_content": null,
      "align_items": null,
      "align_self": null,
      "border": null,
      "bottom": null,
      "display": null,
      "flex": null,
      "flex_flow": null,
      "grid_area": null,
      "grid_auto_columns": null,
      "grid_auto_flow": null,
      "grid_auto_rows": null,
      "grid_column": null,
      "grid_gap": null,
      "grid_row": null,
      "grid_template_areas": null,
      "grid_template_columns": null,
      "grid_template_rows": null,
      "height": null,
      "justify_content": null,
      "justify_items": null,
      "left": null,
      "margin": null,
      "max_height": null,
      "max_width": null,
      "min_height": null,
      "min_width": null,
      "object_fit": null,
      "object_position": null,
      "order": null,
      "overflow": null,
      "overflow_x": null,
      "overflow_y": null,
      "padding": null,
      "right": null,
      "top": null,
      "visibility": null,
      "width": null
     }
    },
    "a986e74f3eed461fbe235925402f5a4f": {
     "model_module": "@jupyter-widgets/base",
     "model_module_version": "1.2.0",
     "model_name": "LayoutModel",
     "state": {
      "_model_module": "@jupyter-widgets/base",
      "_model_module_version": "1.2.0",
      "_model_name": "LayoutModel",
      "_view_count": null,
      "_view_module": "@jupyter-widgets/base",
      "_view_module_version": "1.2.0",
      "_view_name": "LayoutView",
      "align_content": null,
      "align_items": null,
      "align_self": null,
      "border": null,
      "bottom": null,
      "display": null,
      "flex": null,
      "flex_flow": null,
      "grid_area": null,
      "grid_auto_columns": null,
      "grid_auto_flow": null,
      "grid_auto_rows": null,
      "grid_column": null,
      "grid_gap": null,
      "grid_row": null,
      "grid_template_areas": null,
      "grid_template_columns": null,
      "grid_template_rows": null,
      "height": null,
      "justify_content": null,
      "justify_items": null,
      "left": null,
      "margin": null,
      "max_height": null,
      "max_width": null,
      "min_height": null,
      "min_width": null,
      "object_fit": null,
      "object_position": null,
      "order": null,
      "overflow": null,
      "overflow_x": null,
      "overflow_y": null,
      "padding": null,
      "right": null,
      "top": null,
      "visibility": null,
      "width": null
     }
    },
    "a9afe381dc4f43dd8c6a07437c055544": {
     "model_module": "@jupyter-widgets/controls",
     "model_module_version": "1.5.0",
     "model_name": "DescriptionStyleModel",
     "state": {
      "_model_module": "@jupyter-widgets/controls",
      "_model_module_version": "1.5.0",
      "_model_name": "DescriptionStyleModel",
      "_view_count": null,
      "_view_module": "@jupyter-widgets/base",
      "_view_module_version": "1.2.0",
      "_view_name": "StyleView",
      "description_width": ""
     }
    },
    "aaff78294c494b51959569d8460c159e": {
     "model_module": "@jupyter-widgets/controls",
     "model_module_version": "1.5.0",
     "model_name": "DescriptionStyleModel",
     "state": {
      "_model_module": "@jupyter-widgets/controls",
      "_model_module_version": "1.5.0",
      "_model_name": "DescriptionStyleModel",
      "_view_count": null,
      "_view_module": "@jupyter-widgets/base",
      "_view_module_version": "1.2.0",
      "_view_name": "StyleView",
      "description_width": ""
     }
    },
    "ac4fb1fb0a6d477bbb2fd9f3097afa04": {
     "model_module": "@jupyter-widgets/controls",
     "model_module_version": "1.5.0",
     "model_name": "DescriptionStyleModel",
     "state": {
      "_model_module": "@jupyter-widgets/controls",
      "_model_module_version": "1.5.0",
      "_model_name": "DescriptionStyleModel",
      "_view_count": null,
      "_view_module": "@jupyter-widgets/base",
      "_view_module_version": "1.2.0",
      "_view_name": "StyleView",
      "description_width": ""
     }
    },
    "b0ead5a9e75542d98464d52953d2f247": {
     "model_module": "@jupyter-widgets/controls",
     "model_module_version": "1.5.0",
     "model_name": "ProgressStyleModel",
     "state": {
      "_model_module": "@jupyter-widgets/controls",
      "_model_module_version": "1.5.0",
      "_model_name": "ProgressStyleModel",
      "_view_count": null,
      "_view_module": "@jupyter-widgets/base",
      "_view_module_version": "1.2.0",
      "_view_name": "StyleView",
      "bar_color": null,
      "description_width": ""
     }
    },
    "bbb468bf940f4474b88883950a6f48ab": {
     "model_module": "@jupyter-widgets/controls",
     "model_module_version": "1.5.0",
     "model_name": "HTMLModel",
     "state": {
      "_dom_classes": [],
      "_model_module": "@jupyter-widgets/controls",
      "_model_module_version": "1.5.0",
      "_model_name": "HTMLModel",
      "_view_count": null,
      "_view_module": "@jupyter-widgets/controls",
      "_view_module_version": "1.5.0",
      "_view_name": "HTMLView",
      "description": "",
      "description_tooltip": null,
      "layout": "IPY_MODEL_4a57f533ba0c4e4c8dae313a6010a495",
      "placeholder": "​",
      "style": "IPY_MODEL_3f6b07ac91ee4ad8a8a814d22b5cbeaf",
      "value": " 440M/440M [00:11&lt;00:00, 55.7MB/s]"
     }
    },
    "bd8dfd00c52c4c9fa3950a11d4a4a340": {
     "model_module": "@jupyter-widgets/controls",
     "model_module_version": "1.5.0",
     "model_name": "DescriptionStyleModel",
     "state": {
      "_model_module": "@jupyter-widgets/controls",
      "_model_module_version": "1.5.0",
      "_model_name": "DescriptionStyleModel",
      "_view_count": null,
      "_view_module": "@jupyter-widgets/base",
      "_view_module_version": "1.2.0",
      "_view_name": "StyleView",
      "description_width": ""
     }
    },
    "bec4ecc6a157476f8a7dc028d9ef5716": {
     "model_module": "@jupyter-widgets/base",
     "model_module_version": "1.2.0",
     "model_name": "LayoutModel",
     "state": {
      "_model_module": "@jupyter-widgets/base",
      "_model_module_version": "1.2.0",
      "_model_name": "LayoutModel",
      "_view_count": null,
      "_view_module": "@jupyter-widgets/base",
      "_view_module_version": "1.2.0",
      "_view_name": "LayoutView",
      "align_content": null,
      "align_items": null,
      "align_self": null,
      "border": null,
      "bottom": null,
      "display": null,
      "flex": null,
      "flex_flow": null,
      "grid_area": null,
      "grid_auto_columns": null,
      "grid_auto_flow": null,
      "grid_auto_rows": null,
      "grid_column": null,
      "grid_gap": null,
      "grid_row": null,
      "grid_template_areas": null,
      "grid_template_columns": null,
      "grid_template_rows": null,
      "height": null,
      "justify_content": null,
      "justify_items": null,
      "left": null,
      "margin": null,
      "max_height": null,
      "max_width": null,
      "min_height": null,
      "min_width": null,
      "object_fit": null,
      "object_position": null,
      "order": null,
      "overflow": null,
      "overflow_x": null,
      "overflow_y": null,
      "padding": null,
      "right": null,
      "top": null,
      "visibility": null,
      "width": null
     }
    },
    "bf72b38f0e1d42c38f427e131afac908": {
     "model_module": "@jupyter-widgets/controls",
     "model_module_version": "1.5.0",
     "model_name": "FloatProgressModel",
     "state": {
      "_dom_classes": [],
      "_model_module": "@jupyter-widgets/controls",
      "_model_module_version": "1.5.0",
      "_model_name": "FloatProgressModel",
      "_view_count": null,
      "_view_module": "@jupyter-widgets/controls",
      "_view_module_version": "1.5.0",
      "_view_name": "ProgressView",
      "bar_style": "success",
      "description": "",
      "description_tooltip": null,
      "layout": "IPY_MODEL_fef04bbf8b7d49ccbc4af8f07c8955f1",
      "max": 466062,
      "min": 0,
      "orientation": "horizontal",
      "style": "IPY_MODEL_b0ead5a9e75542d98464d52953d2f247",
      "value": 466062
     }
    },
    "c08f27386cf94df7a33b85d341ed93e3": {
     "model_module": "@jupyter-widgets/controls",
     "model_module_version": "1.5.0",
     "model_name": "FloatProgressModel",
     "state": {
      "_dom_classes": [],
      "_model_module": "@jupyter-widgets/controls",
      "_model_module_version": "1.5.0",
      "_model_name": "FloatProgressModel",
      "_view_count": null,
      "_view_module": "@jupyter-widgets/controls",
      "_view_module_version": "1.5.0",
      "_view_name": "ProgressView",
      "bar_style": "success",
      "description": "",
      "description_tooltip": null,
      "layout": "IPY_MODEL_a986e74f3eed461fbe235925402f5a4f",
      "max": 17347,
      "min": 0,
      "orientation": "horizontal",
      "style": "IPY_MODEL_cc65ccb2ff4348128897cc6dec93eca4",
      "value": 17347
     }
    },
    "c8e59a9c1fa94de39dcc446d76766962": {
     "model_module": "@jupyter-widgets/base",
     "model_module_version": "1.2.0",
     "model_name": "LayoutModel",
     "state": {
      "_model_module": "@jupyter-widgets/base",
      "_model_module_version": "1.2.0",
      "_model_name": "LayoutModel",
      "_view_count": null,
      "_view_module": "@jupyter-widgets/base",
      "_view_module_version": "1.2.0",
      "_view_name": "LayoutView",
      "align_content": null,
      "align_items": null,
      "align_self": null,
      "border": null,
      "bottom": null,
      "display": null,
      "flex": null,
      "flex_flow": null,
      "grid_area": null,
      "grid_auto_columns": null,
      "grid_auto_flow": null,
      "grid_auto_rows": null,
      "grid_column": null,
      "grid_gap": null,
      "grid_row": null,
      "grid_template_areas": null,
      "grid_template_columns": null,
      "grid_template_rows": null,
      "height": null,
      "justify_content": null,
      "justify_items": null,
      "left": null,
      "margin": null,
      "max_height": null,
      "max_width": null,
      "min_height": null,
      "min_width": null,
      "object_fit": null,
      "object_position": null,
      "order": null,
      "overflow": null,
      "overflow_x": null,
      "overflow_y": null,
      "padding": null,
      "right": null,
      "top": null,
      "visibility": null,
      "width": null
     }
    },
    "c8f0f0ee30064236b78538d3395ea48e": {
     "model_module": "@jupyter-widgets/base",
     "model_module_version": "1.2.0",
     "model_name": "LayoutModel",
     "state": {
      "_model_module": "@jupyter-widgets/base",
      "_model_module_version": "1.2.0",
      "_model_name": "LayoutModel",
      "_view_count": null,
      "_view_module": "@jupyter-widgets/base",
      "_view_module_version": "1.2.0",
      "_view_name": "LayoutView",
      "align_content": null,
      "align_items": null,
      "align_self": null,
      "border": null,
      "bottom": null,
      "display": null,
      "flex": null,
      "flex_flow": null,
      "grid_area": null,
      "grid_auto_columns": null,
      "grid_auto_flow": null,
      "grid_auto_rows": null,
      "grid_column": null,
      "grid_gap": null,
      "grid_row": null,
      "grid_template_areas": null,
      "grid_template_columns": null,
      "grid_template_rows": null,
      "height": null,
      "justify_content": null,
      "justify_items": null,
      "left": null,
      "margin": null,
      "max_height": null,
      "max_width": null,
      "min_height": null,
      "min_width": null,
      "object_fit": null,
      "object_position": null,
      "order": null,
      "overflow": null,
      "overflow_x": null,
      "overflow_y": null,
      "padding": null,
      "right": null,
      "top": null,
      "visibility": null,
      "width": null
     }
    },
    "cc65ccb2ff4348128897cc6dec93eca4": {
     "model_module": "@jupyter-widgets/controls",
     "model_module_version": "1.5.0",
     "model_name": "ProgressStyleModel",
     "state": {
      "_model_module": "@jupyter-widgets/controls",
      "_model_module_version": "1.5.0",
      "_model_name": "ProgressStyleModel",
      "_view_count": null,
      "_view_module": "@jupyter-widgets/base",
      "_view_module_version": "1.2.0",
      "_view_name": "StyleView",
      "bar_color": null,
      "description_width": ""
     }
    },
    "cf590335a2f948d2aaee096f8e6df0f3": {
     "model_module": "@jupyter-widgets/base",
     "model_module_version": "1.2.0",
     "model_name": "LayoutModel",
     "state": {
      "_model_module": "@jupyter-widgets/base",
      "_model_module_version": "1.2.0",
      "_model_name": "LayoutModel",
      "_view_count": null,
      "_view_module": "@jupyter-widgets/base",
      "_view_module_version": "1.2.0",
      "_view_name": "LayoutView",
      "align_content": null,
      "align_items": null,
      "align_self": null,
      "border": null,
      "bottom": null,
      "display": null,
      "flex": null,
      "flex_flow": null,
      "grid_area": null,
      "grid_auto_columns": null,
      "grid_auto_flow": null,
      "grid_auto_rows": null,
      "grid_column": null,
      "grid_gap": null,
      "grid_row": null,
      "grid_template_areas": null,
      "grid_template_columns": null,
      "grid_template_rows": null,
      "height": null,
      "justify_content": null,
      "justify_items": null,
      "left": null,
      "margin": null,
      "max_height": null,
      "max_width": null,
      "min_height": null,
      "min_width": null,
      "object_fit": null,
      "object_position": null,
      "order": null,
      "overflow": null,
      "overflow_x": null,
      "overflow_y": null,
      "padding": null,
      "right": null,
      "top": null,
      "visibility": null,
      "width": null
     }
    },
    "d62996c18ffd4177aef4e0e7b1333e9e": {
     "model_module": "@jupyter-widgets/base",
     "model_module_version": "1.2.0",
     "model_name": "LayoutModel",
     "state": {
      "_model_module": "@jupyter-widgets/base",
      "_model_module_version": "1.2.0",
      "_model_name": "LayoutModel",
      "_view_count": null,
      "_view_module": "@jupyter-widgets/base",
      "_view_module_version": "1.2.0",
      "_view_name": "LayoutView",
      "align_content": null,
      "align_items": null,
      "align_self": null,
      "border": null,
      "bottom": null,
      "display": null,
      "flex": null,
      "flex_flow": null,
      "grid_area": null,
      "grid_auto_columns": null,
      "grid_auto_flow": null,
      "grid_auto_rows": null,
      "grid_column": null,
      "grid_gap": null,
      "grid_row": null,
      "grid_template_areas": null,
      "grid_template_columns": null,
      "grid_template_rows": null,
      "height": null,
      "justify_content": null,
      "justify_items": null,
      "left": null,
      "margin": null,
      "max_height": null,
      "max_width": null,
      "min_height": null,
      "min_width": null,
      "object_fit": null,
      "object_position": null,
      "order": null,
      "overflow": null,
      "overflow_x": null,
      "overflow_y": null,
      "padding": null,
      "right": null,
      "top": null,
      "visibility": null,
      "width": null
     }
    },
    "d7729cebe25b4c7ba4e70096364e0db6": {
     "model_module": "@jupyter-widgets/controls",
     "model_module_version": "1.5.0",
     "model_name": "DescriptionStyleModel",
     "state": {
      "_model_module": "@jupyter-widgets/controls",
      "_model_module_version": "1.5.0",
      "_model_name": "DescriptionStyleModel",
      "_view_count": null,
      "_view_module": "@jupyter-widgets/base",
      "_view_module_version": "1.2.0",
      "_view_name": "StyleView",
      "description_width": ""
     }
    },
    "dd6ff3d8d59f41f1910e76f7e1cc4bb6": {
     "model_module": "@jupyter-widgets/controls",
     "model_module_version": "1.5.0",
     "model_name": "ProgressStyleModel",
     "state": {
      "_model_module": "@jupyter-widgets/controls",
      "_model_module_version": "1.5.0",
      "_model_name": "ProgressStyleModel",
      "_view_count": null,
      "_view_module": "@jupyter-widgets/base",
      "_view_module_version": "1.2.0",
      "_view_name": "StyleView",
      "bar_color": null,
      "description_width": ""
     }
    },
    "dfef25eec1284b2483def4a80d4183ba": {
     "model_module": "@jupyter-widgets/controls",
     "model_module_version": "1.5.0",
     "model_name": "HBoxModel",
     "state": {
      "_dom_classes": [],
      "_model_module": "@jupyter-widgets/controls",
      "_model_module_version": "1.5.0",
      "_model_name": "HBoxModel",
      "_view_count": null,
      "_view_module": "@jupyter-widgets/controls",
      "_view_module_version": "1.5.0",
      "_view_name": "HBoxView",
      "box_style": "",
      "children": [
       "IPY_MODEL_49ac5b05a40149b584aba325f9c980e4",
       "IPY_MODEL_07add0f5d9da4e1fbe27ae9bfd95ed52",
       "IPY_MODEL_bbb468bf940f4474b88883950a6f48ab"
      ],
      "layout": "IPY_MODEL_5dced133cb99471da207a07143013d77"
     }
    },
    "e10782444d4548c9b79233f4bd896947": {
     "model_module": "@jupyter-widgets/controls",
     "model_module_version": "1.5.0",
     "model_name": "HTMLModel",
     "state": {
      "_dom_classes": [],
      "_model_module": "@jupyter-widgets/controls",
      "_model_module_version": "1.5.0",
      "_model_name": "HTMLModel",
      "_view_count": null,
      "_view_module": "@jupyter-widgets/controls",
      "_view_module_version": "1.5.0",
      "_view_name": "HTMLView",
      "description": "",
      "description_tooltip": null,
      "layout": "IPY_MODEL_e4859837d6c44ddfa77ed65a72e7d7be",
      "placeholder": "​",
      "style": "IPY_MODEL_aaff78294c494b51959569d8460c159e",
      "value": "Tokenizing augmented train: 100%"
     }
    },
    "e12c4154fb644a31a5f7444a3339bfee": {
     "model_module": "@jupyter-widgets/controls",
     "model_module_version": "1.5.0",
     "model_name": "DescriptionStyleModel",
     "state": {
      "_model_module": "@jupyter-widgets/controls",
      "_model_module_version": "1.5.0",
      "_model_name": "DescriptionStyleModel",
      "_view_count": null,
      "_view_module": "@jupyter-widgets/base",
      "_view_module_version": "1.2.0",
      "_view_name": "StyleView",
      "description_width": ""
     }
    },
    "e349990026554b5788f97ddc75127d67": {
     "model_module": "@jupyter-widgets/base",
     "model_module_version": "1.2.0",
     "model_name": "LayoutModel",
     "state": {
      "_model_module": "@jupyter-widgets/base",
      "_model_module_version": "1.2.0",
      "_model_name": "LayoutModel",
      "_view_count": null,
      "_view_module": "@jupyter-widgets/base",
      "_view_module_version": "1.2.0",
      "_view_name": "LayoutView",
      "align_content": null,
      "align_items": null,
      "align_self": null,
      "border": null,
      "bottom": null,
      "display": null,
      "flex": null,
      "flex_flow": null,
      "grid_area": null,
      "grid_auto_columns": null,
      "grid_auto_flow": null,
      "grid_auto_rows": null,
      "grid_column": null,
      "grid_gap": null,
      "grid_row": null,
      "grid_template_areas": null,
      "grid_template_columns": null,
      "grid_template_rows": null,
      "height": null,
      "justify_content": null,
      "justify_items": null,
      "left": null,
      "margin": null,
      "max_height": null,
      "max_width": null,
      "min_height": null,
      "min_width": null,
      "object_fit": null,
      "object_position": null,
      "order": null,
      "overflow": null,
      "overflow_x": null,
      "overflow_y": null,
      "padding": null,
      "right": null,
      "top": null,
      "visibility": null,
      "width": null
     }
    },
    "e4859837d6c44ddfa77ed65a72e7d7be": {
     "model_module": "@jupyter-widgets/base",
     "model_module_version": "1.2.0",
     "model_name": "LayoutModel",
     "state": {
      "_model_module": "@jupyter-widgets/base",
      "_model_module_version": "1.2.0",
      "_model_name": "LayoutModel",
      "_view_count": null,
      "_view_module": "@jupyter-widgets/base",
      "_view_module_version": "1.2.0",
      "_view_name": "LayoutView",
      "align_content": null,
      "align_items": null,
      "align_self": null,
      "border": null,
      "bottom": null,
      "display": null,
      "flex": null,
      "flex_flow": null,
      "grid_area": null,
      "grid_auto_columns": null,
      "grid_auto_flow": null,
      "grid_auto_rows": null,
      "grid_column": null,
      "grid_gap": null,
      "grid_row": null,
      "grid_template_areas": null,
      "grid_template_columns": null,
      "grid_template_rows": null,
      "height": null,
      "justify_content": null,
      "justify_items": null,
      "left": null,
      "margin": null,
      "max_height": null,
      "max_width": null,
      "min_height": null,
      "min_width": null,
      "object_fit": null,
      "object_position": null,
      "order": null,
      "overflow": null,
      "overflow_x": null,
      "overflow_y": null,
      "padding": null,
      "right": null,
      "top": null,
      "visibility": null,
      "width": null
     }
    },
    "e52458213c97486f9e4ecb57663a6720": {
     "model_module": "@jupyter-widgets/controls",
     "model_module_version": "1.5.0",
     "model_name": "DescriptionStyleModel",
     "state": {
      "_model_module": "@jupyter-widgets/controls",
      "_model_module_version": "1.5.0",
      "_model_name": "DescriptionStyleModel",
      "_view_count": null,
      "_view_module": "@jupyter-widgets/base",
      "_view_module_version": "1.2.0",
      "_view_name": "StyleView",
      "description_width": ""
     }
    },
    "e56664e53f5a4a7daf0f7e1327f7a89f": {
     "model_module": "@jupyter-widgets/controls",
     "model_module_version": "1.5.0",
     "model_name": "ProgressStyleModel",
     "state": {
      "_model_module": "@jupyter-widgets/controls",
      "_model_module_version": "1.5.0",
      "_model_name": "ProgressStyleModel",
      "_view_count": null,
      "_view_module": "@jupyter-widgets/base",
      "_view_module_version": "1.2.0",
      "_view_name": "StyleView",
      "bar_color": null,
      "description_width": ""
     }
    },
    "ed7198e6d44b422abdb05b0047866b6e": {
     "model_module": "@jupyter-widgets/controls",
     "model_module_version": "1.5.0",
     "model_name": "DescriptionStyleModel",
     "state": {
      "_model_module": "@jupyter-widgets/controls",
      "_model_module_version": "1.5.0",
      "_model_name": "DescriptionStyleModel",
      "_view_count": null,
      "_view_module": "@jupyter-widgets/base",
      "_view_module_version": "1.2.0",
      "_view_name": "StyleView",
      "description_width": ""
     }
    },
    "f07a6ae988fe4fb1a04f6a0c48d4a36a": {
     "model_module": "@jupyter-widgets/controls",
     "model_module_version": "1.5.0",
     "model_name": "HBoxModel",
     "state": {
      "_dom_classes": [],
      "_model_module": "@jupyter-widgets/controls",
      "_model_module_version": "1.5.0",
      "_model_name": "HBoxModel",
      "_view_count": null,
      "_view_module": "@jupyter-widgets/controls",
      "_view_module_version": "1.5.0",
      "_view_name": "HBoxView",
      "box_style": "",
      "children": [
       "IPY_MODEL_61f798f0b2144d82850d775d579ae132",
       "IPY_MODEL_bf72b38f0e1d42c38f427e131afac908",
       "IPY_MODEL_353b38b41dbc41edb2fd84a7c0c8d8f6"
      ],
      "layout": "IPY_MODEL_01f108f9e049429faac90eaba926b5d0"
     }
    },
    "f19dd3beb29d4155b865e65c83c31ed8": {
     "model_module": "@jupyter-widgets/controls",
     "model_module_version": "1.5.0",
     "model_name": "HBoxModel",
     "state": {
      "_dom_classes": [],
      "_model_module": "@jupyter-widgets/controls",
      "_model_module_version": "1.5.0",
      "_model_name": "HBoxModel",
      "_view_count": null,
      "_view_module": "@jupyter-widgets/controls",
      "_view_module_version": "1.5.0",
      "_view_name": "HBoxView",
      "box_style": "",
      "children": [
       "IPY_MODEL_f1ed9826ce634d8cab16d2e9e2d44840",
       "IPY_MODEL_fef5d07985f44b438327ea93389e602d",
       "IPY_MODEL_66ac5b590adc4c699e113a6433d5763b"
      ],
      "layout": "IPY_MODEL_c8e59a9c1fa94de39dcc446d76766962"
     }
    },
    "f1d7a3c2f2894ee6a3cf033f3adb84b7": {
     "model_module": "@jupyter-widgets/controls",
     "model_module_version": "1.5.0",
     "model_name": "DescriptionStyleModel",
     "state": {
      "_model_module": "@jupyter-widgets/controls",
      "_model_module_version": "1.5.0",
      "_model_name": "DescriptionStyleModel",
      "_view_count": null,
      "_view_module": "@jupyter-widgets/base",
      "_view_module_version": "1.2.0",
      "_view_name": "StyleView",
      "description_width": ""
     }
    },
    "f1ed9826ce634d8cab16d2e9e2d44840": {
     "model_module": "@jupyter-widgets/controls",
     "model_module_version": "1.5.0",
     "model_name": "HTMLModel",
     "state": {
      "_dom_classes": [],
      "_model_module": "@jupyter-widgets/controls",
      "_model_module_version": "1.5.0",
      "_model_name": "HTMLModel",
      "_view_count": null,
      "_view_module": "@jupyter-widgets/controls",
      "_view_module_version": "1.5.0",
      "_view_name": "HTMLView",
      "description": "",
      "description_tooltip": null,
      "layout": "IPY_MODEL_8f24a1260b4744da99527ad9a8a45e8d",
      "placeholder": "​",
      "style": "IPY_MODEL_9e30146a5bfc4e4098d00104ed9609ae",
      "value": "vocab.txt: 100%"
     }
    },
    "f3c4b4e02fc9400fbe94d73d102bec6d": {
     "model_module": "@jupyter-widgets/base",
     "model_module_version": "1.2.0",
     "model_name": "LayoutModel",
     "state": {
      "_model_module": "@jupyter-widgets/base",
      "_model_module_version": "1.2.0",
      "_model_name": "LayoutModel",
      "_view_count": null,
      "_view_module": "@jupyter-widgets/base",
      "_view_module_version": "1.2.0",
      "_view_name": "LayoutView",
      "align_content": null,
      "align_items": null,
      "align_self": null,
      "border": null,
      "bottom": null,
      "display": null,
      "flex": null,
      "flex_flow": null,
      "grid_area": null,
      "grid_auto_columns": null,
      "grid_auto_flow": null,
      "grid_auto_rows": null,
      "grid_column": null,
      "grid_gap": null,
      "grid_row": null,
      "grid_template_areas": null,
      "grid_template_columns": null,
      "grid_template_rows": null,
      "height": null,
      "justify_content": null,
      "justify_items": null,
      "left": null,
      "margin": null,
      "max_height": null,
      "max_width": null,
      "min_height": null,
      "min_width": null,
      "object_fit": null,
      "object_position": null,
      "order": null,
      "overflow": null,
      "overflow_x": null,
      "overflow_y": null,
      "padding": null,
      "right": null,
      "top": null,
      "visibility": null,
      "width": null
     }
    },
    "f58465a569a24501be09d7731ee28632": {
     "model_module": "@jupyter-widgets/base",
     "model_module_version": "1.2.0",
     "model_name": "LayoutModel",
     "state": {
      "_model_module": "@jupyter-widgets/base",
      "_model_module_version": "1.2.0",
      "_model_name": "LayoutModel",
      "_view_count": null,
      "_view_module": "@jupyter-widgets/base",
      "_view_module_version": "1.2.0",
      "_view_name": "LayoutView",
      "align_content": null,
      "align_items": null,
      "align_self": null,
      "border": null,
      "bottom": null,
      "display": null,
      "flex": null,
      "flex_flow": null,
      "grid_area": null,
      "grid_auto_columns": null,
      "grid_auto_flow": null,
      "grid_auto_rows": null,
      "grid_column": null,
      "grid_gap": null,
      "grid_row": null,
      "grid_template_areas": null,
      "grid_template_columns": null,
      "grid_template_rows": null,
      "height": null,
      "justify_content": null,
      "justify_items": null,
      "left": null,
      "margin": null,
      "max_height": null,
      "max_width": null,
      "min_height": null,
      "min_width": null,
      "object_fit": null,
      "object_position": null,
      "order": null,
      "overflow": null,
      "overflow_x": null,
      "overflow_y": null,
      "padding": null,
      "right": null,
      "top": null,
      "visibility": null,
      "width": null
     }
    },
    "f880567785a64e25ba2bc41ab4262406": {
     "model_module": "@jupyter-widgets/controls",
     "model_module_version": "1.5.0",
     "model_name": "FloatProgressModel",
     "state": {
      "_dom_classes": [],
      "_model_module": "@jupyter-widgets/controls",
      "_model_module_version": "1.5.0",
      "_model_name": "FloatProgressModel",
      "_view_count": null,
      "_view_module": "@jupyter-widgets/controls",
      "_view_module_version": "1.5.0",
      "_view_name": "ProgressView",
      "bar_style": "success",
      "description": "",
      "description_tooltip": null,
      "layout": "IPY_MODEL_724e81ba1fd94916a45e7ed90b40d524",
      "max": 48,
      "min": 0,
      "orientation": "horizontal",
      "style": "IPY_MODEL_e56664e53f5a4a7daf0f7e1327f7a89f",
      "value": 48
     }
    },
    "f96bfe9a15194f55a080acd2213c84c5": {
     "model_module": "@jupyter-widgets/controls",
     "model_module_version": "1.5.0",
     "model_name": "HTMLModel",
     "state": {
      "_dom_classes": [],
      "_model_module": "@jupyter-widgets/controls",
      "_model_module_version": "1.5.0",
      "_model_name": "HTMLModel",
      "_view_count": null,
      "_view_module": "@jupyter-widgets/controls",
      "_view_module_version": "1.5.0",
      "_view_name": "HTMLView",
      "description": "",
      "description_tooltip": null,
      "layout": "IPY_MODEL_13cc7dedb49a46c7a8816302d15a41de",
      "placeholder": "​",
      "style": "IPY_MODEL_a9afe381dc4f43dd8c6a07437c055544",
      "value": "Tokenizing original train: 100%"
     }
    },
    "fa569dd0d06d4157bee7b244256f8a93": {
     "model_module": "@jupyter-widgets/base",
     "model_module_version": "1.2.0",
     "model_name": "LayoutModel",
     "state": {
      "_model_module": "@jupyter-widgets/base",
      "_model_module_version": "1.2.0",
      "_model_name": "LayoutModel",
      "_view_count": null,
      "_view_module": "@jupyter-widgets/base",
      "_view_module_version": "1.2.0",
      "_view_name": "LayoutView",
      "align_content": null,
      "align_items": null,
      "align_self": null,
      "border": null,
      "bottom": null,
      "display": null,
      "flex": null,
      "flex_flow": null,
      "grid_area": null,
      "grid_auto_columns": null,
      "grid_auto_flow": null,
      "grid_auto_rows": null,
      "grid_column": null,
      "grid_gap": null,
      "grid_row": null,
      "grid_template_areas": null,
      "grid_template_columns": null,
      "grid_template_rows": null,
      "height": null,
      "justify_content": null,
      "justify_items": null,
      "left": null,
      "margin": null,
      "max_height": null,
      "max_width": null,
      "min_height": null,
      "min_width": null,
      "object_fit": null,
      "object_position": null,
      "order": null,
      "overflow": null,
      "overflow_x": null,
      "overflow_y": null,
      "padding": null,
      "right": null,
      "top": null,
      "visibility": null,
      "width": null
     }
    },
    "fb114f454a644158bf0bf73aebb6c928": {
     "model_module": "@jupyter-widgets/controls",
     "model_module_version": "1.5.0",
     "model_name": "DescriptionStyleModel",
     "state": {
      "_model_module": "@jupyter-widgets/controls",
      "_model_module_version": "1.5.0",
      "_model_name": "DescriptionStyleModel",
      "_view_count": null,
      "_view_module": "@jupyter-widgets/base",
      "_view_module_version": "1.2.0",
      "_view_name": "StyleView",
      "description_width": ""
     }
    },
    "fef04bbf8b7d49ccbc4af8f07c8955f1": {
     "model_module": "@jupyter-widgets/base",
     "model_module_version": "1.2.0",
     "model_name": "LayoutModel",
     "state": {
      "_model_module": "@jupyter-widgets/base",
      "_model_module_version": "1.2.0",
      "_model_name": "LayoutModel",
      "_view_count": null,
      "_view_module": "@jupyter-widgets/base",
      "_view_module_version": "1.2.0",
      "_view_name": "LayoutView",
      "align_content": null,
      "align_items": null,
      "align_self": null,
      "border": null,
      "bottom": null,
      "display": null,
      "flex": null,
      "flex_flow": null,
      "grid_area": null,
      "grid_auto_columns": null,
      "grid_auto_flow": null,
      "grid_auto_rows": null,
      "grid_column": null,
      "grid_gap": null,
      "grid_row": null,
      "grid_template_areas": null,
      "grid_template_columns": null,
      "grid_template_rows": null,
      "height": null,
      "justify_content": null,
      "justify_items": null,
      "left": null,
      "margin": null,
      "max_height": null,
      "max_width": null,
      "min_height": null,
      "min_width": null,
      "object_fit": null,
      "object_position": null,
      "order": null,
      "overflow": null,
      "overflow_x": null,
      "overflow_y": null,
      "padding": null,
      "right": null,
      "top": null,
      "visibility": null,
      "width": null
     }
    },
    "fef5d07985f44b438327ea93389e602d": {
     "model_module": "@jupyter-widgets/controls",
     "model_module_version": "1.5.0",
     "model_name": "FloatProgressModel",
     "state": {
      "_dom_classes": [],
      "_model_module": "@jupyter-widgets/controls",
      "_model_module_version": "1.5.0",
      "_model_name": "FloatProgressModel",
      "_view_count": null,
      "_view_module": "@jupyter-widgets/controls",
      "_view_module_version": "1.5.0",
      "_view_name": "ProgressView",
      "bar_style": "success",
      "description": "",
      "description_tooltip": null,
      "layout": "IPY_MODEL_5d3dc9c9f5de4207813329d43df62727",
      "max": 231508,
      "min": 0,
      "orientation": "horizontal",
      "style": "IPY_MODEL_98f08c0fd1ae45bba99eb31c83398433",
      "value": 231508
     }
    }
   }
  }
 },
 "nbformat": 4,
 "nbformat_minor": 4
}
